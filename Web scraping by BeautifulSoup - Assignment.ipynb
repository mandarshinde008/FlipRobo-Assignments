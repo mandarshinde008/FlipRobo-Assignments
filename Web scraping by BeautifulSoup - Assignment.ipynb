{
 "cells": [
  {
   "cell_type": "code",
   "execution_count": 67,
   "metadata": {},
   "outputs": [],
   "source": [
    "from bs4 import BeautifulSoup\n",
    "import requests"
   ]
  },
  {
   "cell_type": "markdown",
   "metadata": {},
   "source": [
    "## Q1. Write a python program to display all the header tags from‘en.wikipedia.org/wiki/Main_Page’."
   ]
  },
  {
   "cell_type": "code",
   "execution_count": 79,
   "metadata": {},
   "outputs": [
    {
     "data": {
      "text/plain": [
       "<Response [200]>"
      ]
     },
     "execution_count": 79,
     "metadata": {},
     "output_type": "execute_result"
    }
   ],
   "source": [
    "wiki_page=requests.get('https://en.wikipedia.org/wiki/Main_Page')\n",
    "wiki_page"
   ]
  },
  {
   "cell_type": "code",
   "execution_count": 373,
   "metadata": {},
   "outputs": [],
   "source": [
    "wiki_soup=BeautifulSoup(wiki_page.content)"
   ]
  },
  {
   "cell_type": "code",
   "execution_count": 83,
   "metadata": {},
   "outputs": [
    {
     "data": {
      "text/plain": [
       "['Main Page',\n",
       " \"From today's featured article\",\n",
       " 'Did you know\\xa0...',\n",
       " 'In the news',\n",
       " 'On this day',\n",
       " \"Today's featured picture\",\n",
       " 'Other areas of Wikipedia',\n",
       " \"Wikipedia's sister projects\",\n",
       " 'Wikipedia languages',\n",
       " 'Navigation menu',\n",
       " 'Personal tools',\n",
       " 'Namespaces',\n",
       " 'Variants',\n",
       " 'Views',\n",
       " 'More',\n",
       " 'Search',\n",
       " 'Navigation',\n",
       " 'Contribute',\n",
       " 'Tools',\n",
       " 'Print/export',\n",
       " 'In other projects',\n",
       " 'Languages']"
      ]
     },
     "execution_count": 83,
     "metadata": {},
     "output_type": "execute_result"
    }
   ],
   "source": [
    "headers=wiki_soup.find_all(['h1','h2','h3','h4','h5','h6'])\n",
    "header_tags=[]\n",
    "for i in headers:\n",
    "    header_tags.append(i.text.replace('\\n',''))\n",
    "header_tags"
   ]
  },
  {
   "cell_type": "code",
   "execution_count": 84,
   "metadata": {},
   "outputs": [
    {
     "data": {
      "text/html": [
       "<div>\n",
       "<style scoped>\n",
       "    .dataframe tbody tr th:only-of-type {\n",
       "        vertical-align: middle;\n",
       "    }\n",
       "\n",
       "    .dataframe tbody tr th {\n",
       "        vertical-align: top;\n",
       "    }\n",
       "\n",
       "    .dataframe thead th {\n",
       "        text-align: right;\n",
       "    }\n",
       "</style>\n",
       "<table border=\"1\" class=\"dataframe\">\n",
       "  <thead>\n",
       "    <tr style=\"text-align: right;\">\n",
       "      <th></th>\n",
       "      <th>Headers</th>\n",
       "    </tr>\n",
       "  </thead>\n",
       "  <tbody>\n",
       "    <tr>\n",
       "      <th>0</th>\n",
       "      <td>Main Page</td>\n",
       "    </tr>\n",
       "    <tr>\n",
       "      <th>1</th>\n",
       "      <td>From today's featured article</td>\n",
       "    </tr>\n",
       "    <tr>\n",
       "      <th>2</th>\n",
       "      <td>Did you know ...</td>\n",
       "    </tr>\n",
       "    <tr>\n",
       "      <th>3</th>\n",
       "      <td>In the news</td>\n",
       "    </tr>\n",
       "    <tr>\n",
       "      <th>4</th>\n",
       "      <td>On this day</td>\n",
       "    </tr>\n",
       "    <tr>\n",
       "      <th>5</th>\n",
       "      <td>Today's featured picture</td>\n",
       "    </tr>\n",
       "    <tr>\n",
       "      <th>6</th>\n",
       "      <td>Other areas of Wikipedia</td>\n",
       "    </tr>\n",
       "    <tr>\n",
       "      <th>7</th>\n",
       "      <td>Wikipedia's sister projects</td>\n",
       "    </tr>\n",
       "    <tr>\n",
       "      <th>8</th>\n",
       "      <td>Wikipedia languages</td>\n",
       "    </tr>\n",
       "    <tr>\n",
       "      <th>9</th>\n",
       "      <td>Navigation menu</td>\n",
       "    </tr>\n",
       "    <tr>\n",
       "      <th>10</th>\n",
       "      <td>Personal tools</td>\n",
       "    </tr>\n",
       "    <tr>\n",
       "      <th>11</th>\n",
       "      <td>Namespaces</td>\n",
       "    </tr>\n",
       "    <tr>\n",
       "      <th>12</th>\n",
       "      <td>Variants</td>\n",
       "    </tr>\n",
       "    <tr>\n",
       "      <th>13</th>\n",
       "      <td>Views</td>\n",
       "    </tr>\n",
       "    <tr>\n",
       "      <th>14</th>\n",
       "      <td>More</td>\n",
       "    </tr>\n",
       "    <tr>\n",
       "      <th>15</th>\n",
       "      <td>Search</td>\n",
       "    </tr>\n",
       "    <tr>\n",
       "      <th>16</th>\n",
       "      <td>Navigation</td>\n",
       "    </tr>\n",
       "    <tr>\n",
       "      <th>17</th>\n",
       "      <td>Contribute</td>\n",
       "    </tr>\n",
       "    <tr>\n",
       "      <th>18</th>\n",
       "      <td>Tools</td>\n",
       "    </tr>\n",
       "    <tr>\n",
       "      <th>19</th>\n",
       "      <td>Print/export</td>\n",
       "    </tr>\n",
       "    <tr>\n",
       "      <th>20</th>\n",
       "      <td>In other projects</td>\n",
       "    </tr>\n",
       "    <tr>\n",
       "      <th>21</th>\n",
       "      <td>Languages</td>\n",
       "    </tr>\n",
       "  </tbody>\n",
       "</table>\n",
       "</div>"
      ],
      "text/plain": [
       "                          Headers\n",
       "0                       Main Page\n",
       "1   From today's featured article\n",
       "2                Did you know ...\n",
       "3                     In the news\n",
       "4                     On this day\n",
       "5        Today's featured picture\n",
       "6        Other areas of Wikipedia\n",
       "7     Wikipedia's sister projects\n",
       "8             Wikipedia languages\n",
       "9                 Navigation menu\n",
       "10                 Personal tools\n",
       "11                     Namespaces\n",
       "12                       Variants\n",
       "13                          Views\n",
       "14                           More\n",
       "15                         Search\n",
       "16                     Navigation\n",
       "17                     Contribute\n",
       "18                          Tools\n",
       "19                   Print/export\n",
       "20              In other projects\n",
       "21                      Languages"
      ]
     },
     "execution_count": 84,
     "metadata": {},
     "output_type": "execute_result"
    }
   ],
   "source": [
    "import pandas as pd\n",
    "WikiHeaders=pd.DataFrame()\n",
    "WikiHeaders['Headers']=header_tags\n",
    "WikiHeaders"
   ]
  },
  {
   "cell_type": "markdown",
   "metadata": {},
   "source": [
    "## Q2. Write a python program to display IMDB’s Top rated 100 movies’ data (i.e. Name, IMDB rating, Year of release)."
   ]
  },
  {
   "cell_type": "code",
   "execution_count": 12,
   "metadata": {},
   "outputs": [
    {
     "data": {
      "text/plain": [
       "<Response [200]>"
      ]
     },
     "execution_count": 12,
     "metadata": {},
     "output_type": "execute_result"
    }
   ],
   "source": [
    "IMDB_page=requests.get('https://www.imdb.com/list/ls055592025/')\n",
    "IMDB_page"
   ]
  },
  {
   "cell_type": "code",
   "execution_count": 374,
   "metadata": {},
   "outputs": [],
   "source": [
    "IMDB_soup=BeautifulSoup(IMDB_page.content)"
   ]
  },
  {
   "cell_type": "code",
   "execution_count": 462,
   "metadata": {},
   "outputs": [],
   "source": [
    "name=IMDB_soup.find_all('h3',class_=\"lister-item-header\")"
   ]
  },
  {
   "cell_type": "code",
   "execution_count": 20,
   "metadata": {},
   "outputs": [
    {
     "data": {
      "text/plain": [
       "['The Godfather',\n",
       " 'The Shawshank Redemption',\n",
       " \"Schindler's List\",\n",
       " 'Raging Bull',\n",
       " 'Casablanca',\n",
       " 'Citizen Kane',\n",
       " 'Gone with the Wind',\n",
       " 'The Wizard of Oz',\n",
       " \"One Flew Over the Cuckoo's Nest\",\n",
       " 'Lawrence of Arabia',\n",
       " 'Vertigo',\n",
       " 'Psycho',\n",
       " 'The Godfather: Part II',\n",
       " 'On the Waterfront',\n",
       " 'Sunset Blvd.',\n",
       " 'Forrest Gump',\n",
       " 'The Sound of Music',\n",
       " '12 Angry Men',\n",
       " 'West Side Story',\n",
       " 'Star Wars',\n",
       " '2001: A Space Odyssey',\n",
       " 'E.T. the Extra-Terrestrial',\n",
       " 'The Silence of the Lambs',\n",
       " 'Chinatown',\n",
       " 'The Bridge on the River Kwai',\n",
       " \"Singin' in the Rain\",\n",
       " \"It's a Wonderful Life\",\n",
       " 'Dr. Strangelove or: How I Learned to Stop Worrying and Love the Bomb',\n",
       " 'Some Like It Hot',\n",
       " 'Ben-Hur',\n",
       " 'Apocalypse Now',\n",
       " 'Amadeus',\n",
       " 'The Lord of the Rings: The Return of the King',\n",
       " 'Gladiator',\n",
       " 'Titanic',\n",
       " 'From Here to Eternity',\n",
       " 'Saving Private Ryan',\n",
       " 'Unforgiven',\n",
       " 'Raiders of the Lost Ark',\n",
       " 'Rocky',\n",
       " 'A Streetcar Named Desire',\n",
       " 'The Philadelphia Story',\n",
       " 'To Kill a Mockingbird',\n",
       " 'An American in Paris',\n",
       " 'The Best Years of Our Lives',\n",
       " 'My Fair Lady',\n",
       " 'A Clockwork Orange',\n",
       " 'Doctor Zhivago',\n",
       " 'The Searchers',\n",
       " 'Jaws',\n",
       " 'Patton',\n",
       " 'Butch Cassidy and the Sundance Kid',\n",
       " 'The Treasure of the Sierra Madre',\n",
       " 'Il buono, il brutto, il cattivo',\n",
       " 'The Apartment',\n",
       " 'Platoon',\n",
       " 'High Noon',\n",
       " 'Braveheart',\n",
       " 'Dances with Wolves',\n",
       " 'Jurassic Park',\n",
       " 'The Exorcist',\n",
       " 'The Pianist',\n",
       " 'Goodfellas',\n",
       " 'The Deer Hunter',\n",
       " 'All Quiet on the Western Front',\n",
       " 'Bonnie and Clyde',\n",
       " 'The French Connection',\n",
       " 'City Lights',\n",
       " 'It Happened One Night',\n",
       " 'A Place in the Sun',\n",
       " 'Midnight Cowboy',\n",
       " 'Mr. Smith Goes to Washington',\n",
       " 'Rain Man',\n",
       " 'Annie Hall',\n",
       " 'Fargo',\n",
       " 'Giant',\n",
       " 'Shane',\n",
       " 'The Grapes of Wrath',\n",
       " 'The Green Mile',\n",
       " 'Close Encounters of the Third Kind',\n",
       " 'Nashville',\n",
       " 'Network',\n",
       " 'The Graduate',\n",
       " 'American Graffiti',\n",
       " 'Pulp Fiction',\n",
       " 'Terms of Endearment',\n",
       " 'Good Will Hunting',\n",
       " 'The African Queen',\n",
       " 'Stagecoach',\n",
       " 'Mutiny on the Bounty',\n",
       " 'The Great Dictator',\n",
       " 'Double Indemnity',\n",
       " 'The Maltese Falcon',\n",
       " 'Wuthering Heights',\n",
       " 'Taxi Driver',\n",
       " 'Rear Window',\n",
       " 'The Third Man',\n",
       " 'Rebel Without a Cause',\n",
       " 'North by Northwest',\n",
       " 'Yankee Doodle Dandy']"
      ]
     },
     "execution_count": 20,
     "metadata": {},
     "output_type": "execute_result"
    }
   ],
   "source": [
    "name_list=[]\n",
    "for i in name:\n",
    "    for j in i.find_all('a'):\n",
    "        name_list.append(j.text.replace('\\n',''))\n",
    "name_list"
   ]
  },
  {
   "cell_type": "code",
   "execution_count": 21,
   "metadata": {},
   "outputs": [
    {
     "data": {
      "text/plain": [
       "100"
      ]
     },
     "execution_count": 21,
     "metadata": {},
     "output_type": "execute_result"
    }
   ],
   "source": [
    "len(name_list)"
   ]
  },
  {
   "cell_type": "code",
   "execution_count": 22,
   "metadata": {},
   "outputs": [
    {
     "data": {
      "text/plain": [
       "['(1972)',\n",
       " '(1994)',\n",
       " '(1993)',\n",
       " '(1980)',\n",
       " '(1942)',\n",
       " '(1941)',\n",
       " '(1939)',\n",
       " '(1939)',\n",
       " '(1975)',\n",
       " '(1962)',\n",
       " '(1958)',\n",
       " '(1960)',\n",
       " '(1974)',\n",
       " '(1954)',\n",
       " '(1950)',\n",
       " '(1994)',\n",
       " '(1965)',\n",
       " '(1957)',\n",
       " '(1961)',\n",
       " '(1977)',\n",
       " '(1968)',\n",
       " '(1982)',\n",
       " '(1991)',\n",
       " '(1974)',\n",
       " '(1957)',\n",
       " '(1952)',\n",
       " '(1946)',\n",
       " '(1964)',\n",
       " '(1959)',\n",
       " '(1959)',\n",
       " '(1979)',\n",
       " '(1984)',\n",
       " '(2003)',\n",
       " '(2000)',\n",
       " '(1997)',\n",
       " '(1953)',\n",
       " '(1998)',\n",
       " '(1992)',\n",
       " '(1981)',\n",
       " '(1976)',\n",
       " '(1951)',\n",
       " '(1940)',\n",
       " '(1962)',\n",
       " '(1951)',\n",
       " '(1946)',\n",
       " '(1964)',\n",
       " '(1971)',\n",
       " '(1965)',\n",
       " '(1956)',\n",
       " '(1975)',\n",
       " '(1970)',\n",
       " '(1969)',\n",
       " '(1948)',\n",
       " '(1966)',\n",
       " '(1960)',\n",
       " '(1986)',\n",
       " '(1952)',\n",
       " '(1995)',\n",
       " '(1990)',\n",
       " '(1993)',\n",
       " '(1973)',\n",
       " '(2002)',\n",
       " '(1990)',\n",
       " '(1978)',\n",
       " '(1930)',\n",
       " '(1967)',\n",
       " '(1971)',\n",
       " '(1931)',\n",
       " '(1934)',\n",
       " '(1951)',\n",
       " '(1969)',\n",
       " '(1939)',\n",
       " '(1988)',\n",
       " '(1977)',\n",
       " '(1996)',\n",
       " '(1956)',\n",
       " '(1953)',\n",
       " '(1940)',\n",
       " '(1999)',\n",
       " '(1977)',\n",
       " '(1975)',\n",
       " '(1976)',\n",
       " '(1967)',\n",
       " '(1973)',\n",
       " '(1994)',\n",
       " '(1983)',\n",
       " '(1997)',\n",
       " '(1951)',\n",
       " '(1939)',\n",
       " '(1935)',\n",
       " '(1940)',\n",
       " '(1944)',\n",
       " '(1941)',\n",
       " '(1939)',\n",
       " '(1976)',\n",
       " '(1954)',\n",
       " '(1949)',\n",
       " '(1955)',\n",
       " '(1959)',\n",
       " '(1942)']"
      ]
     },
     "execution_count": 22,
     "metadata": {},
     "output_type": "execute_result"
    }
   ],
   "source": [
    "year_list=[]\n",
    "for i in name:\n",
    "    for j in i.find_all('span',class_=\"lister-item-year text-muted unbold\"):\n",
    "        year_list.append(j.text.replace('\\n',''))\n",
    "year_list"
   ]
  },
  {
   "cell_type": "code",
   "execution_count": 23,
   "metadata": {},
   "outputs": [
    {
     "data": {
      "text/plain": [
       "100"
      ]
     },
     "execution_count": 23,
     "metadata": {},
     "output_type": "execute_result"
    }
   ],
   "source": [
    "len(year_list)"
   ]
  },
  {
   "cell_type": "code",
   "execution_count": 24,
   "metadata": {},
   "outputs": [
    {
     "data": {
      "text/plain": [
       "['1.',\n",
       " '2.',\n",
       " '3.',\n",
       " '4.',\n",
       " '5.',\n",
       " '6.',\n",
       " '7.',\n",
       " '8.',\n",
       " '9.',\n",
       " '10.',\n",
       " '11.',\n",
       " '12.',\n",
       " '13.',\n",
       " '14.',\n",
       " '15.',\n",
       " '16.',\n",
       " '17.',\n",
       " '18.',\n",
       " '19.',\n",
       " '20.',\n",
       " '21.',\n",
       " '22.',\n",
       " '23.',\n",
       " '24.',\n",
       " '25.',\n",
       " '26.',\n",
       " '27.',\n",
       " '28.',\n",
       " '29.',\n",
       " '30.',\n",
       " '31.',\n",
       " '32.',\n",
       " '33.',\n",
       " '34.',\n",
       " '35.',\n",
       " '36.',\n",
       " '37.',\n",
       " '38.',\n",
       " '39.',\n",
       " '40.',\n",
       " '41.',\n",
       " '42.',\n",
       " '43.',\n",
       " '44.',\n",
       " '45.',\n",
       " '46.',\n",
       " '47.',\n",
       " '48.',\n",
       " '49.',\n",
       " '50.',\n",
       " '51.',\n",
       " '52.',\n",
       " '53.',\n",
       " '54.',\n",
       " '55.',\n",
       " '56.',\n",
       " '57.',\n",
       " '58.',\n",
       " '59.',\n",
       " '60.',\n",
       " '61.',\n",
       " '62.',\n",
       " '63.',\n",
       " '64.',\n",
       " '65.',\n",
       " '66.',\n",
       " '67.',\n",
       " '68.',\n",
       " '69.',\n",
       " '70.',\n",
       " '71.',\n",
       " '72.',\n",
       " '73.',\n",
       " '74.',\n",
       " '75.',\n",
       " '76.',\n",
       " '77.',\n",
       " '78.',\n",
       " '79.',\n",
       " '80.',\n",
       " '81.',\n",
       " '82.',\n",
       " '83.',\n",
       " '84.',\n",
       " '85.',\n",
       " '86.',\n",
       " '87.',\n",
       " '88.',\n",
       " '89.',\n",
       " '90.',\n",
       " '91.',\n",
       " '92.',\n",
       " '93.',\n",
       " '94.',\n",
       " '95.',\n",
       " '96.',\n",
       " '97.',\n",
       " '98.',\n",
       " '99.',\n",
       " '100.']"
      ]
     },
     "execution_count": 24,
     "metadata": {},
     "output_type": "execute_result"
    }
   ],
   "source": [
    "rankings=[]\n",
    "for i in name:\n",
    "    for j in i.find_all('span',class_=\"lister-item-index unbold text-primary\"):\n",
    "        rankings.append(j.text.replace('\\n',''))\n",
    "rankings"
   ]
  },
  {
   "cell_type": "code",
   "execution_count": 38,
   "metadata": {},
   "outputs": [
    {
     "data": {
      "text/html": [
       "<div>\n",
       "<style scoped>\n",
       "    .dataframe tbody tr th:only-of-type {\n",
       "        vertical-align: middle;\n",
       "    }\n",
       "\n",
       "    .dataframe tbody tr th {\n",
       "        vertical-align: top;\n",
       "    }\n",
       "\n",
       "    .dataframe thead th {\n",
       "        text-align: right;\n",
       "    }\n",
       "</style>\n",
       "<table border=\"1\" class=\"dataframe\">\n",
       "  <thead>\n",
       "    <tr style=\"text-align: right;\">\n",
       "      <th></th>\n",
       "      <th>Movie Name</th>\n",
       "      <th>Year of Release</th>\n",
       "    </tr>\n",
       "    <tr>\n",
       "      <th>Rank</th>\n",
       "      <th></th>\n",
       "      <th></th>\n",
       "    </tr>\n",
       "  </thead>\n",
       "  <tbody>\n",
       "    <tr>\n",
       "      <th>1.</th>\n",
       "      <td>The Godfather</td>\n",
       "      <td>(1972)</td>\n",
       "    </tr>\n",
       "    <tr>\n",
       "      <th>2.</th>\n",
       "      <td>The Shawshank Redemption</td>\n",
       "      <td>(1994)</td>\n",
       "    </tr>\n",
       "    <tr>\n",
       "      <th>3.</th>\n",
       "      <td>Schindler's List</td>\n",
       "      <td>(1993)</td>\n",
       "    </tr>\n",
       "    <tr>\n",
       "      <th>4.</th>\n",
       "      <td>Raging Bull</td>\n",
       "      <td>(1980)</td>\n",
       "    </tr>\n",
       "    <tr>\n",
       "      <th>5.</th>\n",
       "      <td>Casablanca</td>\n",
       "      <td>(1942)</td>\n",
       "    </tr>\n",
       "    <tr>\n",
       "      <th>...</th>\n",
       "      <td>...</td>\n",
       "      <td>...</td>\n",
       "    </tr>\n",
       "    <tr>\n",
       "      <th>96.</th>\n",
       "      <td>Rear Window</td>\n",
       "      <td>(1954)</td>\n",
       "    </tr>\n",
       "    <tr>\n",
       "      <th>97.</th>\n",
       "      <td>The Third Man</td>\n",
       "      <td>(1949)</td>\n",
       "    </tr>\n",
       "    <tr>\n",
       "      <th>98.</th>\n",
       "      <td>Rebel Without a Cause</td>\n",
       "      <td>(1955)</td>\n",
       "    </tr>\n",
       "    <tr>\n",
       "      <th>99.</th>\n",
       "      <td>North by Northwest</td>\n",
       "      <td>(1959)</td>\n",
       "    </tr>\n",
       "    <tr>\n",
       "      <th>100.</th>\n",
       "      <td>Yankee Doodle Dandy</td>\n",
       "      <td>(1942)</td>\n",
       "    </tr>\n",
       "  </tbody>\n",
       "</table>\n",
       "<p>100 rows × 2 columns</p>\n",
       "</div>"
      ],
      "text/plain": [
       "                    Movie Name Year of Release\n",
       "Rank                                          \n",
       "1.               The Godfather          (1972)\n",
       "2.    The Shawshank Redemption          (1994)\n",
       "3.            Schindler's List          (1993)\n",
       "4.                 Raging Bull          (1980)\n",
       "5.                  Casablanca          (1942)\n",
       "...                        ...             ...\n",
       "96.                Rear Window          (1954)\n",
       "97.              The Third Man          (1949)\n",
       "98.      Rebel Without a Cause          (1955)\n",
       "99.         North by Northwest          (1959)\n",
       "100.       Yankee Doodle Dandy          (1942)\n",
       "\n",
       "[100 rows x 2 columns]"
      ]
     },
     "execution_count": 38,
     "metadata": {},
     "output_type": "execute_result"
    }
   ],
   "source": [
    "Top_100_Films=pd.DataFrame()\n",
    "Top_100_Films['Rank']=rankings\n",
    "Top_100_Films['Movie Name']=name_list\n",
    "Top_100_Films['Year of Release']=year_list\n",
    "\n",
    "\n",
    "Top_100_Films.set_index('Rank')"
   ]
  },
  {
   "cell_type": "markdown",
   "metadata": {},
   "source": [
    "## Q3. Write a python program to display IMDB’s Top rated 100 Indian movies’ data (i.e. Name, IMDB rating, Year of release).\n"
   ]
  },
  {
   "cell_type": "code",
   "execution_count": 40,
   "metadata": {},
   "outputs": [
    {
     "data": {
      "text/plain": [
       "<Response [200]>"
      ]
     },
     "execution_count": 40,
     "metadata": {},
     "output_type": "execute_result"
    }
   ],
   "source": [
    "IMDB_page2=requests.get('https://www.imdb.com/list/ls056092300/')\n",
    "IMDB_page2"
   ]
  },
  {
   "cell_type": "code",
   "execution_count": 461,
   "metadata": {},
   "outputs": [],
   "source": [
    "IMDB_soup2=BeautifulSoup(IMDB_page2.content)"
   ]
  },
  {
   "cell_type": "code",
   "execution_count": 460,
   "metadata": {},
   "outputs": [],
   "source": [
    "name2=IMDB_soup2.find_all('h3',class_=\"lister-item-header\")"
   ]
  },
  {
   "cell_type": "code",
   "execution_count": 46,
   "metadata": {},
   "outputs": [
    {
     "data": {
      "text/plain": [
       "['Ship of Theseus',\n",
       " 'Iruvar',\n",
       " 'Kaagaz Ke Phool',\n",
       " 'Lagaan: Once Upon a Time in India',\n",
       " 'Pather Panchali',\n",
       " 'Charulata',\n",
       " 'Rang De Basanti',\n",
       " 'Dev.D',\n",
       " '3 Idiots',\n",
       " 'Awaara',\n",
       " 'Nayakan',\n",
       " 'Aparajito',\n",
       " 'Pushpaka Vimana',\n",
       " 'Pyaasa',\n",
       " 'Ghatashraddha',\n",
       " 'Sholay',\n",
       " 'Aradhana',\n",
       " 'Do Ankhen Barah Haath',\n",
       " 'Bombay',\n",
       " 'Neecha Nagar',\n",
       " 'Do Bigha Zamin',\n",
       " 'Garm Hava',\n",
       " 'Piravi',\n",
       " 'Mughal-E-Azam',\n",
       " 'Amma Ariyan',\n",
       " 'Madhumati',\n",
       " 'Goopy Gyne Bagha Byne',\n",
       " 'Gangs of Wasseypur',\n",
       " 'Guide',\n",
       " 'Satya',\n",
       " 'Roja',\n",
       " 'Mr. India',\n",
       " 'The Cloud-Capped Star',\n",
       " 'Harishchandrachi Factory',\n",
       " 'Masoom',\n",
       " 'Agneepath',\n",
       " 'Tabarana Kathe',\n",
       " 'Zakhm',\n",
       " 'Dil Chahta Hai',\n",
       " 'Bhaag Milkha Bhaag',\n",
       " 'Chupke Chupke',\n",
       " 'Dilwale Dulhania Le Jayenge',\n",
       " 'Taare Zameen Par',\n",
       " 'Ardh Satya',\n",
       " 'Bhumika',\n",
       " 'Enthiran',\n",
       " 'Sadma',\n",
       " 'Shwaas',\n",
       " 'Lamhe',\n",
       " 'Haqeeqat',\n",
       " 'Shree 420',\n",
       " 'Kannathil Muthamittal',\n",
       " 'Hum Aapke Hain Koun...!',\n",
       " 'Ustad Hotel',\n",
       " 'Bandit Queen',\n",
       " 'Lakshya',\n",
       " 'Black Friday',\n",
       " 'Manthan',\n",
       " 'Apoorva Raagangal',\n",
       " 'English Vinglish',\n",
       " 'Jewel Thief',\n",
       " 'Pakeezah',\n",
       " 'Maqbool',\n",
       " 'Jis Desh Men Ganga Behti Hai',\n",
       " 'Sahib Bibi Aur Ghulam',\n",
       " 'Shatranj Ke Khilari',\n",
       " 'Narthanasala',\n",
       " 'Chandni Bar',\n",
       " 'Vaaranam Aayiram',\n",
       " 'Mr. and Mrs. Iyer',\n",
       " 'Chandni',\n",
       " 'English, August',\n",
       " 'Celluloid',\n",
       " 'Sagara Sangamam',\n",
       " 'Munna Bhai M.B.B.S.',\n",
       " 'Saaransh',\n",
       " 'Guddi',\n",
       " 'Vanaja',\n",
       " 'Vazhakku Enn 18/9',\n",
       " 'Gangaajal',\n",
       " 'Angoor',\n",
       " 'Guru',\n",
       " 'Andaz Apna Apna',\n",
       " 'Sangam',\n",
       " 'Oka Oori Katha',\n",
       " 'Bhuvan Shome',\n",
       " 'Border',\n",
       " 'Parineeta',\n",
       " 'Devdas',\n",
       " 'Abohomaan',\n",
       " 'Kuch Kuch Hota Hai',\n",
       " 'Pithamagan',\n",
       " 'Veyyil',\n",
       " 'Chemmeen',\n",
       " 'Jaane Bhi Do Yaaro',\n",
       " 'Apur Sansar',\n",
       " 'Kanchivaram',\n",
       " 'Monsoon Wedding',\n",
       " 'Black',\n",
       " 'Deewaar']"
      ]
     },
     "execution_count": 46,
     "metadata": {},
     "output_type": "execute_result"
    }
   ],
   "source": [
    "name_list2=[]\n",
    "\n",
    "for i in name2:\n",
    "    for j in i.find_all('a'):\n",
    "        name_list2.append(j.text)\n",
    "name_list2"
   ]
  },
  {
   "cell_type": "code",
   "execution_count": 47,
   "metadata": {},
   "outputs": [
    {
     "data": {
      "text/plain": [
       "100"
      ]
     },
     "execution_count": 47,
     "metadata": {},
     "output_type": "execute_result"
    }
   ],
   "source": [
    "len(name_list)"
   ]
  },
  {
   "cell_type": "code",
   "execution_count": 49,
   "metadata": {},
   "outputs": [
    {
     "data": {
      "text/plain": [
       "['(2012)',\n",
       " '(1997)',\n",
       " '(1959)',\n",
       " '(2001)',\n",
       " '(1955)',\n",
       " '(1964)',\n",
       " '(2006)',\n",
       " '(2009)',\n",
       " '(2009)',\n",
       " '(1951)',\n",
       " '(1987)',\n",
       " '(1956)',\n",
       " '(1987)',\n",
       " '(1957)',\n",
       " '(1977)',\n",
       " '(1975)',\n",
       " '(1969)',\n",
       " '(1957)',\n",
       " '(1995)',\n",
       " '(1946)',\n",
       " '(1953)',\n",
       " '(1974)',\n",
       " '(1989)',\n",
       " '(1960)',\n",
       " '(1986)',\n",
       " '(1958)',\n",
       " '(1969)',\n",
       " '(2012)',\n",
       " '(1965)',\n",
       " '(1998)',\n",
       " '(1992)',\n",
       " '(1987)',\n",
       " '(1960)',\n",
       " '(2009)',\n",
       " '(1983)',\n",
       " '(1990)',\n",
       " '(1986)',\n",
       " '(1998)',\n",
       " '(2001)',\n",
       " '(2013)',\n",
       " '(1975)',\n",
       " '(1995)',\n",
       " '(2007)',\n",
       " '(1983)',\n",
       " '(1977)',\n",
       " '(2010)',\n",
       " '(1983)',\n",
       " '(2004)',\n",
       " '(1991)',\n",
       " '(1964)',\n",
       " '(1955)',\n",
       " '(2002)',\n",
       " '(1994)',\n",
       " '(2012)',\n",
       " '(1994)',\n",
       " '(2004)',\n",
       " '(2004)',\n",
       " '(1976)',\n",
       " '(1975)',\n",
       " '(2012)',\n",
       " '(1967)',\n",
       " '(1972)',\n",
       " '(2003)',\n",
       " '(1960)',\n",
       " '(1962)',\n",
       " '(1977)',\n",
       " '(1963)',\n",
       " '(2001)',\n",
       " '(2008)',\n",
       " '(2002)',\n",
       " '(1989)',\n",
       " '(1994)',\n",
       " '(2013)',\n",
       " '(1983)',\n",
       " '(2003)',\n",
       " '(1984)',\n",
       " '(1971)',\n",
       " '(2006)',\n",
       " '(2012)',\n",
       " '(2003)',\n",
       " '(1982)',\n",
       " '(2007)',\n",
       " '(1994)',\n",
       " '(I) (1964)',\n",
       " '(1978)',\n",
       " '(1969)',\n",
       " '(I) (1997)',\n",
       " '(2005)',\n",
       " '(1955)',\n",
       " '(2009)',\n",
       " '(1998)',\n",
       " '(2003)',\n",
       " '(2006)',\n",
       " '(1965)',\n",
       " '(1983)',\n",
       " '(1959)',\n",
       " '(2008)',\n",
       " '(2001)',\n",
       " '(2005)',\n",
       " '(1975)']"
      ]
     },
     "execution_count": 49,
     "metadata": {},
     "output_type": "execute_result"
    }
   ],
   "source": [
    "year_list2=[]\n",
    "\n",
    "for i in name2:\n",
    "    for j in i.find_all('span',class_=\"lister-item-year text-muted unbold\"):\n",
    "        year_list2.append(j.text)\n",
    "year_list2"
   ]
  },
  {
   "cell_type": "code",
   "execution_count": 51,
   "metadata": {},
   "outputs": [
    {
     "data": {
      "text/plain": [
       "['1.',\n",
       " '2.',\n",
       " '3.',\n",
       " '4.',\n",
       " '5.',\n",
       " '6.',\n",
       " '7.',\n",
       " '8.',\n",
       " '9.',\n",
       " '10.',\n",
       " '11.',\n",
       " '12.',\n",
       " '13.',\n",
       " '14.',\n",
       " '15.',\n",
       " '16.',\n",
       " '17.',\n",
       " '18.',\n",
       " '19.',\n",
       " '20.',\n",
       " '21.',\n",
       " '22.',\n",
       " '23.',\n",
       " '24.',\n",
       " '25.',\n",
       " '26.',\n",
       " '27.',\n",
       " '28.',\n",
       " '29.',\n",
       " '30.',\n",
       " '31.',\n",
       " '32.',\n",
       " '33.',\n",
       " '34.',\n",
       " '35.',\n",
       " '36.',\n",
       " '37.',\n",
       " '38.',\n",
       " '39.',\n",
       " '40.',\n",
       " '41.',\n",
       " '42.',\n",
       " '43.',\n",
       " '44.',\n",
       " '45.',\n",
       " '46.',\n",
       " '47.',\n",
       " '48.',\n",
       " '49.',\n",
       " '50.',\n",
       " '51.',\n",
       " '52.',\n",
       " '53.',\n",
       " '54.',\n",
       " '55.',\n",
       " '56.',\n",
       " '57.',\n",
       " '58.',\n",
       " '59.',\n",
       " '60.',\n",
       " '61.',\n",
       " '62.',\n",
       " '63.',\n",
       " '64.',\n",
       " '65.',\n",
       " '66.',\n",
       " '67.',\n",
       " '68.',\n",
       " '69.',\n",
       " '70.',\n",
       " '71.',\n",
       " '72.',\n",
       " '73.',\n",
       " '74.',\n",
       " '75.',\n",
       " '76.',\n",
       " '77.',\n",
       " '78.',\n",
       " '79.',\n",
       " '80.',\n",
       " '81.',\n",
       " '82.',\n",
       " '83.',\n",
       " '84.',\n",
       " '85.',\n",
       " '86.',\n",
       " '87.',\n",
       " '88.',\n",
       " '89.',\n",
       " '90.',\n",
       " '91.',\n",
       " '92.',\n",
       " '93.',\n",
       " '94.',\n",
       " '95.',\n",
       " '96.',\n",
       " '97.',\n",
       " '98.',\n",
       " '99.',\n",
       " '100.']"
      ]
     },
     "execution_count": 51,
     "metadata": {},
     "output_type": "execute_result"
    }
   ],
   "source": [
    "ranking2=[]\n",
    "\n",
    "for i in name2:\n",
    "    for j in i.find_all('span',class_=\"lister-item-index unbold text-primary\"):\n",
    "        ranking2.append(j.text)\n",
    "ranking2"
   ]
  },
  {
   "cell_type": "code",
   "execution_count": 53,
   "metadata": {},
   "outputs": [
    {
     "data": {
      "text/html": [
       "<div>\n",
       "<style scoped>\n",
       "    .dataframe tbody tr th:only-of-type {\n",
       "        vertical-align: middle;\n",
       "    }\n",
       "\n",
       "    .dataframe tbody tr th {\n",
       "        vertical-align: top;\n",
       "    }\n",
       "\n",
       "    .dataframe thead th {\n",
       "        text-align: right;\n",
       "    }\n",
       "</style>\n",
       "<table border=\"1\" class=\"dataframe\">\n",
       "  <thead>\n",
       "    <tr style=\"text-align: right;\">\n",
       "      <th></th>\n",
       "      <th>Rank</th>\n",
       "      <th>Movie Name</th>\n",
       "      <th>Year of Release</th>\n",
       "    </tr>\n",
       "  </thead>\n",
       "  <tbody>\n",
       "    <tr>\n",
       "      <th>0</th>\n",
       "      <td>1.</td>\n",
       "      <td>Ship of Theseus</td>\n",
       "      <td>(2012)</td>\n",
       "    </tr>\n",
       "    <tr>\n",
       "      <th>1</th>\n",
       "      <td>2.</td>\n",
       "      <td>Iruvar</td>\n",
       "      <td>(1997)</td>\n",
       "    </tr>\n",
       "    <tr>\n",
       "      <th>2</th>\n",
       "      <td>3.</td>\n",
       "      <td>Kaagaz Ke Phool</td>\n",
       "      <td>(1959)</td>\n",
       "    </tr>\n",
       "    <tr>\n",
       "      <th>3</th>\n",
       "      <td>4.</td>\n",
       "      <td>Lagaan: Once Upon a Time in India</td>\n",
       "      <td>(2001)</td>\n",
       "    </tr>\n",
       "    <tr>\n",
       "      <th>4</th>\n",
       "      <td>5.</td>\n",
       "      <td>Pather Panchali</td>\n",
       "      <td>(1955)</td>\n",
       "    </tr>\n",
       "    <tr>\n",
       "      <th>...</th>\n",
       "      <td>...</td>\n",
       "      <td>...</td>\n",
       "      <td>...</td>\n",
       "    </tr>\n",
       "    <tr>\n",
       "      <th>95</th>\n",
       "      <td>96.</td>\n",
       "      <td>Apur Sansar</td>\n",
       "      <td>(1959)</td>\n",
       "    </tr>\n",
       "    <tr>\n",
       "      <th>96</th>\n",
       "      <td>97.</td>\n",
       "      <td>Kanchivaram</td>\n",
       "      <td>(2008)</td>\n",
       "    </tr>\n",
       "    <tr>\n",
       "      <th>97</th>\n",
       "      <td>98.</td>\n",
       "      <td>Monsoon Wedding</td>\n",
       "      <td>(2001)</td>\n",
       "    </tr>\n",
       "    <tr>\n",
       "      <th>98</th>\n",
       "      <td>99.</td>\n",
       "      <td>Black</td>\n",
       "      <td>(2005)</td>\n",
       "    </tr>\n",
       "    <tr>\n",
       "      <th>99</th>\n",
       "      <td>100.</td>\n",
       "      <td>Deewaar</td>\n",
       "      <td>(1975)</td>\n",
       "    </tr>\n",
       "  </tbody>\n",
       "</table>\n",
       "<p>100 rows × 3 columns</p>\n",
       "</div>"
      ],
      "text/plain": [
       "    Rank                         Movie Name Year of Release\n",
       "0     1.                    Ship of Theseus          (2012)\n",
       "1     2.                             Iruvar          (1997)\n",
       "2     3.                    Kaagaz Ke Phool          (1959)\n",
       "3     4.  Lagaan: Once Upon a Time in India          (2001)\n",
       "4     5.                    Pather Panchali          (1955)\n",
       "..   ...                                ...             ...\n",
       "95   96.                        Apur Sansar          (1959)\n",
       "96   97.                        Kanchivaram          (2008)\n",
       "97   98.                    Monsoon Wedding          (2001)\n",
       "98   99.                              Black          (2005)\n",
       "99  100.                            Deewaar          (1975)\n",
       "\n",
       "[100 rows x 3 columns]"
      ]
     },
     "execution_count": 53,
     "metadata": {},
     "output_type": "execute_result"
    }
   ],
   "source": [
    "Top_100_IndianFilms=pd.DataFrame()\n",
    "Top_100_IndianFilms['Rank']=ranking2\n",
    "Top_100_IndianFilms['Movie Name']=name_list2\n",
    "Top_100_IndianFilms['Year of Release']=year_list2\n",
    "\n",
    "\n",
    "Top_100_IndianFilms"
   ]
  },
  {
   "cell_type": "markdown",
   "metadata": {},
   "source": [
    "## Q4. Write a python program to scrap book name, author name, genre and book review of any 5 books from‘www.bookpage.com’"
   ]
  },
  {
   "cell_type": "code",
   "execution_count": 287,
   "metadata": {},
   "outputs": [
    {
     "data": {
      "text/plain": [
       "<Response [200]>"
      ]
     },
     "execution_count": 287,
     "metadata": {},
     "output_type": "execute_result"
    }
   ],
   "source": [
    "book_page=requests.get('https://bookpage.com/reviews?book_genre=fiction&page=1')\n",
    "book_page"
   ]
  },
  {
   "cell_type": "code",
   "execution_count": 288,
   "metadata": {},
   "outputs": [],
   "source": [
    "book_soup=BeautifulSoup(book_page.content)"
   ]
  },
  {
   "cell_type": "code",
   "execution_count": 289,
   "metadata": {},
   "outputs": [
    {
     "data": {
      "text/plain": [
       "['How to Find Your Way in the Dark',\n",
       " 'All’s Well',\n",
       " 'Summer Fun',\n",
       " 'What Strange Paradise',\n",
       " 'China Room',\n",
       " 'A Passage North',\n",
       " 'The Startup Wife',\n",
       " 'The Tiger Mom’s Tale',\n",
       " 'Build Your House Around My Body',\n",
       " 'Together We Will Go']"
      ]
     },
     "execution_count": 289,
     "metadata": {},
     "output_type": "execute_result"
    }
   ],
   "source": [
    "book_name=[]\n",
    "title=book_soup.find_all('h4',class_=\"italic\")\n",
    "for i in title:\n",
    "    book_name.append(i.text.replace('★','').strip())\n",
    "book_name"
   ]
  },
  {
   "cell_type": "code",
   "execution_count": 290,
   "metadata": {},
   "outputs": [
    {
     "data": {
      "text/plain": [
       "10"
      ]
     },
     "execution_count": 290,
     "metadata": {},
     "output_type": "execute_result"
    }
   ],
   "source": [
    "len(book_name)"
   ]
  },
  {
   "cell_type": "code",
   "execution_count": 291,
   "metadata": {},
   "outputs": [
    {
     "data": {
      "text/plain": [
       "['Derek B. Miller',\n",
       " 'Mona Awad',\n",
       " 'Jeanne Thornton',\n",
       " 'Omar El Akkad',\n",
       " 'Sunjeev Sahota',\n",
       " 'Anuk Arudpragasm',\n",
       " 'Tahmima Anam',\n",
       " 'Lyn Liao Butler',\n",
       " 'Violet Kupersmith',\n",
       " 'J. Michael Straczynski']"
      ]
     },
     "execution_count": 291,
     "metadata": {},
     "output_type": "execute_result"
    }
   ],
   "source": [
    "author_list=[]\n",
    "\n",
    "author=book_soup.find_all('p',class_=\"sans bold\")\n",
    "\n",
    "for i in author:\n",
    "    author_list.append(i.text.replace('\\n',''))\n",
    "author_list"
   ]
  },
  {
   "cell_type": "code",
   "execution_count": 292,
   "metadata": {},
   "outputs": [
    {
     "data": {
      "text/plain": [
       "10"
      ]
     },
     "execution_count": 292,
     "metadata": {},
     "output_type": "execute_result"
    }
   ],
   "source": [
    "len(genre_list)"
   ]
  },
  {
   "cell_type": "code",
   "execution_count": 293,
   "metadata": {},
   "outputs": [
    {
     "data": {
      "text/plain": [
       "['Fiction / Coming of Age',\n",
       " 'Fiction / Literary Fiction',\n",
       " 'Fiction / Literary Fiction',\n",
       " 'Fiction / Literary Fiction',\n",
       " 'Fiction / Literary Fiction',\n",
       " 'Fiction / Literary Fiction',\n",
       " 'Fiction / Literary Fiction',\n",
       " 'Fiction / Family Drama',\n",
       " 'Fiction / Literary Fiction',\n",
       " 'Fiction / Popular Fiction']"
      ]
     },
     "execution_count": 293,
     "metadata": {},
     "output_type": "execute_result"
    }
   ],
   "source": [
    "genre_list=[]\n",
    "\n",
    "genre=book_soup.find_all('p',class_=\"genre-links hidden-phone\")\n",
    "\n",
    "for i in genre:\n",
    "    genre_list.append(i.text.replace('\\n',''))\n",
    "genre_list"
   ]
  },
  {
   "cell_type": "code",
   "execution_count": 294,
   "metadata": {},
   "outputs": [
    {
     "data": {
      "text/plain": [
       "10"
      ]
     },
     "execution_count": 294,
     "metadata": {},
     "output_type": "execute_result"
    }
   ],
   "source": [
    "len(genre_list)"
   ]
  },
  {
   "cell_type": "code",
   "execution_count": null,
   "metadata": {},
   "outputs": [],
   "source": []
  },
  {
   "cell_type": "code",
   "execution_count": 285,
   "metadata": {},
   "outputs": [],
   "source": [
    "#review_soup=BeautifulSoup(book_page.content,'html.parser')"
   ]
  },
  {
   "cell_type": "code",
   "execution_count": 296,
   "metadata": {},
   "outputs": [
    {
     "data": {
      "text/plain": [
       "[<h4 class=\"italic\">\n",
       " <a href=\"/reviews/26469-derek-b-miller-how-to-find-your-way-dark-fiction\"> <span style=\"font-style:normal;\">★ </span>How to Find Your Way in the Dark</a>\n",
       " </h4>,\n",
       " <h4 class=\"italic\">\n",
       " <a href=\"/reviews/26466-mona-awad-alls-well-fiction\">All’s Well</a>\n",
       " </h4>,\n",
       " <h4 class=\"italic\">\n",
       " <a href=\"/reviews/26474-jeanne-thornton-summer-fun-fiction\"> <span style=\"font-style:normal;\">★ </span>Summer Fun</a>\n",
       " </h4>,\n",
       " <h4 class=\"italic\">\n",
       " <a href=\"/reviews/26483-omar-el-akkad-what-strange-paradise-fiction\">What Strange Paradise</a>\n",
       " </h4>,\n",
       " <h4 class=\"italic\">\n",
       " <a href=\"/reviews/26375-sunjeev-sahota-china-room-fiction\">China Room</a>\n",
       " </h4>,\n",
       " <h4 class=\"italic\">\n",
       " <a href=\"/reviews/26373-anuk-arudpragasm-passage-north-fiction\"> <span style=\"font-style:normal;\">★ </span>A Passage North</a>\n",
       " </h4>,\n",
       " <h4 class=\"italic\">\n",
       " <a href=\"/reviews/26386-tahmima-anam-startup-wife-fiction\"> <span style=\"font-style:normal;\">★ </span>The Startup Wife</a>\n",
       " </h4>,\n",
       " <h4 class=\"italic\">\n",
       " <a href=\"/reviews/26388-lyn-liao-butler-tiger-moms-tale-fiction\">The Tiger Mom’s Tale</a>\n",
       " </h4>,\n",
       " <h4 class=\"italic\">\n",
       " <a href=\"/reviews/26374-violet-kupersmith-build-your-house-around-my-body-fiction\">Build Your House Around My Body</a>\n",
       " </h4>,\n",
       " <h4 class=\"italic\">\n",
       " <a href=\"/reviews/26390-j-michael-straczynski-together-we-will-go-fiction\">Together We Will Go</a>\n",
       " </h4>]"
      ]
     },
     "execution_count": 296,
     "metadata": {},
     "output_type": "execute_result"
    }
   ],
   "source": [
    "url_tags=book_soup.find_all('h4',class_=\"italic\")\n",
    "url_tags"
   ]
  },
  {
   "cell_type": "code",
   "execution_count": 297,
   "metadata": {},
   "outputs": [
    {
     "data": {
      "text/plain": [
       "['/reviews/26469-derek-b-miller-how-to-find-your-way-dark-fiction',\n",
       " '/reviews/26466-mona-awad-alls-well-fiction',\n",
       " '/reviews/26474-jeanne-thornton-summer-fun-fiction',\n",
       " '/reviews/26483-omar-el-akkad-what-strange-paradise-fiction',\n",
       " '/reviews/26375-sunjeev-sahota-china-room-fiction',\n",
       " '/reviews/26373-anuk-arudpragasm-passage-north-fiction',\n",
       " '/reviews/26386-tahmima-anam-startup-wife-fiction',\n",
       " '/reviews/26388-lyn-liao-butler-tiger-moms-tale-fiction',\n",
       " '/reviews/26374-violet-kupersmith-build-your-house-around-my-body-fiction',\n",
       " '/reviews/26390-j-michael-straczynski-together-we-will-go-fiction']"
      ]
     },
     "execution_count": 297,
     "metadata": {},
     "output_type": "execute_result"
    }
   ],
   "source": [
    "urls=[]\n",
    "\n",
    "for i in url_tags:\n",
    "    for j in i.find_all('a',href=True):\n",
    "        urls.append(j['href'])\n",
    "urls"
   ]
  },
  {
   "cell_type": "code",
   "execution_count": 305,
   "metadata": {},
   "outputs": [
    {
     "data": {
      "text/plain": [
       "['Prepare for surprises galore in How to Find Your Way in the Dark, a rollicking novel that begins with a lonely truck ride in New England in 1938 and follows its characters through a decade of fascinating history. Just when you think the story is heading one way, it veers in another, completely unexpected direction.Twelve-year-old Sheldon Horowitz and his father are driving home from Hartford, Connecticut, to Whately, Massachusetts, after honoring the one-year anniversary of Sheldon’s mother’s death. She and her sister died in a horrific movie theater fire in Hartford. And as if that isn’t enough tragedy for the novel’s first 13 pages, a truck purposely forces Sheldon and his father’s car off the road during their return trip, and Sheldon’s father dies.Readers of Derek B. Miller’s award-winning thriller, Norwegian by Night, will recognize Sheldon as that novel’s 82-year-old protagonist. As a Tom Sawyer-like boy in How to Find Your Way in the Dark, Sheldon is determined to make sense of his double tragedies, and his attempts to do so take the reader on one hell of a ride. As he seeks out the leering, mustached truck driver who killed his father, his quest leads him straight into danger—think mobsters, guns and jewel thefts.Miller has crafted a wide-ranging, years-spanning yet tightly structured plot, and he excels at placing memorable characters in unusual circumstances. Sheldon is joined in his adventures by his two older cousins, Abe and Mirabelle, and his best friend, Lenny, all of whom play pivotal roles. One summer, Lenny and Sheldon end up as bellhops at the famed Grossinger’s Resort in the Catskills, where Lenny practices standup comedy amid the glamorous, bustling atmosphere.An underlying seriousness lies at the heart of all of this intrigue, hilarity and fun. Sheldon, Abe, Mirabelle and Lenny, all Jewish, must confront the many faces of antisemitism during the turbulent years of World War II. Miller weaves in a multitude of historical details, including reports of the horrors in Europe and America’s reluctance to intervene.The ending of How to Find Your Way in the Dark is nothing short of brilliant, tying up a variety of loose ends while making a powerful statement about the need to fully recognize and address antisemitism. Readers are left with much to ponder, including life’s many uncertainties and cruel twists of fate. Despite these unhappy truths, we are also left with the uplifting wisdom of Lenny’s urgent prayer: “Dear God, give me the strength to be joyful.”',\n",
       " 'Miranda Fitch, the protagonist of Mona Awad’s third novel, All’s Well, might best be described—to borrow the title of the 1988 Pedro Almodóvar film—as a woman on the verge of a nervous breakdown. A professor of theater studies at a small liberal arts college in Massachusetts, she’s laboring mightily to stage a student production of Shakespeare’s All’s Well That Ends Well, which she thinks of as a “problem play,” one that’s “neither a tragedy nor a comedy. Both, always both.”Apart from a rebellious cast, Miranda’s primary obstacle is unremitting pain from an injury she sustained when she tumbled from a stage during her promising but brief acting career. The resulting hip injury led to serious back problems unrelieved by the ministrations of a string of doctors and physical therapists, transforming Miranda, divorced and not yet 40 years old, into a pill-gobbling automaton who has abandoned all hope of her own happy ending.All’s Well quickly leaves behind this depressingly naturalistic scenario to veer into the realm of fabulism when Miranda encounters three mysterious men in a local pub. The trio, who inexplicably have intimate knowledge of her life and struggles, grace her with what seems like a miracle cure. But as she discovers, even healing can come at a price.Awad efficiently portrays both Miranda’s confrontation with chronic pain and the slowly evaporating patience of the people in her orbit (her ex-husband, Paul; colleague and friend Grace; and Mark, the last in a chain of physical therapists) with her lack of improvement. Anyone who’s been similarly afflicted or knows someone who has will recognize this scenario. Awad leaves it to the reader to assess how much of Miranda’s mental turmoil is the product of an inexplicable but desperately welcome truce in her battle with pain, and how much flows from her encounter with supernatural forces. It’s a wild, at times over-the-top ride, but like Shakespeare’s eponymous work, there’s both pathos and humor in this story of how we suffer and the ways in which we’re healed.',\n",
       " 'It’s been nine years since the publication of Jeanne Thornton’s debut, The Dream of Doctor Bantam, and her second novel, Summer Fun, has been worth the wait. Dizzying and deliciously weird, it’s a sprawling yet intimate story about music, hidden trans histories and the transformative act of creation.Gala, a trans woman living in small-town New Mexico, is obsessed with a classic 1960s pop band called the Get Happies and their mysterious lead singer, B\\xa0 \\xa0 \\xa0 \\xa0. In a series of remarkable letters to B\\xa0 \\xa0 \\xa0 \\xa0, full of whip-smart observations and dark humor, Gala slowly reveals the true story of B\\xa0 \\xa0 \\xa0 \\xa0’s life and music, shedding light on herself in the process.This is no ordinary epistolary novel. Thornton discards convention, choosing instead to use the form to explore the possibilities of cross-generational queer and trans conversations. Gala’s letters act as a kind of portal, a manifestation of trans magic. She addresses B\\xa0 \\xa0 \\xa0 \\xa0 directly, often inhabiting the singer’s thoughts and emotions. Gala tells B\\xa0 \\xa0 \\xa0 \\xa0’s story from the inside, as if she were the one who lived it. Each letter is a small act of discovery, an unfolding mystery. The unique epistolary format makes space for deep connections, not only between Gala and B\\xa0 \\xa0 \\xa0 \\xa0 but also between Gala and the reader. It is impossible not to read these heartfelt missives without becoming wholly invested in her world.Reflecting on the impossibility of authenticity in the music industry, Gala muses as B\\xa0 \\xa0 \\xa0 \\xa0, “No one gets to sound like who they are; that isn’t how success operates.” But Thornton proves this isn’t always the case. Gala’s narration is singular—assured, sarcastic and yearning. She’s determined to tell her story, as well as B\\xa0 \\xa0 \\xa0 \\xa0’s, through her own particular lens, unrefined and vulnerable, full of messy contradictions. Thornton’s plotting is masterful, her prose elegant and her characterization nuanced. But it’s the emotional heft of Gala’s narrative voice that sets this novel apart.Summer Fun is unpredictable and delightful, structurally innovative and epic in scope. It’s a heartbreaking yet hopeful addition to the growing canon of literature that celebrates the complexity of trans lives.',\n",
       " 'According to the UN Refugee Agency, there were more than 26 million refugees worldwide at the end of 2019. Amid food insecurity, oppression and injustice, the global refugee crisis shows no signs of slowing, as migrants dare to cross dangerous seas on overcrowded ferries, fishing trawlers or other vessels in hopes of finding a better life. Many refugees fail to reach the next shore, becoming victims of dangerous waters or border patrols who turn them away.For Amir Utu, a 9-year-old Syrian boy in Omar El Akkad’s riveting second novel, What Strange Paradise, the voyage is at first a grand adventure, like in the comic books he reads. But after washing ashore on an unnamed island’s beach as the only survivor, Amir soon learns that this is no adventure but rather a matter of survival. Almost at once, he is pursued by soldiers combing the beach, and he must flee to escape them, though he barely understands why he is running in the first place.Amir’s flight brings him in contact with 15-year-old Vänna Hermes, who takes pity on him, hides him from the soldiers and tries to help him to safety. Amir is unable to understand Vänna’s language, but as the pair builds an unusual bond, Amir finds a friend amid a hostile world.An international journalist and author of the acclaimed novel American War, El Akkad shapes What Strange Paradise mostly through Amir’s point of view, alternating between the boy’s immediate past and his present situation as he struggles to comprehend his plight. The author’s decision to focus on Amir’s youthful innocence serves to downplay the serious political undertones of the refugee crisis, transforming the boy’s tale into an intimate action-adventure story that’s laced with hope and compassion, emotions with the power to transcend borders and worldly disputes.',\n",
       " 'Sunjeev Sahota’s brilliant second novel, the 2015 Booker Prize short-listed The Year of the Runaways, was a sweeping and absorbing look at hardscrabble Indian immigrant life in working-class England. His third book, China Room, is a shorter, more intimate novel that still tells a compelling and devastating tale. It’s also partially based on a true story.The novel alternates between two storylines in the 1920s and 1990s. The earlier timeline, which is based in part on Sahota’s great-grandmother’s experiences, is set in India’s heavily agricultural Punjab region. Notoriously patriarchal, rural India has been slow to offer women certain rights and opportunities, especially a century ago. Three brothers are married to young girls, including 15-year-old Mehar, in a triple ceremony. The girls are ruled with an iron fist by their mother-in-law, Mai, who barks orders like a military general and demeans them every chance she gets. Mai permits nightly visits between her sons and their new wives, but only in pitch darkness. In the confusion, an illicit affair begins.The second story, set during the summer of 1999, centers on Mehar’s great-grandson. Narrating from 2019, the man describes traveling to India, seeking refuge from the heroin that has wrecked his health and the racism that has broken apart his family in the U.K. While trying to overcome his addiction, he finds himself going cold turkey in the now rundown “china room” where Mehar used to live along with her sisters-in-law. The man’s story somewhat echoes Mehar’s, and when he falls for a female doctor who’s more than a decade older than he, the local village is rife with gossip.Through short chapters and sparse, tightly wrought prose, Sahota’s novel is both easy to read and difficult to put down. Something of a hometown hero, not only in the old steel town of Sheffield, where he currently resides, but also to British Indian and Asian writers, Sahota cements his place in a vibrant literary canon alongside Salman Rushdie, Kamila Shamsie, Mohsin Hamid, Hari Kunzru and others.',\n",
       " 'In Anuk Arudpragasam’s elegantly discursive second novel, memory, trauma and collective action determine the arc of lives.A Passage North begins in Colombo, Sri Lanka, where a young man named Krishan is mulling over an email from his cryptic ex-girlfriend, an activist named Anjum, whom he dated years ago in Delhi, India. Moments later, Krishan learns his grandmother’s caretaker, Rani, has mysteriously fallen down a well and died.\\xa0These two events set the wheels in motion for Krishan’s journey to the center of himself. He boards a train to northern Sri Lanka to attend Rani’s funeral, but his journey exists more in mind than body. He meditates on his brief but engulfing love affair with Anjum and is haunted by the government-sanctioned persecution of the Tamil people.For readers unfamiliar with the Sri Lankan Civil War, A Passage North offers perspective on the Sinhalese-dominated government’s conflict with the Liberation Tigers of Tamil Eelam. The insurrectionist Tamil Tigers fought to form an independent state so their ethno-linguistic minority group could escape subjugation, rape and killing. Arudpragasam raises questions about unfettered devotion to higher causes as Krishan struggles to find his own true purpose, the way Anjum seemed to find hers by forming a politically active commune away from Delhi—and away from their life together.Arudpragasam expertly captures the ambiguity of romance between two young people who feel the call of the broader world even as they cling to each other. Krishan recalls meeting Anjum through the queer scene in Delhi, where he was enraptured by her easy confidence, her knowledge of poetry and languages, and the way she stared back at men who ogled her, forcing them to confront their own gaze. While Arudpragasam’s writing remains observational throughout, this love story adds heat and intrigue to an otherwise philosophical novel.In A Passage North, past and present bleed together. Flipping through the novel’s pages, the reader will notice an absence of white space and section breaks outside of chapter demarcations. There is no direct dialogue either. In this way, the novel is reminiscent of José Saramago’s work. But Arudpragasam’s writing is exceptionally graceful, which allows the text to flow despite its density. The lack of action may frustrate some readers, but this structure creates an otherwise impossible narrative reverie. Ultimately, A Passage North is an elegant story whose discursive nature pays off.\\xa0 \\xa0',\n",
       " 'The funny and sharp fourth novel by acclaimed Bangladesh-born British author Tahmima Anam, The Startup Wife, exposes the folly of looking for leadership in the startup sector, which reveres disruption in all areas except its own.In this brilliantly incisive social novel, a quasi-faith community springs from a social media platform called WAI, short for “We Are Infinite.” WAI uses an algorithm to design personalized rituals based on three meaningful elements of a person’s life—and then introduces that person to a like-minded community.It’s easy to see why WAI would be appealing. Its rituals fill the void many modern-day people feel in the absence of organized religion. The platform\\'s essential concept is that if we treat something as sacred, we believe that it is more than entertainment, that it offers moral rewards and is worthy of rigorous contemplation. (Listeners to the \"Harry Potter and the Sacred Text\" podcast will find this idea familiar.)But first, the novel begins with a love story: Thirteen years after high school, Asha Ray reunites with her crush, Cyrus Jones, when they attend a memorial for their late English teacher. Asha is four years into her Ph.D. at Harvard, and Cyrus has become a charismatic spiritual polyglot. He’s traveled the world, collecting bits of philosophy and religion from an endless variety of sources, and distilled them into something people can use in their own lives. “I create rituals,” he says.Cyrus and Asha’s intellectual connection is intense, and soon, so is their physical relationship. The novel focuses on their all-encompassing, interconnected work-life partnership, which also includes, to a lesser extent, their best friend, Jules. When Asha’s artificial intelligence research hits a roadblock, she draws inspiration from Cyrus’ work and decides “to start a platform that [allows] people without religion to practice a form of faith.” Through Asha’s programming wizardry, WAI becomes a life-changing phenomenon. But it quickly becomes clear that the platform, intended to bring people together, is likely to blow the triad apart.The Startup Wife is framed as a satirical novel about startup culture, but because Americans revere that culture, its foibles and failings are our failures, too. Tech investors subscribe to the “great man” theory of history as much as the rest of America, and this unavoidable fact begins to spoil Asha’s relationships with her two male partners. Investors are more apt to provide valuable exposure and support to a passion project fronted by a brilliant (usually white) man rather than a geeky brown woman. So even though Asha’s research is the source of the platform’s Empathy Module algorithm, handsome Cyrus becomes the figurehead for WAI. Initially resistant to making his spiritual practice into a business, he is easily seduced into playing CEO and messiah.While The Startup Wife is full of beautifully messy and enviable characters, Asha’s fierce feminism and candor stand out. Of course, she’s far from innocent. She’s a creative genius who wants her due, just as any man would. But it’s a delight to experience Asha’s first-person perspective of the world and her metamorphosis into a powerful, flawed woman.Because The Startup Wife is sexy and funny and puts relationships at the forefront, it might be easy to overlook its depth and sophistication. But its priorities are right where they should be. When people create a community with their friends and lovers, it is inevitable that boundaries will dissolve and that friendship, love, ego and identity will become intertwined. The Startup Wife’s insights about modern relationships, gender politics, race, technology and culture are as excellent and vital as its storytelling.',\n",
       " 'Unembellished and forthright, The Tiger Mom’s Tale is a touching story that illuminates intricacies of race, ethnicity, traditions and stereotypes.Thirty-something Lexa Thomas is a fitness trainer living in New York City, and she’s trying to adjust to the news that her white mother is divorcing Lexa’s white stepfather after falling for an Asian American acupuncturist. Then Lexa receives a call from her half sister in Taiwan, Hsu-Ling, who informs Lexa that their biological father has died. This stirs up memories of what happened during Lexa’s last visit to Taiwan, when she was forced to abandon her father and her heritage 22 years ago.But Hsu-Ling has more news. Their Uncle Pong has also died, within moments of their father’s death, and he left a mysterious letter for Lexa. Encouraged by her two half sisters, one Taiwanese and the other a white American, Lexa returns to Taiwan to claim her rightful place in the family.Lyn Liao Butler’s tale is a literary melting pot brimming with blended families and cultures. The straightforward, exposition-heavy narrative is sprinkled with Mandarin and broad references to different Asian foods and cultural elements, although the lack of development of these aspects may distract the reader from fully immersing themselves in Lexa’s journey to connect with her heritage. Scenes that reveal backstory and the surprising events that turned Lexa away from her Taiwanese relatives slowly tease out the novel’s climax.Lexa’s gentle humility and quiet confidence will garner the support of readers looking for a likable protagonist. A heartwarming romantic subplot is a sweet result of Lexa’s transformation and self-acceptance and provides another union of ethnic backgrounds.Filled with potential book club discussion topics and perfect for fans of YA novels by Jenny Han, The Tiger Mom’s Tale will unleash timely dialogue about identity, family secrets and cultural divides.',\n",
       " 'Remember the smoke monster from “Lost”? It appears that he’s alive and well and living in Violet Kupersmith’s debut novel, Build Your House Around My Body. Add in two-headed cobras, hungry ghosts, body-hopping and body horror (both the more ordinary kind that involves explosive emesis and incontinence, and the kind that involves eldritch distortions), then throw in Vietnam’s history as a chew toy of empires, and you have a small part of what goes on in this kaleidoscopic book.On its surface, Build Your House Around My Body concerns Winnie Nguyen, a Vietnamese American woman who’s come to Vietnam to teach and to find herself. One day, she disappears. Every chapter heading refers to her vanishing; one chapter is set 62 years before her disappearance, while another’s events occur the day after. It’s as if the workings of the cosmos depend on the fate of this messed up, seemingly insignificant young woman.And how messed up she is, despite her longing to be good. When she is told that good Vietnamese girls don’t drink coffee, she never touches it again. But Winnie just can’t make her life work. She exists in a state of squalor, both internally and externally, reflecting the condition of Saigon’s noisome open-air markets, sleazy sex motels and creepy karaoke bars and beer joints.Kupersmith’s grasp of her story’s secondary characters is as firm as her grasp of Winnie. There’s the gentle and befuddled Long and his estranged brother, Tan, both in love with a combative girl named Binh. There are Winnie’s ridiculous fellow teachers at the Achievement! International Language Academy. There are fortunetellers and shape-shifters, pepper and rubber plantation tycoons, and a lady who may or may not be a paraplegic who sells fake lottery tickets.It would have been easy for a book with so much going on to collapse into incoherence, but it’s an engaging read the whole way through. Build Your House Around My Body is an unsettling and powerful work.',\n",
       " 'As Together We Will Go opens, 29-year-old Mark believes he’s never going to succeed at writing. He’s had suicidal thoughts since high school, he’s had enough of life, and he’s come up with a plan: a final bus trip, one last cross-country party with a group of like-minded souls who can’t carry the weight of life anymore.J. Michael Straczynski’s novel follows this group of mostly young people intent on ending their lives. As the bus stops in several states to pick up passengers, the story cycles through all 12 characters’ perspectives, but six take center stage: the aforementioned Mark; Karen, a young woman with chronic pain; Tyler, a young man with a worsening hole in his heart; Vaughn, a 66-year-old widower with a painful secret; Lisa, whose bipolar disorder has led her to despair; and Shanelle, a lonely woman who has been bullied for her size. As the bus makes its way west, these characters connect, form alliances and deal with each other’s quirks and bad behavior.Straczynski, a comic book writer, screenwriter and co-creator of Netflix’s “Sense8,” uses text messages, emails, online journal entries and audio transcripts to reveal the characters’ thoughts and actions, creating a 21st-century epistolary novel. Because of this format, the novel moves along quickly, although the characters’ thoughts occasionally blur together, especially when musing philosophically on the state of the world and their places in it.But a late plot twist is satisfying, intensifying the characters’ bonds as they decide what to do. While a novel about characters planning to end their lives is not for everyone (as the introduction notes, “discretion is advised”), Together We Will Go is, in the end, about friendship and learning to love.']"
      ]
     },
     "execution_count": 305,
     "metadata": {},
     "output_type": "execute_result"
    }
   ],
   "source": [
    "review_list=[]\n",
    "for i in urls:\n",
    "    book=requests.get('https://bookpage.com/' + i)\n",
    "    soup=BeautifulSoup(book.content,'html.parser')\n",
    "    review=soup.find('div',class_=\"article-body\")\n",
    "    review_list.append(review.text.replace('\\n',''))\n",
    "review_list"
   ]
  },
  {
   "cell_type": "code",
   "execution_count": 306,
   "metadata": {},
   "outputs": [
    {
     "data": {
      "text/plain": [
       "10"
      ]
     },
     "execution_count": 306,
     "metadata": {},
     "output_type": "execute_result"
    }
   ],
   "source": [
    "len(review_list)"
   ]
  },
  {
   "cell_type": "code",
   "execution_count": 308,
   "metadata": {},
   "outputs": [
    {
     "data": {
      "text/html": [
       "<div>\n",
       "<style scoped>\n",
       "    .dataframe tbody tr th:only-of-type {\n",
       "        vertical-align: middle;\n",
       "    }\n",
       "\n",
       "    .dataframe tbody tr th {\n",
       "        vertical-align: top;\n",
       "    }\n",
       "\n",
       "    .dataframe thead th {\n",
       "        text-align: right;\n",
       "    }\n",
       "</style>\n",
       "<table border=\"1\" class=\"dataframe\">\n",
       "  <thead>\n",
       "    <tr style=\"text-align: right;\">\n",
       "      <th></th>\n",
       "      <th>Book</th>\n",
       "      <th>Author</th>\n",
       "      <th>Genre</th>\n",
       "      <th>Review</th>\n",
       "    </tr>\n",
       "  </thead>\n",
       "  <tbody>\n",
       "    <tr>\n",
       "      <th>0</th>\n",
       "      <td>How to Find Your Way in the Dark</td>\n",
       "      <td>Derek B. Miller</td>\n",
       "      <td>Fiction / Coming of Age</td>\n",
       "      <td>Prepare for surprises galore in How to Find Yo...</td>\n",
       "    </tr>\n",
       "    <tr>\n",
       "      <th>1</th>\n",
       "      <td>All’s Well</td>\n",
       "      <td>Mona Awad</td>\n",
       "      <td>Fiction / Literary Fiction</td>\n",
       "      <td>Miranda Fitch, the protagonist of Mona Awad’s ...</td>\n",
       "    </tr>\n",
       "    <tr>\n",
       "      <th>2</th>\n",
       "      <td>Summer Fun</td>\n",
       "      <td>Jeanne Thornton</td>\n",
       "      <td>Fiction / Literary Fiction</td>\n",
       "      <td>It’s been nine years since the publication of ...</td>\n",
       "    </tr>\n",
       "    <tr>\n",
       "      <th>3</th>\n",
       "      <td>What Strange Paradise</td>\n",
       "      <td>Omar El Akkad</td>\n",
       "      <td>Fiction / Literary Fiction</td>\n",
       "      <td>According to the UN Refugee Agency, there were...</td>\n",
       "    </tr>\n",
       "    <tr>\n",
       "      <th>4</th>\n",
       "      <td>China Room</td>\n",
       "      <td>Sunjeev Sahota</td>\n",
       "      <td>Fiction / Literary Fiction</td>\n",
       "      <td>Sunjeev Sahota’s brilliant second novel, the 2...</td>\n",
       "    </tr>\n",
       "    <tr>\n",
       "      <th>5</th>\n",
       "      <td>A Passage North</td>\n",
       "      <td>Anuk Arudpragasm</td>\n",
       "      <td>Fiction / Literary Fiction</td>\n",
       "      <td>In Anuk Arudpragasam’s elegantly discursive se...</td>\n",
       "    </tr>\n",
       "    <tr>\n",
       "      <th>6</th>\n",
       "      <td>The Startup Wife</td>\n",
       "      <td>Tahmima Anam</td>\n",
       "      <td>Fiction / Literary Fiction</td>\n",
       "      <td>The funny and sharp fourth novel by acclaimed ...</td>\n",
       "    </tr>\n",
       "    <tr>\n",
       "      <th>7</th>\n",
       "      <td>The Tiger Mom’s Tale</td>\n",
       "      <td>Lyn Liao Butler</td>\n",
       "      <td>Fiction / Family Drama</td>\n",
       "      <td>Unembellished and forthright, The Tiger Mom’s ...</td>\n",
       "    </tr>\n",
       "    <tr>\n",
       "      <th>8</th>\n",
       "      <td>Build Your House Around My Body</td>\n",
       "      <td>Violet Kupersmith</td>\n",
       "      <td>Fiction / Literary Fiction</td>\n",
       "      <td>Remember the smoke monster from “Lost”? It app...</td>\n",
       "    </tr>\n",
       "    <tr>\n",
       "      <th>9</th>\n",
       "      <td>Together We Will Go</td>\n",
       "      <td>J. Michael Straczynski</td>\n",
       "      <td>Fiction / Popular Fiction</td>\n",
       "      <td>As Together We Will Go opens, 29-year-old Mark...</td>\n",
       "    </tr>\n",
       "  </tbody>\n",
       "</table>\n",
       "</div>"
      ],
      "text/plain": [
       "                               Book                  Author  \\\n",
       "0  How to Find Your Way in the Dark         Derek B. Miller   \n",
       "1                        All’s Well               Mona Awad   \n",
       "2                        Summer Fun         Jeanne Thornton   \n",
       "3             What Strange Paradise           Omar El Akkad   \n",
       "4                        China Room          Sunjeev Sahota   \n",
       "5                   A Passage North        Anuk Arudpragasm   \n",
       "6                  The Startup Wife            Tahmima Anam   \n",
       "7              The Tiger Mom’s Tale         Lyn Liao Butler   \n",
       "8   Build Your House Around My Body       Violet Kupersmith   \n",
       "9               Together We Will Go  J. Michael Straczynski   \n",
       "\n",
       "                        Genre  \\\n",
       "0     Fiction / Coming of Age   \n",
       "1  Fiction / Literary Fiction   \n",
       "2  Fiction / Literary Fiction   \n",
       "3  Fiction / Literary Fiction   \n",
       "4  Fiction / Literary Fiction   \n",
       "5  Fiction / Literary Fiction   \n",
       "6  Fiction / Literary Fiction   \n",
       "7      Fiction / Family Drama   \n",
       "8  Fiction / Literary Fiction   \n",
       "9   Fiction / Popular Fiction   \n",
       "\n",
       "                                              Review  \n",
       "0  Prepare for surprises galore in How to Find Yo...  \n",
       "1  Miranda Fitch, the protagonist of Mona Awad’s ...  \n",
       "2  It’s been nine years since the publication of ...  \n",
       "3  According to the UN Refugee Agency, there were...  \n",
       "4  Sunjeev Sahota’s brilliant second novel, the 2...  \n",
       "5  In Anuk Arudpragasam’s elegantly discursive se...  \n",
       "6  The funny and sharp fourth novel by acclaimed ...  \n",
       "7  Unembellished and forthright, The Tiger Mom’s ...  \n",
       "8  Remember the smoke monster from “Lost”? It app...  \n",
       "9  As Together We Will Go opens, 29-year-old Mark...  "
      ]
     },
     "execution_count": 308,
     "metadata": {},
     "output_type": "execute_result"
    }
   ],
   "source": [
    "books=pd.DataFrame()\n",
    "\n",
    "books['Book']=book_name\n",
    "books['Author']=author_list\n",
    "books['Genre']=genre_list\n",
    "books['Review']=review_list\n",
    "\n",
    "books"
   ]
  },
  {
   "cell_type": "code",
   "execution_count": 309,
   "metadata": {},
   "outputs": [
    {
     "data": {
      "text/html": [
       "<div>\n",
       "<style scoped>\n",
       "    .dataframe tbody tr th:only-of-type {\n",
       "        vertical-align: middle;\n",
       "    }\n",
       "\n",
       "    .dataframe tbody tr th {\n",
       "        vertical-align: top;\n",
       "    }\n",
       "\n",
       "    .dataframe thead th {\n",
       "        text-align: right;\n",
       "    }\n",
       "</style>\n",
       "<table border=\"1\" class=\"dataframe\">\n",
       "  <thead>\n",
       "    <tr style=\"text-align: right;\">\n",
       "      <th></th>\n",
       "      <th>Book</th>\n",
       "      <th>Author</th>\n",
       "      <th>Genre</th>\n",
       "      <th>Review</th>\n",
       "    </tr>\n",
       "  </thead>\n",
       "  <tbody>\n",
       "    <tr>\n",
       "      <th>0</th>\n",
       "      <td>How to Find Your Way in the Dark</td>\n",
       "      <td>Derek B. Miller</td>\n",
       "      <td>Fiction / Coming of Age</td>\n",
       "      <td>Prepare for surprises galore in How to Find Yo...</td>\n",
       "    </tr>\n",
       "    <tr>\n",
       "      <th>1</th>\n",
       "      <td>All’s Well</td>\n",
       "      <td>Mona Awad</td>\n",
       "      <td>Fiction / Literary Fiction</td>\n",
       "      <td>Miranda Fitch, the protagonist of Mona Awad’s ...</td>\n",
       "    </tr>\n",
       "    <tr>\n",
       "      <th>2</th>\n",
       "      <td>Summer Fun</td>\n",
       "      <td>Jeanne Thornton</td>\n",
       "      <td>Fiction / Literary Fiction</td>\n",
       "      <td>It’s been nine years since the publication of ...</td>\n",
       "    </tr>\n",
       "    <tr>\n",
       "      <th>3</th>\n",
       "      <td>What Strange Paradise</td>\n",
       "      <td>Omar El Akkad</td>\n",
       "      <td>Fiction / Literary Fiction</td>\n",
       "      <td>According to the UN Refugee Agency, there were...</td>\n",
       "    </tr>\n",
       "    <tr>\n",
       "      <th>4</th>\n",
       "      <td>China Room</td>\n",
       "      <td>Sunjeev Sahota</td>\n",
       "      <td>Fiction / Literary Fiction</td>\n",
       "      <td>Sunjeev Sahota’s brilliant second novel, the 2...</td>\n",
       "    </tr>\n",
       "  </tbody>\n",
       "</table>\n",
       "</div>"
      ],
      "text/plain": [
       "                               Book           Author  \\\n",
       "0  How to Find Your Way in the Dark  Derek B. Miller   \n",
       "1                        All’s Well        Mona Awad   \n",
       "2                        Summer Fun  Jeanne Thornton   \n",
       "3             What Strange Paradise    Omar El Akkad   \n",
       "4                        China Room   Sunjeev Sahota   \n",
       "\n",
       "                        Genre  \\\n",
       "0     Fiction / Coming of Age   \n",
       "1  Fiction / Literary Fiction   \n",
       "2  Fiction / Literary Fiction   \n",
       "3  Fiction / Literary Fiction   \n",
       "4  Fiction / Literary Fiction   \n",
       "\n",
       "                                              Review  \n",
       "0  Prepare for surprises galore in How to Find Yo...  \n",
       "1  Miranda Fitch, the protagonist of Mona Awad’s ...  \n",
       "2  It’s been nine years since the publication of ...  \n",
       "3  According to the UN Refugee Agency, there were...  \n",
       "4  Sunjeev Sahota’s brilliant second novel, the 2...  "
      ]
     },
     "execution_count": 309,
     "metadata": {},
     "output_type": "execute_result"
    }
   ],
   "source": [
    "books.head()"
   ]
  },
  {
   "cell_type": "markdown",
   "metadata": {},
   "source": [
    "## Q5. Write a python program to scrape cricket rankings from ‘www.icc-cricket.com’. You have to scrape:\n",
    "**i) Top 10 ODI teams in men’s cricket along with the records for matches, points andrating.**\n"
   ]
  },
  {
   "cell_type": "code",
   "execution_count": 68,
   "metadata": {},
   "outputs": [
    {
     "data": {
      "text/plain": [
       "<Response [200]>"
      ]
     },
     "execution_count": 68,
     "metadata": {},
     "output_type": "execute_result"
    }
   ],
   "source": [
    "cric_page=requests.get('https://www.icc-cricket.com/rankings/mens/team-rankings/odi')\n",
    "cric_page"
   ]
  },
  {
   "cell_type": "code",
   "execution_count": 85,
   "metadata": {},
   "outputs": [],
   "source": [
    "cric_soup=BeautifulSoup(cric_page.content)"
   ]
  },
  {
   "cell_type": "code",
   "execution_count": 108,
   "metadata": {},
   "outputs": [],
   "source": [
    "#num_of_matches=[]\n",
    "ratings=[]\n",
    "#points=[]\n",
    "#new_list=[]\n"
   ]
  },
  {
   "cell_type": "code",
   "execution_count": 89,
   "metadata": {},
   "outputs": [],
   "source": [
    "match=cric_soup.find_all('td',class_=\"rankings-block__banner--matches\")"
   ]
  },
  {
   "cell_type": "code",
   "execution_count": 90,
   "metadata": {},
   "outputs": [
    {
     "data": {
      "text/plain": [
       "['17']"
      ]
     },
     "execution_count": 90,
     "metadata": {},
     "output_type": "execute_result"
    }
   ],
   "source": [
    "for i in match:\n",
    "    num_of_matches.append(i.text)\n",
    "num_of_matches"
   ]
  },
  {
   "cell_type": "code",
   "execution_count": 91,
   "metadata": {},
   "outputs": [
    {
     "data": {
      "text/plain": [
       "['32',\n",
       " '3,793',\n",
       " '27',\n",
       " '3,109',\n",
       " '32',\n",
       " '3,624',\n",
       " '22',\n",
       " '2,267',\n",
       " '27',\n",
       " '2,524',\n",
       " '29',\n",
       " '2,639',\n",
       " '29',\n",
       " '2,458',\n",
       " '29',\n",
       " '2,303',\n",
       " '17',\n",
       " '1,054',\n",
       " '7',\n",
       " '336',\n",
       " '23',\n",
       " '1,067',\n",
       " '17',\n",
       " '646',\n",
       " '7',\n",
       " '258',\n",
       " '7',\n",
       " '240',\n",
       " '5',\n",
       " '119',\n",
       " '9',\n",
       " '190',\n",
       " '6',\n",
       " '97',\n",
       " '8',\n",
       " '93',\n",
       " '5',\n",
       " '0']"
      ]
     },
     "execution_count": 91,
     "metadata": {},
     "output_type": "execute_result"
    }
   ],
   "source": [
    "match1=cric_soup.find_all('td',class_=\"table-body__cell u-center-text\")\n",
    "complete_info=[]\n",
    "\n",
    "for i in match1:\n",
    "    complete_info.append(i.text)\n",
    "complete_info"
   ]
  },
  {
   "cell_type": "code",
   "execution_count": 98,
   "metadata": {},
   "outputs": [
    {
     "data": {
      "text/plain": [
       "['17',\n",
       " '32',\n",
       " '27',\n",
       " '32',\n",
       " '22',\n",
       " '27',\n",
       " '29',\n",
       " '29',\n",
       " '29',\n",
       " '17',\n",
       " '7',\n",
       " '23',\n",
       " '17',\n",
       " '7',\n",
       " '7',\n",
       " '5',\n",
       " '9',\n",
       " '6',\n",
       " '8',\n",
       " '5',\n",
       " '32',\n",
       " '27',\n",
       " '32',\n",
       " '22',\n",
       " '27',\n",
       " '29',\n",
       " '29',\n",
       " '29',\n",
       " '17',\n",
       " '7',\n",
       " '23',\n",
       " '17',\n",
       " '7',\n",
       " '7',\n",
       " '5',\n",
       " '9',\n",
       " '6',\n",
       " '8',\n",
       " '5',\n",
       " '32',\n",
       " '27',\n",
       " '32',\n",
       " '22',\n",
       " '27',\n",
       " '29',\n",
       " '29',\n",
       " '29',\n",
       " '17',\n",
       " '7',\n",
       " '23',\n",
       " '17',\n",
       " '7',\n",
       " '7',\n",
       " '5',\n",
       " '9',\n",
       " '6',\n",
       " '8',\n",
       " '5',\n",
       " '32',\n",
       " '27',\n",
       " '32',\n",
       " '22',\n",
       " '27',\n",
       " '29',\n",
       " '29',\n",
       " '29',\n",
       " '17',\n",
       " '7',\n",
       " '23',\n",
       " '17',\n",
       " '7',\n",
       " '7',\n",
       " '5',\n",
       " '9',\n",
       " '6',\n",
       " '8',\n",
       " '5',\n",
       " '32',\n",
       " '27',\n",
       " '32',\n",
       " '22',\n",
       " '27',\n",
       " '29',\n",
       " '29',\n",
       " '29',\n",
       " '17',\n",
       " '7',\n",
       " '23',\n",
       " '17',\n",
       " '7',\n",
       " '7',\n",
       " '5',\n",
       " '9',\n",
       " '6',\n",
       " '8',\n",
       " '5',\n",
       " '32',\n",
       " '27',\n",
       " '32',\n",
       " '22',\n",
       " '27',\n",
       " '29',\n",
       " '29',\n",
       " '29',\n",
       " '17',\n",
       " '7',\n",
       " '23',\n",
       " '17',\n",
       " '7',\n",
       " '7',\n",
       " '5',\n",
       " '9',\n",
       " '6',\n",
       " '8',\n",
       " '5']"
      ]
     },
     "execution_count": 98,
     "metadata": {},
     "output_type": "execute_result"
    }
   ],
   "source": [
    "for i in range(0,len(complete_info),2):\n",
    "    num_of_matches.append(complete_info[i])\n",
    "num_of_matches"
   ]
  },
  {
   "cell_type": "code",
   "execution_count": 99,
   "metadata": {},
   "outputs": [
    {
     "data": {
      "text/plain": [
       "['2,054']"
      ]
     },
     "execution_count": 99,
     "metadata": {},
     "output_type": "execute_result"
    }
   ],
   "source": [
    "pnt=cric_soup.find_all('td',class_=\"rankings-block__banner--points\")\n",
    "\n",
    "for i in pnt:\n",
    "    points.append(i.text)\n",
    "points"
   ]
  },
  {
   "cell_type": "code",
   "execution_count": 100,
   "metadata": {},
   "outputs": [
    {
     "data": {
      "text/plain": [
       "['2,054',\n",
       " '3,793',\n",
       " '3,109',\n",
       " '3,624',\n",
       " '2,267',\n",
       " '2,524',\n",
       " '2,639',\n",
       " '2,458',\n",
       " '2,303',\n",
       " '1,054',\n",
       " '336',\n",
       " '1,067',\n",
       " '646',\n",
       " '258',\n",
       " '240',\n",
       " '119',\n",
       " '190',\n",
       " '97',\n",
       " '93',\n",
       " '0']"
      ]
     },
     "execution_count": 100,
     "metadata": {},
     "output_type": "execute_result"
    }
   ],
   "source": [
    "for i in range(1,len(complete_info),2):\n",
    "    points.append(complete_info[i])\n",
    "points"
   ]
  },
  {
   "cell_type": "code",
   "execution_count": null,
   "metadata": {},
   "outputs": [],
   "source": []
  },
  {
   "cell_type": "code",
   "execution_count": 109,
   "metadata": {},
   "outputs": [
    {
     "data": {
      "text/plain": [
       "['121']"
      ]
     },
     "execution_count": 109,
     "metadata": {},
     "output_type": "execute_result"
    }
   ],
   "source": [
    "rtng=cric_soup.find_all('td',class_=\"rankings-block__banner--rating u-text-right\")\n",
    "\n",
    "for i in rtng:\n",
    "    ratings.append(i.text.replace('\\n','').strip())\n",
    "ratings"
   ]
  },
  {
   "cell_type": "code",
   "execution_count": 110,
   "metadata": {
    "scrolled": true
   },
   "outputs": [
    {
     "data": {
      "text/plain": [
       "['121',\n",
       " '119',\n",
       " '115',\n",
       " '113',\n",
       " '103',\n",
       " '93',\n",
       " '91',\n",
       " '85',\n",
       " '79',\n",
       " '62',\n",
       " '48',\n",
       " '46',\n",
       " '38',\n",
       " '37',\n",
       " '34',\n",
       " '24',\n",
       " '21',\n",
       " '16',\n",
       " '12',\n",
       " '0']"
      ]
     },
     "execution_count": 110,
     "metadata": {},
     "output_type": "execute_result"
    }
   ],
   "source": [
    "complete_rtng=cric_soup.find_all('td',class_=\"table-body__cell u-text-right rating\")\n",
    "for i in complete_rtng:\n",
    "    ratings.append(i.text.replace('\\n','').strip())\n",
    "ratings"
   ]
  },
  {
   "cell_type": "code",
   "execution_count": 111,
   "metadata": {},
   "outputs": [],
   "source": [
    "teams=[]"
   ]
  },
  {
   "cell_type": "code",
   "execution_count": 112,
   "metadata": {
    "scrolled": true
   },
   "outputs": [
    {
     "data": {
      "text/plain": [
       "['NZ',\n",
       " 'ENG',\n",
       " 'AUS',\n",
       " 'IND',\n",
       " 'SA',\n",
       " 'PAK',\n",
       " 'BAN',\n",
       " 'WI',\n",
       " 'SL',\n",
       " 'AFG',\n",
       " 'NED',\n",
       " 'IRE',\n",
       " 'ZIM',\n",
       " 'SCO',\n",
       " 'OMA',\n",
       " 'NEP',\n",
       " 'UAE',\n",
       " 'NAM',\n",
       " 'USA',\n",
       " 'PNG',\n",
       " '',\n",
       " '',\n",
       " '',\n",
       " '',\n",
       " '']"
      ]
     },
     "execution_count": 112,
     "metadata": {},
     "output_type": "execute_result"
    }
   ],
   "source": [
    "team=cric_soup.find_all('span',class_=\"u-show-phablet\")\n",
    "\n",
    "for i in team:\n",
    "    teams.append(i.text)\n",
    "teams"
   ]
  },
  {
   "cell_type": "code",
   "execution_count": 115,
   "metadata": {},
   "outputs": [
    {
     "data": {
      "text/plain": [
       "['1']"
      ]
     },
     "execution_count": 115,
     "metadata": {},
     "output_type": "execute_result"
    }
   ],
   "source": [
    "position=[]\n",
    "\n",
    "rank=cric_soup.find_all('td',class_=\"rankings-block__banner--pos\")\n",
    "\n",
    "for i in rank:\n",
    "    position.append(i.text)\n",
    "position"
   ]
  },
  {
   "cell_type": "code",
   "execution_count": 116,
   "metadata": {},
   "outputs": [
    {
     "data": {
      "text/plain": [
       "['1',\n",
       " '2',\n",
       " '3',\n",
       " '4',\n",
       " '5',\n",
       " '6',\n",
       " '7',\n",
       " '8',\n",
       " '9',\n",
       " '10',\n",
       " '11',\n",
       " '12',\n",
       " '13',\n",
       " '14',\n",
       " '15',\n",
       " '16',\n",
       " '17',\n",
       " '18',\n",
       " '19',\n",
       " '20']"
      ]
     },
     "execution_count": 116,
     "metadata": {},
     "output_type": "execute_result"
    }
   ],
   "source": [
    "total_rank=cric_soup.find_all('td',class_=\"table-body__cell table-body__cell--position u-text-right\")\n",
    "\n",
    "for i in total_rank:\n",
    "    position.append(i.text)\n",
    "position"
   ]
  },
  {
   "cell_type": "code",
   "execution_count": null,
   "metadata": {},
   "outputs": [],
   "source": []
  },
  {
   "cell_type": "code",
   "execution_count": 121,
   "metadata": {},
   "outputs": [
    {
     "data": {
      "text/html": [
       "<style  type=\"text/css\" >\n",
       "</style><table id=\"T_f154fce9_ef08_11eb_8f66_8d20dba5c1a9\" ><thead>    <tr>        <th class=\"col_heading level0 col0\" >Position</th>        <th class=\"col_heading level0 col1\" >Team</th>        <th class=\"col_heading level0 col2\" >Matches</th>        <th class=\"col_heading level0 col3\" >Points</th>        <th class=\"col_heading level0 col4\" >Rating</th>    </tr></thead><tbody>\n",
       "                <tr>\n",
       "                                <td id=\"T_f154fce9_ef08_11eb_8f66_8d20dba5c1a9row0_col0\" class=\"data row0 col0\" >1</td>\n",
       "                        <td id=\"T_f154fce9_ef08_11eb_8f66_8d20dba5c1a9row0_col1\" class=\"data row0 col1\" >NZ</td>\n",
       "                        <td id=\"T_f154fce9_ef08_11eb_8f66_8d20dba5c1a9row0_col2\" class=\"data row0 col2\" >17</td>\n",
       "                        <td id=\"T_f154fce9_ef08_11eb_8f66_8d20dba5c1a9row0_col3\" class=\"data row0 col3\" >2,054</td>\n",
       "                        <td id=\"T_f154fce9_ef08_11eb_8f66_8d20dba5c1a9row0_col4\" class=\"data row0 col4\" >121</td>\n",
       "            </tr>\n",
       "            <tr>\n",
       "                                <td id=\"T_f154fce9_ef08_11eb_8f66_8d20dba5c1a9row1_col0\" class=\"data row1 col0\" >2</td>\n",
       "                        <td id=\"T_f154fce9_ef08_11eb_8f66_8d20dba5c1a9row1_col1\" class=\"data row1 col1\" >ENG</td>\n",
       "                        <td id=\"T_f154fce9_ef08_11eb_8f66_8d20dba5c1a9row1_col2\" class=\"data row1 col2\" >32</td>\n",
       "                        <td id=\"T_f154fce9_ef08_11eb_8f66_8d20dba5c1a9row1_col3\" class=\"data row1 col3\" >3,793</td>\n",
       "                        <td id=\"T_f154fce9_ef08_11eb_8f66_8d20dba5c1a9row1_col4\" class=\"data row1 col4\" >119</td>\n",
       "            </tr>\n",
       "            <tr>\n",
       "                                <td id=\"T_f154fce9_ef08_11eb_8f66_8d20dba5c1a9row2_col0\" class=\"data row2 col0\" >3</td>\n",
       "                        <td id=\"T_f154fce9_ef08_11eb_8f66_8d20dba5c1a9row2_col1\" class=\"data row2 col1\" >AUS</td>\n",
       "                        <td id=\"T_f154fce9_ef08_11eb_8f66_8d20dba5c1a9row2_col2\" class=\"data row2 col2\" >27</td>\n",
       "                        <td id=\"T_f154fce9_ef08_11eb_8f66_8d20dba5c1a9row2_col3\" class=\"data row2 col3\" >3,109</td>\n",
       "                        <td id=\"T_f154fce9_ef08_11eb_8f66_8d20dba5c1a9row2_col4\" class=\"data row2 col4\" >115</td>\n",
       "            </tr>\n",
       "            <tr>\n",
       "                                <td id=\"T_f154fce9_ef08_11eb_8f66_8d20dba5c1a9row3_col0\" class=\"data row3 col0\" >4</td>\n",
       "                        <td id=\"T_f154fce9_ef08_11eb_8f66_8d20dba5c1a9row3_col1\" class=\"data row3 col1\" >IND</td>\n",
       "                        <td id=\"T_f154fce9_ef08_11eb_8f66_8d20dba5c1a9row3_col2\" class=\"data row3 col2\" >32</td>\n",
       "                        <td id=\"T_f154fce9_ef08_11eb_8f66_8d20dba5c1a9row3_col3\" class=\"data row3 col3\" >3,624</td>\n",
       "                        <td id=\"T_f154fce9_ef08_11eb_8f66_8d20dba5c1a9row3_col4\" class=\"data row3 col4\" >113</td>\n",
       "            </tr>\n",
       "            <tr>\n",
       "                                <td id=\"T_f154fce9_ef08_11eb_8f66_8d20dba5c1a9row4_col0\" class=\"data row4 col0\" >5</td>\n",
       "                        <td id=\"T_f154fce9_ef08_11eb_8f66_8d20dba5c1a9row4_col1\" class=\"data row4 col1\" >SA</td>\n",
       "                        <td id=\"T_f154fce9_ef08_11eb_8f66_8d20dba5c1a9row4_col2\" class=\"data row4 col2\" >22</td>\n",
       "                        <td id=\"T_f154fce9_ef08_11eb_8f66_8d20dba5c1a9row4_col3\" class=\"data row4 col3\" >2,267</td>\n",
       "                        <td id=\"T_f154fce9_ef08_11eb_8f66_8d20dba5c1a9row4_col4\" class=\"data row4 col4\" >103</td>\n",
       "            </tr>\n",
       "            <tr>\n",
       "                                <td id=\"T_f154fce9_ef08_11eb_8f66_8d20dba5c1a9row5_col0\" class=\"data row5 col0\" >6</td>\n",
       "                        <td id=\"T_f154fce9_ef08_11eb_8f66_8d20dba5c1a9row5_col1\" class=\"data row5 col1\" >PAK</td>\n",
       "                        <td id=\"T_f154fce9_ef08_11eb_8f66_8d20dba5c1a9row5_col2\" class=\"data row5 col2\" >27</td>\n",
       "                        <td id=\"T_f154fce9_ef08_11eb_8f66_8d20dba5c1a9row5_col3\" class=\"data row5 col3\" >2,524</td>\n",
       "                        <td id=\"T_f154fce9_ef08_11eb_8f66_8d20dba5c1a9row5_col4\" class=\"data row5 col4\" >93</td>\n",
       "            </tr>\n",
       "            <tr>\n",
       "                                <td id=\"T_f154fce9_ef08_11eb_8f66_8d20dba5c1a9row6_col0\" class=\"data row6 col0\" >7</td>\n",
       "                        <td id=\"T_f154fce9_ef08_11eb_8f66_8d20dba5c1a9row6_col1\" class=\"data row6 col1\" >BAN</td>\n",
       "                        <td id=\"T_f154fce9_ef08_11eb_8f66_8d20dba5c1a9row6_col2\" class=\"data row6 col2\" >29</td>\n",
       "                        <td id=\"T_f154fce9_ef08_11eb_8f66_8d20dba5c1a9row6_col3\" class=\"data row6 col3\" >2,639</td>\n",
       "                        <td id=\"T_f154fce9_ef08_11eb_8f66_8d20dba5c1a9row6_col4\" class=\"data row6 col4\" >91</td>\n",
       "            </tr>\n",
       "            <tr>\n",
       "                                <td id=\"T_f154fce9_ef08_11eb_8f66_8d20dba5c1a9row7_col0\" class=\"data row7 col0\" >8</td>\n",
       "                        <td id=\"T_f154fce9_ef08_11eb_8f66_8d20dba5c1a9row7_col1\" class=\"data row7 col1\" >WI</td>\n",
       "                        <td id=\"T_f154fce9_ef08_11eb_8f66_8d20dba5c1a9row7_col2\" class=\"data row7 col2\" >29</td>\n",
       "                        <td id=\"T_f154fce9_ef08_11eb_8f66_8d20dba5c1a9row7_col3\" class=\"data row7 col3\" >2,458</td>\n",
       "                        <td id=\"T_f154fce9_ef08_11eb_8f66_8d20dba5c1a9row7_col4\" class=\"data row7 col4\" >85</td>\n",
       "            </tr>\n",
       "            <tr>\n",
       "                                <td id=\"T_f154fce9_ef08_11eb_8f66_8d20dba5c1a9row8_col0\" class=\"data row8 col0\" >9</td>\n",
       "                        <td id=\"T_f154fce9_ef08_11eb_8f66_8d20dba5c1a9row8_col1\" class=\"data row8 col1\" >SL</td>\n",
       "                        <td id=\"T_f154fce9_ef08_11eb_8f66_8d20dba5c1a9row8_col2\" class=\"data row8 col2\" >29</td>\n",
       "                        <td id=\"T_f154fce9_ef08_11eb_8f66_8d20dba5c1a9row8_col3\" class=\"data row8 col3\" >2,303</td>\n",
       "                        <td id=\"T_f154fce9_ef08_11eb_8f66_8d20dba5c1a9row8_col4\" class=\"data row8 col4\" >79</td>\n",
       "            </tr>\n",
       "            <tr>\n",
       "                                <td id=\"T_f154fce9_ef08_11eb_8f66_8d20dba5c1a9row9_col0\" class=\"data row9 col0\" >10</td>\n",
       "                        <td id=\"T_f154fce9_ef08_11eb_8f66_8d20dba5c1a9row9_col1\" class=\"data row9 col1\" >AFG</td>\n",
       "                        <td id=\"T_f154fce9_ef08_11eb_8f66_8d20dba5c1a9row9_col2\" class=\"data row9 col2\" >17</td>\n",
       "                        <td id=\"T_f154fce9_ef08_11eb_8f66_8d20dba5c1a9row9_col3\" class=\"data row9 col3\" >1,054</td>\n",
       "                        <td id=\"T_f154fce9_ef08_11eb_8f66_8d20dba5c1a9row9_col4\" class=\"data row9 col4\" >62</td>\n",
       "            </tr>\n",
       "    </tbody></table>"
      ],
      "text/plain": [
       "<pandas.io.formats.style.Styler at 0x18e12530e80>"
      ]
     },
     "execution_count": 121,
     "metadata": {},
     "output_type": "execute_result"
    }
   ],
   "source": [
    "top_10_odi_teams=pd.DataFrame()\n",
    "top_10_odi_teams['Position']=position[:10]\n",
    "top_10_odi_teams['Team']=teams[:10]\n",
    "top_10_odi_teams['Matches']=num_of_matches[0:10]\n",
    "top_10_odi_teams['Points']=points[0:10]\n",
    "top_10_odi_teams['Rating']=ratings[0:10]\n",
    "\n",
    "top_10_odi_teams=top_10_odi_teams.style.hide_index()\n",
    "top_10_odi_teams"
   ]
  },
  {
   "cell_type": "markdown",
   "metadata": {},
   "source": [
    "## Q5. Write a python program to scrape cricket rankings from ‘www.icc-cricket.com’. You have to scrape:\n",
    "**ii) Top 10 ODI Batsmen in men along with the records of their team and rating.**"
   ]
  },
  {
   "cell_type": "code",
   "execution_count": 123,
   "metadata": {},
   "outputs": [],
   "source": [
    "player_page=requests.get('https://www.icc-cricket.com/rankings/mens/player-rankings/odi')\n",
    "player_soup=BeautifulSoup(player_page.content)"
   ]
  },
  {
   "cell_type": "code",
   "execution_count": 136,
   "metadata": {},
   "outputs": [
    {
     "data": {
      "text/plain": [
       "'Babar Azam'"
      ]
     },
     "execution_count": 136,
     "metadata": {},
     "output_type": "execute_result"
    }
   ],
   "source": [
    "name1=player_soup.find('div',class_=\"rankings-block__banner--name\")\n",
    "name1.text"
   ]
  },
  {
   "cell_type": "code",
   "execution_count": 137,
   "metadata": {},
   "outputs": [
    {
     "data": {
      "text/plain": [
       "['Babar Azam']"
      ]
     },
     "execution_count": 137,
     "metadata": {},
     "output_type": "execute_result"
    }
   ],
   "source": [
    "name_list=[]\n",
    "name_list.append(name1.text)\n",
    "name_list"
   ]
  },
  {
   "cell_type": "code",
   "execution_count": 138,
   "metadata": {},
   "outputs": [],
   "source": [
    "name=player_soup.find_all('td',class_=\"table-body__cell name\")"
   ]
  },
  {
   "cell_type": "code",
   "execution_count": 139,
   "metadata": {},
   "outputs": [
    {
     "data": {
      "text/plain": [
       "['Babar Azam',\n",
       " 'Virat Kohli',\n",
       " 'Rohit Sharma',\n",
       " 'Ross Taylor',\n",
       " 'Aaron Finch',\n",
       " 'Jonny Bairstow',\n",
       " 'David Warner',\n",
       " 'Quinton de Kock',\n",
       " 'Shai Hope',\n",
       " 'Kane Williamson',\n",
       " 'Josh Hazlewood',\n",
       " 'Mujeeb Ur Rahman',\n",
       " 'Chris Woakes',\n",
       " 'Mehedi Hasan',\n",
       " 'Matt Henry',\n",
       " 'Jasprit Bumrah',\n",
       " 'Mitchell Starc',\n",
       " 'Shakib Al Hasan',\n",
       " 'Kagiso Rabada',\n",
       " 'Mohammad Nabi',\n",
       " 'Chris Woakes',\n",
       " 'Rashid Khan',\n",
       " 'Mitchell Santner',\n",
       " 'Ben Stokes',\n",
       " 'Colin de Grandhomme',\n",
       " 'Imad Wasim',\n",
       " 'Ravindra Jadeja',\n",
       " 'Sikandar Raza',\n",
       " 'Virat Kohli',\n",
       " 'Rohit Sharma',\n",
       " 'Ross Taylor',\n",
       " 'Aaron Finch',\n",
       " 'Jonny Bairstow',\n",
       " 'David Warner',\n",
       " 'Quinton de Kock',\n",
       " 'Shai Hope',\n",
       " 'Kane Williamson',\n",
       " 'Josh Hazlewood',\n",
       " 'Mujeeb Ur Rahman',\n",
       " 'Chris Woakes',\n",
       " 'Mehedi Hasan',\n",
       " 'Matt Henry',\n",
       " 'Jasprit Bumrah',\n",
       " 'Mitchell Starc',\n",
       " 'Shakib Al Hasan',\n",
       " 'Kagiso Rabada',\n",
       " 'Mohammad Nabi',\n",
       " 'Chris Woakes',\n",
       " 'Rashid Khan',\n",
       " 'Mitchell Santner',\n",
       " 'Ben Stokes',\n",
       " 'Colin de Grandhomme',\n",
       " 'Imad Wasim',\n",
       " 'Ravindra Jadeja',\n",
       " 'Sikandar Raza']"
      ]
     },
     "execution_count": 139,
     "metadata": {},
     "output_type": "execute_result"
    }
   ],
   "source": [
    "for i in name:\n",
    "    name_list.append(i.text.replace('\\n',''))\n",
    "    \n",
    "name_list"
   ]
  },
  {
   "cell_type": "code",
   "execution_count": 157,
   "metadata": {},
   "outputs": [],
   "source": [
    "nation1=player_soup.find('div',class_=\"rankings-block__banner--nationality\")"
   ]
  },
  {
   "cell_type": "code",
   "execution_count": 165,
   "metadata": {},
   "outputs": [
    {
     "data": {
      "text/plain": [
       "['PAK']"
      ]
     },
     "execution_count": 165,
     "metadata": {},
     "output_type": "execute_result"
    }
   ],
   "source": [
    "nation_list=[]\n",
    "nation_list.append(nation1.text[0:5].replace('\\n',''))\n",
    "nation_list"
   ]
  },
  {
   "cell_type": "code",
   "execution_count": 166,
   "metadata": {},
   "outputs": [
    {
     "data": {
      "text/plain": [
       "['PAK',\n",
       " 'IND',\n",
       " 'IND',\n",
       " 'NZ',\n",
       " 'AUS',\n",
       " 'ENG',\n",
       " 'AUS',\n",
       " 'SA',\n",
       " 'WI',\n",
       " 'NZ',\n",
       " 'AUS',\n",
       " 'AFG',\n",
       " 'ENG',\n",
       " 'BAN',\n",
       " 'NZ',\n",
       " 'IND',\n",
       " 'AUS',\n",
       " 'BAN',\n",
       " 'SA',\n",
       " 'AFG',\n",
       " 'ENG',\n",
       " 'AFG',\n",
       " 'NZ',\n",
       " 'ENG',\n",
       " 'NZ',\n",
       " 'PAK',\n",
       " 'IND',\n",
       " 'ZIM',\n",
       " 'IND',\n",
       " 'IND',\n",
       " 'NZ',\n",
       " 'AUS',\n",
       " 'ENG',\n",
       " 'AUS',\n",
       " 'SA',\n",
       " 'WI',\n",
       " 'NZ',\n",
       " 'AUS',\n",
       " 'AFG',\n",
       " 'ENG',\n",
       " 'BAN',\n",
       " 'NZ',\n",
       " 'IND',\n",
       " 'AUS',\n",
       " 'BAN',\n",
       " 'SA',\n",
       " 'AFG',\n",
       " 'ENG',\n",
       " 'AFG',\n",
       " 'NZ',\n",
       " 'ENG',\n",
       " 'NZ',\n",
       " 'PAK',\n",
       " 'IND',\n",
       " 'ZIM']"
      ]
     },
     "execution_count": 166,
     "metadata": {},
     "output_type": "execute_result"
    }
   ],
   "source": [
    "nation=player_soup.find_all('span',class_=\"table-body__logo-text\")\n",
    "for i in nation:\n",
    "    nation_list.append(i.text)\n",
    "nation_list"
   ]
  },
  {
   "cell_type": "code",
   "execution_count": 168,
   "metadata": {},
   "outputs": [
    {
     "data": {
      "text/plain": [
       "['873']"
      ]
     },
     "execution_count": 168,
     "metadata": {},
     "output_type": "execute_result"
    }
   ],
   "source": [
    "rating_list=[]\n",
    "rating_list.append(nation1.text[-4:-1].replace('\\n',''))\n",
    "rating_list"
   ]
  },
  {
   "cell_type": "code",
   "execution_count": 169,
   "metadata": {
    "scrolled": true
   },
   "outputs": [
    {
     "data": {
      "text/plain": [
       "['873',\n",
       " '844',\n",
       " '813',\n",
       " '801',\n",
       " '779',\n",
       " '775',\n",
       " '762',\n",
       " '758',\n",
       " '758',\n",
       " '754',\n",
       " '709',\n",
       " '708',\n",
       " '700',\n",
       " '692',\n",
       " '691',\n",
       " '679',\n",
       " '652',\n",
       " '650',\n",
       " '648',\n",
       " '294',\n",
       " '282',\n",
       " '270',\n",
       " '268',\n",
       " '266',\n",
       " '257',\n",
       " '256',\n",
       " '238',\n",
       " '237',\n",
       " '844',\n",
       " '813',\n",
       " '801',\n",
       " '779',\n",
       " '775',\n",
       " '762',\n",
       " '758',\n",
       " '758',\n",
       " '754',\n",
       " '709',\n",
       " '708',\n",
       " '700',\n",
       " '692',\n",
       " '691',\n",
       " '679',\n",
       " '652',\n",
       " '650',\n",
       " '648',\n",
       " '294',\n",
       " '282',\n",
       " '270',\n",
       " '268',\n",
       " '266',\n",
       " '257',\n",
       " '256',\n",
       " '238',\n",
       " '237']"
      ]
     },
     "execution_count": 169,
     "metadata": {},
     "output_type": "execute_result"
    }
   ],
   "source": [
    "rating=player_soup('td',class_=\"table-body__cell u-text-right rating\")\n",
    "for i in rating:\n",
    "    rating_list.append(i.text)\n",
    "rating_list"
   ]
  },
  {
   "cell_type": "code",
   "execution_count": 177,
   "metadata": {},
   "outputs": [
    {
     "data": {
      "text/plain": [
       "array([ 1,  2,  3,  4,  5,  6,  7,  8,  9, 10])"
      ]
     },
     "execution_count": 177,
     "metadata": {},
     "output_type": "execute_result"
    }
   ],
   "source": [
    "import numpy as np\n",
    "rank_list=np.arange(1,11)\n",
    "\n",
    "\n",
    "\n",
    "rank_list"
   ]
  },
  {
   "cell_type": "code",
   "execution_count": 180,
   "metadata": {},
   "outputs": [
    {
     "data": {
      "text/html": [
       "<style  type=\"text/css\" >\n",
       "</style><table id=\"T_cb6ed3a7_ef89_11eb_8479_8d20dba5c1a9\" ><thead>    <tr>        <th class=\"col_heading level0 col0\" >Rank</th>        <th class=\"col_heading level0 col1\" >Player Name</th>        <th class=\"col_heading level0 col2\" >Nationality</th>        <th class=\"col_heading level0 col3\" >Rating</th>    </tr></thead><tbody>\n",
       "                <tr>\n",
       "                                <td id=\"T_cb6ed3a7_ef89_11eb_8479_8d20dba5c1a9row0_col0\" class=\"data row0 col0\" >1</td>\n",
       "                        <td id=\"T_cb6ed3a7_ef89_11eb_8479_8d20dba5c1a9row0_col1\" class=\"data row0 col1\" >Babar Azam</td>\n",
       "                        <td id=\"T_cb6ed3a7_ef89_11eb_8479_8d20dba5c1a9row0_col2\" class=\"data row0 col2\" >PAK</td>\n",
       "                        <td id=\"T_cb6ed3a7_ef89_11eb_8479_8d20dba5c1a9row0_col3\" class=\"data row0 col3\" >873</td>\n",
       "            </tr>\n",
       "            <tr>\n",
       "                                <td id=\"T_cb6ed3a7_ef89_11eb_8479_8d20dba5c1a9row1_col0\" class=\"data row1 col0\" >2</td>\n",
       "                        <td id=\"T_cb6ed3a7_ef89_11eb_8479_8d20dba5c1a9row1_col1\" class=\"data row1 col1\" >Virat Kohli</td>\n",
       "                        <td id=\"T_cb6ed3a7_ef89_11eb_8479_8d20dba5c1a9row1_col2\" class=\"data row1 col2\" >IND</td>\n",
       "                        <td id=\"T_cb6ed3a7_ef89_11eb_8479_8d20dba5c1a9row1_col3\" class=\"data row1 col3\" >844</td>\n",
       "            </tr>\n",
       "            <tr>\n",
       "                                <td id=\"T_cb6ed3a7_ef89_11eb_8479_8d20dba5c1a9row2_col0\" class=\"data row2 col0\" >3</td>\n",
       "                        <td id=\"T_cb6ed3a7_ef89_11eb_8479_8d20dba5c1a9row2_col1\" class=\"data row2 col1\" >Rohit Sharma</td>\n",
       "                        <td id=\"T_cb6ed3a7_ef89_11eb_8479_8d20dba5c1a9row2_col2\" class=\"data row2 col2\" >IND</td>\n",
       "                        <td id=\"T_cb6ed3a7_ef89_11eb_8479_8d20dba5c1a9row2_col3\" class=\"data row2 col3\" >813</td>\n",
       "            </tr>\n",
       "            <tr>\n",
       "                                <td id=\"T_cb6ed3a7_ef89_11eb_8479_8d20dba5c1a9row3_col0\" class=\"data row3 col0\" >4</td>\n",
       "                        <td id=\"T_cb6ed3a7_ef89_11eb_8479_8d20dba5c1a9row3_col1\" class=\"data row3 col1\" >Ross Taylor</td>\n",
       "                        <td id=\"T_cb6ed3a7_ef89_11eb_8479_8d20dba5c1a9row3_col2\" class=\"data row3 col2\" >NZ</td>\n",
       "                        <td id=\"T_cb6ed3a7_ef89_11eb_8479_8d20dba5c1a9row3_col3\" class=\"data row3 col3\" >801</td>\n",
       "            </tr>\n",
       "            <tr>\n",
       "                                <td id=\"T_cb6ed3a7_ef89_11eb_8479_8d20dba5c1a9row4_col0\" class=\"data row4 col0\" >5</td>\n",
       "                        <td id=\"T_cb6ed3a7_ef89_11eb_8479_8d20dba5c1a9row4_col1\" class=\"data row4 col1\" >Aaron Finch</td>\n",
       "                        <td id=\"T_cb6ed3a7_ef89_11eb_8479_8d20dba5c1a9row4_col2\" class=\"data row4 col2\" >AUS</td>\n",
       "                        <td id=\"T_cb6ed3a7_ef89_11eb_8479_8d20dba5c1a9row4_col3\" class=\"data row4 col3\" >779</td>\n",
       "            </tr>\n",
       "            <tr>\n",
       "                                <td id=\"T_cb6ed3a7_ef89_11eb_8479_8d20dba5c1a9row5_col0\" class=\"data row5 col0\" >6</td>\n",
       "                        <td id=\"T_cb6ed3a7_ef89_11eb_8479_8d20dba5c1a9row5_col1\" class=\"data row5 col1\" >Jonny Bairstow</td>\n",
       "                        <td id=\"T_cb6ed3a7_ef89_11eb_8479_8d20dba5c1a9row5_col2\" class=\"data row5 col2\" >ENG</td>\n",
       "                        <td id=\"T_cb6ed3a7_ef89_11eb_8479_8d20dba5c1a9row5_col3\" class=\"data row5 col3\" >775</td>\n",
       "            </tr>\n",
       "            <tr>\n",
       "                                <td id=\"T_cb6ed3a7_ef89_11eb_8479_8d20dba5c1a9row6_col0\" class=\"data row6 col0\" >7</td>\n",
       "                        <td id=\"T_cb6ed3a7_ef89_11eb_8479_8d20dba5c1a9row6_col1\" class=\"data row6 col1\" >David Warner</td>\n",
       "                        <td id=\"T_cb6ed3a7_ef89_11eb_8479_8d20dba5c1a9row6_col2\" class=\"data row6 col2\" >AUS</td>\n",
       "                        <td id=\"T_cb6ed3a7_ef89_11eb_8479_8d20dba5c1a9row6_col3\" class=\"data row6 col3\" >762</td>\n",
       "            </tr>\n",
       "            <tr>\n",
       "                                <td id=\"T_cb6ed3a7_ef89_11eb_8479_8d20dba5c1a9row7_col0\" class=\"data row7 col0\" >8</td>\n",
       "                        <td id=\"T_cb6ed3a7_ef89_11eb_8479_8d20dba5c1a9row7_col1\" class=\"data row7 col1\" >Quinton de Kock</td>\n",
       "                        <td id=\"T_cb6ed3a7_ef89_11eb_8479_8d20dba5c1a9row7_col2\" class=\"data row7 col2\" >SA</td>\n",
       "                        <td id=\"T_cb6ed3a7_ef89_11eb_8479_8d20dba5c1a9row7_col3\" class=\"data row7 col3\" >758</td>\n",
       "            </tr>\n",
       "            <tr>\n",
       "                                <td id=\"T_cb6ed3a7_ef89_11eb_8479_8d20dba5c1a9row8_col0\" class=\"data row8 col0\" >9</td>\n",
       "                        <td id=\"T_cb6ed3a7_ef89_11eb_8479_8d20dba5c1a9row8_col1\" class=\"data row8 col1\" >Shai Hope</td>\n",
       "                        <td id=\"T_cb6ed3a7_ef89_11eb_8479_8d20dba5c1a9row8_col2\" class=\"data row8 col2\" >WI</td>\n",
       "                        <td id=\"T_cb6ed3a7_ef89_11eb_8479_8d20dba5c1a9row8_col3\" class=\"data row8 col3\" >758</td>\n",
       "            </tr>\n",
       "            <tr>\n",
       "                                <td id=\"T_cb6ed3a7_ef89_11eb_8479_8d20dba5c1a9row9_col0\" class=\"data row9 col0\" >10</td>\n",
       "                        <td id=\"T_cb6ed3a7_ef89_11eb_8479_8d20dba5c1a9row9_col1\" class=\"data row9 col1\" >Kane Williamson</td>\n",
       "                        <td id=\"T_cb6ed3a7_ef89_11eb_8479_8d20dba5c1a9row9_col2\" class=\"data row9 col2\" >NZ</td>\n",
       "                        <td id=\"T_cb6ed3a7_ef89_11eb_8479_8d20dba5c1a9row9_col3\" class=\"data row9 col3\" >754</td>\n",
       "            </tr>\n",
       "    </tbody></table>"
      ],
      "text/plain": [
       "<pandas.io.formats.style.Styler at 0x18e17169790>"
      ]
     },
     "execution_count": 180,
     "metadata": {},
     "output_type": "execute_result"
    }
   ],
   "source": [
    "top_10_ODI_batsmen=pd.DataFrame()\n",
    "\n",
    "top_10_ODI_batsmen['Rank']=rank_list\n",
    "top_10_ODI_batsmen['Player Name']=name_list[:10]\n",
    "top_10_ODI_batsmen['Nationality']=nation_list[:10]\n",
    "top_10_ODI_batsmen['Rating']=rating_list[:10]\n",
    "\n",
    "top_10_ODI_batsmen=top_10_ODI_batsmen.style.hide_index()\n",
    "top_10_ODI_batsmen"
   ]
  },
  {
   "cell_type": "markdown",
   "metadata": {},
   "source": [
    "## Q5. Write a python program to scrape cricket rankings from ‘www.icc-cricket.com’. You have to scrape:\n",
    "**iii) Top 10 ODI bowlers along with the records of their team andrating.**"
   ]
  },
  {
   "cell_type": "code",
   "execution_count": 219,
   "metadata": {},
   "outputs": [],
   "source": [
    "bowler_page=requests.get('https://www.icc-cricket.com/rankings/mens/player-rankings/odi/bowling')\n",
    "bowler_soup=BeautifulSoup(bowler_page.content)"
   ]
  },
  {
   "cell_type": "code",
   "execution_count": 227,
   "metadata": {},
   "outputs": [
    {
     "data": {
      "text/plain": [
       "['Trent Boult']"
      ]
     },
     "execution_count": 227,
     "metadata": {},
     "output_type": "execute_result"
    }
   ],
   "source": [
    "bowler_name=[]\n",
    "bowler1=bowler_soup.find_all('div',class_=\"rankings-block__banner--name-large\")\n",
    "#bowlers.text\n",
    "for i in bowler1:\n",
    "    bowler_name.append(i.text)\n",
    "bowler_name"
   ]
  },
  {
   "cell_type": "code",
   "execution_count": 228,
   "metadata": {},
   "outputs": [
    {
     "data": {
      "text/plain": [
       "['Trent Boult',\n",
       " 'Josh Hazlewood',\n",
       " 'Mujeeb Ur Rahman',\n",
       " 'Chris Woakes',\n",
       " 'Mehedi Hasan',\n",
       " 'Matt Henry',\n",
       " 'Jasprit Bumrah',\n",
       " 'Mitchell Starc',\n",
       " 'Shakib Al Hasan',\n",
       " 'Kagiso Rabada',\n",
       " 'Mustafizur Rahman',\n",
       " 'Pat Cummins',\n",
       " 'Shaheen Afridi',\n",
       " 'Mohammad Amir',\n",
       " 'Rashid Khan',\n",
       " 'Adam Zampa',\n",
       " 'Bhuvneshwar Kumar',\n",
       " 'Lachlan Ferguson',\n",
       " 'Jofra Archer',\n",
       " 'Akila Dananjaya',\n",
       " 'Yuzvendra Chahal',\n",
       " 'Lungi Ngidi',\n",
       " 'Mohammad Nabi',\n",
       " 'Mark Wood',\n",
       " 'Alzarri Joseph',\n",
       " 'Mitchell Santner',\n",
       " 'Mohammad Shami',\n",
       " 'Kuldeep Yadav',\n",
       " 'Ravindra Jadeja',\n",
       " 'Sheldon Cottrell',\n",
       " 'Ahmed Raza',\n",
       " 'Andy McBrine',\n",
       " 'Shadab Khan',\n",
       " 'Dushmantha Chameera',\n",
       " 'Wanindu De Silva',\n",
       " 'Colin de Grandhomme',\n",
       " 'Tabraiz Shamsi',\n",
       " 'David Willey',\n",
       " 'Tim Southee',\n",
       " 'Andile Phehlukwayo',\n",
       " 'Adil Rashid',\n",
       " 'Ish Sodhi',\n",
       " 'Mark Watt',\n",
       " 'Imad Wasim',\n",
       " 'Hasan Ali',\n",
       " 'Usman Khan',\n",
       " 'Jhye Richardson',\n",
       " 'Rohan Mustafa',\n",
       " 'Simi Singh',\n",
       " 'Mashrafe Mortaza',\n",
       " 'Mohammad Mohammad Saifuddin',\n",
       " 'Safyaan Sharif',\n",
       " 'Tendai Chatara',\n",
       " 'Nuwan Pradeep',\n",
       " 'Jimmy Neesham',\n",
       " 'Saqib Mahmood',\n",
       " 'Jason Holder',\n",
       " 'Moeen Ali',\n",
       " 'Wahab Riaz',\n",
       " 'Faheem Ashraf',\n",
       " 'Akeal Hosein',\n",
       " 'Suranga Lakmal',\n",
       " 'Sikandar Raza',\n",
       " 'Blessing Muzarabani',\n",
       " 'Tom Curran',\n",
       " 'Ashton Agar',\n",
       " 'Taskin Ahmed',\n",
       " 'Anrich Nortje',\n",
       " 'Josh Davey',\n",
       " 'Joshua Little',\n",
       " 'Craig Young',\n",
       " 'Sean Williams',\n",
       " 'Kane Richardson',\n",
       " 'Ben Stokes',\n",
       " 'Shardul Thakur',\n",
       " 'Rubel Hossain',\n",
       " 'Gulbadin Naib',\n",
       " 'Hardik Pandya',\n",
       " 'Alasdair Evans',\n",
       " 'Keshav Maharaj',\n",
       " 'Barry McCarthy',\n",
       " 'Mitchell Marsh',\n",
       " 'Dhananjaya de Silva',\n",
       " 'Marcus Stoinis',\n",
       " 'Lakshan Sandakan',\n",
       " 'Taijul Islam',\n",
       " 'Mohammad Nawaz',\n",
       " 'Donald Tiripano',\n",
       " 'Assad Vala',\n",
       " 'Fred Klaassen',\n",
       " 'George Dockrell',\n",
       " 'Oshane Thomas',\n",
       " 'Kyle Jamieson',\n",
       " 'Michael Leask',\n",
       " 'Zeeshan Maqsood',\n",
       " 'Sharafuddin Ashraf',\n",
       " 'Roston Chase',\n",
       " 'Bilal Khan',\n",
       " 'Saurabh Netravalkar',\n",
       " 'Norman Vanua']"
      ]
     },
     "execution_count": 228,
     "metadata": {},
     "output_type": "execute_result"
    }
   ],
   "source": [
    "bowlers=bowler_soup('td',class_=\"table-body__cell rankings-table__name name\")\n",
    "for i in bowlers:\n",
    "    bowler_name.append(i.text.replace('\\n',''))\n",
    "bowler_name"
   ]
  },
  {
   "cell_type": "code",
   "execution_count": 232,
   "metadata": {},
   "outputs": [
    {
     "data": {
      "text/plain": [
       "['NZ']"
      ]
     },
     "execution_count": 232,
     "metadata": {},
     "output_type": "execute_result"
    }
   ],
   "source": [
    "bowlers_team=[]\n",
    "teamb=bowler_soup.find('div',class_=\"rankings-block__banner--nationality\")\n",
    "bowlers_team.append(teamb.text.replace('\\n','').strip())\n",
    "bowlers_team"
   ]
  },
  {
   "cell_type": "code",
   "execution_count": 233,
   "metadata": {},
   "outputs": [
    {
     "data": {
      "text/plain": [
       "['NZ',\n",
       " 'AUS',\n",
       " 'AFG',\n",
       " 'ENG',\n",
       " 'BAN',\n",
       " 'NZ',\n",
       " 'IND',\n",
       " 'AUS',\n",
       " 'BAN',\n",
       " 'SA',\n",
       " 'BAN',\n",
       " 'AUS',\n",
       " 'PAK',\n",
       " 'PAK',\n",
       " 'AFG',\n",
       " 'AUS',\n",
       " 'IND',\n",
       " 'NZ',\n",
       " 'ENG',\n",
       " 'SL',\n",
       " 'IND',\n",
       " 'SA',\n",
       " 'AFG',\n",
       " 'ENG',\n",
       " 'WI',\n",
       " 'NZ',\n",
       " 'IND',\n",
       " 'IND',\n",
       " 'IND',\n",
       " 'WI',\n",
       " 'UAE',\n",
       " 'IRE',\n",
       " 'PAK',\n",
       " 'SL',\n",
       " 'SL',\n",
       " 'NZ',\n",
       " 'SA',\n",
       " 'ENG',\n",
       " 'NZ',\n",
       " 'SA',\n",
       " 'ENG',\n",
       " '',\n",
       " 'SCO',\n",
       " 'PAK',\n",
       " 'PAK',\n",
       " 'PAK',\n",
       " 'AUS',\n",
       " 'UAE',\n",
       " 'IRE',\n",
       " 'BAN',\n",
       " 'BAN',\n",
       " 'SCO',\n",
       " 'ZIM',\n",
       " 'SL',\n",
       " 'NZ',\n",
       " 'ENG',\n",
       " 'WI',\n",
       " 'ENG',\n",
       " 'PAK',\n",
       " 'PAK',\n",
       " 'WI',\n",
       " 'SL',\n",
       " 'ZIM',\n",
       " 'ZIM',\n",
       " 'ENG',\n",
       " 'AUS',\n",
       " 'BAN',\n",
       " 'SA',\n",
       " 'SCO',\n",
       " 'IRE',\n",
       " 'IRE',\n",
       " 'ZIM',\n",
       " 'AUS',\n",
       " 'ENG',\n",
       " 'IND',\n",
       " 'BAN',\n",
       " 'AFG',\n",
       " 'IND',\n",
       " 'SCO',\n",
       " 'SA',\n",
       " 'IRE',\n",
       " 'AUS',\n",
       " 'SL',\n",
       " 'AUS',\n",
       " 'SL',\n",
       " 'BAN',\n",
       " 'PAK',\n",
       " 'ZIM',\n",
       " 'PNG',\n",
       " 'NED',\n",
       " 'IRE',\n",
       " 'WI',\n",
       " 'NZ',\n",
       " 'SCO',\n",
       " 'OMA',\n",
       " 'AFG',\n",
       " '',\n",
       " 'OMA',\n",
       " 'USA',\n",
       " 'PNG']"
      ]
     },
     "execution_count": 233,
     "metadata": {},
     "output_type": "execute_result"
    }
   ],
   "source": [
    "teamsb=bowler_soup.find_all('span',class_=\"table-body__logo-text\")\n",
    "for i in teamsb:\n",
    "    bowlers_team.append(i.text)\n",
    "bowlers_team"
   ]
  },
  {
   "cell_type": "code",
   "execution_count": 236,
   "metadata": {},
   "outputs": [
    {
     "data": {
      "text/plain": [
       "['737']"
      ]
     },
     "execution_count": 236,
     "metadata": {},
     "output_type": "execute_result"
    }
   ],
   "source": [
    "bowler_rating=[]\n",
    "ratingb=bowler_soup.find('div',class_=\"rankings-block__banner--rating\")\n",
    "bowler_rating.append(ratingb.text)\n",
    "bowler_rating"
   ]
  },
  {
   "cell_type": "code",
   "execution_count": 238,
   "metadata": {},
   "outputs": [
    {
     "data": {
      "text/plain": [
       "['737',\n",
       " '709',\n",
       " '708',\n",
       " '700',\n",
       " '692',\n",
       " '691',\n",
       " '679',\n",
       " '652',\n",
       " '650',\n",
       " '648',\n",
       " '640',\n",
       " '636',\n",
       " '630',\n",
       " '628',\n",
       " '626',\n",
       " '625',\n",
       " '621',\n",
       " '619',\n",
       " '609',\n",
       " '604',\n",
       " '603',\n",
       " '599',\n",
       " '596',\n",
       " '594',\n",
       " '592',\n",
       " '583',\n",
       " '566',\n",
       " '562',\n",
       " '550',\n",
       " '541',\n",
       " '531',\n",
       " '527',\n",
       " '517',\n",
       " '514',\n",
       " '508',\n",
       " '508',\n",
       " '501',\n",
       " '501',\n",
       " '500',\n",
       " '497',\n",
       " '497',\n",
       " '496',\n",
       " '490',\n",
       " '488',\n",
       " '483',\n",
       " '482',\n",
       " '480',\n",
       " '477',\n",
       " '473',\n",
       " '469',\n",
       " '468',\n",
       " '467',\n",
       " '465',\n",
       " '459',\n",
       " '458',\n",
       " '454',\n",
       " '451',\n",
       " '449',\n",
       " '447',\n",
       " '445',\n",
       " '443',\n",
       " '443',\n",
       " '440',\n",
       " '437',\n",
       " '436',\n",
       " '436',\n",
       " '434',\n",
       " '431',\n",
       " '427',\n",
       " '421',\n",
       " '421',\n",
       " '420',\n",
       " '416',\n",
       " '410',\n",
       " '405',\n",
       " '400',\n",
       " '399',\n",
       " '394',\n",
       " '394',\n",
       " '394',\n",
       " '391',\n",
       " '390',\n",
       " '388',\n",
       " '377',\n",
       " '376',\n",
       " '374',\n",
       " '370',\n",
       " '367',\n",
       " '361',\n",
       " '358',\n",
       " '357',\n",
       " '355',\n",
       " '352',\n",
       " '351',\n",
       " '350',\n",
       " '347',\n",
       " '347',\n",
       " '344',\n",
       " '343',\n",
       " '342']"
      ]
     },
     "execution_count": 238,
     "metadata": {},
     "output_type": "execute_result"
    }
   ],
   "source": [
    "ratingsb=bowler_soup.find_all('td',class_=\"table-body__cell rating\")\n",
    "for i in ratingsb:\n",
    "    bowler_rating.append(i.text)\n",
    "bowler_rating"
   ]
  },
  {
   "cell_type": "code",
   "execution_count": 240,
   "metadata": {
    "scrolled": true
   },
   "outputs": [
    {
     "data": {
      "text/html": [
       "<style  type=\"text/css\" >\n",
       "</style><table id=\"T_4fabd2af_efab_11eb_a125_8d20dba5c1a9\" ><thead>    <tr>        <th class=\"col_heading level0 col0\" >Rank</th>        <th class=\"col_heading level0 col1\" >Name</th>        <th class=\"col_heading level0 col2\" >Nationality</th>        <th class=\"col_heading level0 col3\" >Ratings</th>    </tr></thead><tbody>\n",
       "                <tr>\n",
       "                                <td id=\"T_4fabd2af_efab_11eb_a125_8d20dba5c1a9row0_col0\" class=\"data row0 col0\" >1</td>\n",
       "                        <td id=\"T_4fabd2af_efab_11eb_a125_8d20dba5c1a9row0_col1\" class=\"data row0 col1\" >Trent Boult</td>\n",
       "                        <td id=\"T_4fabd2af_efab_11eb_a125_8d20dba5c1a9row0_col2\" class=\"data row0 col2\" >NZ</td>\n",
       "                        <td id=\"T_4fabd2af_efab_11eb_a125_8d20dba5c1a9row0_col3\" class=\"data row0 col3\" >737</td>\n",
       "            </tr>\n",
       "            <tr>\n",
       "                                <td id=\"T_4fabd2af_efab_11eb_a125_8d20dba5c1a9row1_col0\" class=\"data row1 col0\" >2</td>\n",
       "                        <td id=\"T_4fabd2af_efab_11eb_a125_8d20dba5c1a9row1_col1\" class=\"data row1 col1\" >Josh Hazlewood</td>\n",
       "                        <td id=\"T_4fabd2af_efab_11eb_a125_8d20dba5c1a9row1_col2\" class=\"data row1 col2\" >AUS</td>\n",
       "                        <td id=\"T_4fabd2af_efab_11eb_a125_8d20dba5c1a9row1_col3\" class=\"data row1 col3\" >709</td>\n",
       "            </tr>\n",
       "            <tr>\n",
       "                                <td id=\"T_4fabd2af_efab_11eb_a125_8d20dba5c1a9row2_col0\" class=\"data row2 col0\" >3</td>\n",
       "                        <td id=\"T_4fabd2af_efab_11eb_a125_8d20dba5c1a9row2_col1\" class=\"data row2 col1\" >Mujeeb Ur Rahman</td>\n",
       "                        <td id=\"T_4fabd2af_efab_11eb_a125_8d20dba5c1a9row2_col2\" class=\"data row2 col2\" >AFG</td>\n",
       "                        <td id=\"T_4fabd2af_efab_11eb_a125_8d20dba5c1a9row2_col3\" class=\"data row2 col3\" >708</td>\n",
       "            </tr>\n",
       "            <tr>\n",
       "                                <td id=\"T_4fabd2af_efab_11eb_a125_8d20dba5c1a9row3_col0\" class=\"data row3 col0\" >4</td>\n",
       "                        <td id=\"T_4fabd2af_efab_11eb_a125_8d20dba5c1a9row3_col1\" class=\"data row3 col1\" >Chris Woakes</td>\n",
       "                        <td id=\"T_4fabd2af_efab_11eb_a125_8d20dba5c1a9row3_col2\" class=\"data row3 col2\" >ENG</td>\n",
       "                        <td id=\"T_4fabd2af_efab_11eb_a125_8d20dba5c1a9row3_col3\" class=\"data row3 col3\" >700</td>\n",
       "            </tr>\n",
       "            <tr>\n",
       "                                <td id=\"T_4fabd2af_efab_11eb_a125_8d20dba5c1a9row4_col0\" class=\"data row4 col0\" >5</td>\n",
       "                        <td id=\"T_4fabd2af_efab_11eb_a125_8d20dba5c1a9row4_col1\" class=\"data row4 col1\" >Mehedi Hasan</td>\n",
       "                        <td id=\"T_4fabd2af_efab_11eb_a125_8d20dba5c1a9row4_col2\" class=\"data row4 col2\" >BAN</td>\n",
       "                        <td id=\"T_4fabd2af_efab_11eb_a125_8d20dba5c1a9row4_col3\" class=\"data row4 col3\" >692</td>\n",
       "            </tr>\n",
       "            <tr>\n",
       "                                <td id=\"T_4fabd2af_efab_11eb_a125_8d20dba5c1a9row5_col0\" class=\"data row5 col0\" >6</td>\n",
       "                        <td id=\"T_4fabd2af_efab_11eb_a125_8d20dba5c1a9row5_col1\" class=\"data row5 col1\" >Matt Henry</td>\n",
       "                        <td id=\"T_4fabd2af_efab_11eb_a125_8d20dba5c1a9row5_col2\" class=\"data row5 col2\" >NZ</td>\n",
       "                        <td id=\"T_4fabd2af_efab_11eb_a125_8d20dba5c1a9row5_col3\" class=\"data row5 col3\" >691</td>\n",
       "            </tr>\n",
       "            <tr>\n",
       "                                <td id=\"T_4fabd2af_efab_11eb_a125_8d20dba5c1a9row6_col0\" class=\"data row6 col0\" >7</td>\n",
       "                        <td id=\"T_4fabd2af_efab_11eb_a125_8d20dba5c1a9row6_col1\" class=\"data row6 col1\" >Jasprit Bumrah</td>\n",
       "                        <td id=\"T_4fabd2af_efab_11eb_a125_8d20dba5c1a9row6_col2\" class=\"data row6 col2\" >IND</td>\n",
       "                        <td id=\"T_4fabd2af_efab_11eb_a125_8d20dba5c1a9row6_col3\" class=\"data row6 col3\" >679</td>\n",
       "            </tr>\n",
       "            <tr>\n",
       "                                <td id=\"T_4fabd2af_efab_11eb_a125_8d20dba5c1a9row7_col0\" class=\"data row7 col0\" >8</td>\n",
       "                        <td id=\"T_4fabd2af_efab_11eb_a125_8d20dba5c1a9row7_col1\" class=\"data row7 col1\" >Mitchell Starc</td>\n",
       "                        <td id=\"T_4fabd2af_efab_11eb_a125_8d20dba5c1a9row7_col2\" class=\"data row7 col2\" >AUS</td>\n",
       "                        <td id=\"T_4fabd2af_efab_11eb_a125_8d20dba5c1a9row7_col3\" class=\"data row7 col3\" >652</td>\n",
       "            </tr>\n",
       "            <tr>\n",
       "                                <td id=\"T_4fabd2af_efab_11eb_a125_8d20dba5c1a9row8_col0\" class=\"data row8 col0\" >9</td>\n",
       "                        <td id=\"T_4fabd2af_efab_11eb_a125_8d20dba5c1a9row8_col1\" class=\"data row8 col1\" >Shakib Al Hasan</td>\n",
       "                        <td id=\"T_4fabd2af_efab_11eb_a125_8d20dba5c1a9row8_col2\" class=\"data row8 col2\" >BAN</td>\n",
       "                        <td id=\"T_4fabd2af_efab_11eb_a125_8d20dba5c1a9row8_col3\" class=\"data row8 col3\" >650</td>\n",
       "            </tr>\n",
       "            <tr>\n",
       "                                <td id=\"T_4fabd2af_efab_11eb_a125_8d20dba5c1a9row9_col0\" class=\"data row9 col0\" >10</td>\n",
       "                        <td id=\"T_4fabd2af_efab_11eb_a125_8d20dba5c1a9row9_col1\" class=\"data row9 col1\" >Kagiso Rabada</td>\n",
       "                        <td id=\"T_4fabd2af_efab_11eb_a125_8d20dba5c1a9row9_col2\" class=\"data row9 col2\" >SA</td>\n",
       "                        <td id=\"T_4fabd2af_efab_11eb_a125_8d20dba5c1a9row9_col3\" class=\"data row9 col3\" >648</td>\n",
       "            </tr>\n",
       "    </tbody></table>"
      ],
      "text/plain": [
       "<pandas.io.formats.style.Styler at 0x18e189ee490>"
      ]
     },
     "execution_count": 240,
     "metadata": {},
     "output_type": "execute_result"
    }
   ],
   "source": [
    "top_10_odi_bowlers=pd.DataFrame()\n",
    "\n",
    "top_10_odi_bowlers['Rank']=np.arange(1,11)\n",
    "top_10_odi_bowlers['Name']=bowler_name[:10]\n",
    "top_10_odi_bowlers['Nationality']=bowlers_team[0:10]\n",
    "top_10_odi_bowlers['Ratings']=bowler_rating[0:10]\n",
    "\n",
    "top_10_odi_bowlers=top_10_odi_bowlers.style.hide_index()\n",
    "top_10_odi_bowlers"
   ]
  },
  {
   "cell_type": "markdown",
   "metadata": {},
   "source": [
    "## 6. Write a python program to scrape cricket rankings from ‘www.icc-cricket.com’. You have toscrape:\n",
    "**i) Top 10 ODI teams in women’s cricket along with the records for matches, points andrating.**\n"
   ]
  },
  {
   "cell_type": "code",
   "execution_count": 375,
   "metadata": {},
   "outputs": [],
   "source": [
    "wcric_page=requests.get('https://www.icc-cricket.com/rankings/womens/team-rankings/odi')\n",
    "wcric_soup=BeautifulSoup(wcric_page.content)"
   ]
  },
  {
   "cell_type": "code",
   "execution_count": 379,
   "metadata": {},
   "outputs": [
    {
     "data": {
      "text/plain": [
       "['Australia',\n",
       " 'England',\n",
       " 'South Africa',\n",
       " 'India',\n",
       " 'New Zealand',\n",
       " 'West Indies',\n",
       " 'Pakistan',\n",
       " 'Bangladesh',\n",
       " 'Sri Lanka',\n",
       " 'Ireland',\n",
       " '',\n",
       " '',\n",
       " '',\n",
       " '',\n",
       " '']"
      ]
     },
     "execution_count": 379,
     "metadata": {},
     "output_type": "execute_result"
    }
   ],
   "source": [
    "wteams_list=[]\n",
    "wteams=wcric_soup.find_all('span',class_=\"u-hide-phablet\")\n",
    "for i in wteams:\n",
    "    wteams_list.append(i.text)\n",
    "wteams_list"
   ]
  },
  {
   "cell_type": "code",
   "execution_count": 401,
   "metadata": {},
   "outputs": [
    {
     "data": {
      "text/plain": [
       "['18']"
      ]
     },
     "execution_count": 401,
     "metadata": {},
     "output_type": "execute_result"
    }
   ],
   "source": [
    "wmatches_list=[]\n",
    "\n",
    "wmatch1=wcric_soup.find('td',class_=\"rankings-block__banner--matches\")\n",
    "wmatches_list.append(wmatch1.text)\n",
    "wmatches_list"
   ]
  },
  {
   "cell_type": "code",
   "execution_count": 403,
   "metadata": {
    "scrolled": true
   },
   "outputs": [
    {
     "data": {
      "text/plain": [
       "['20',\n",
       " '2,370',\n",
       " '24',\n",
       " '2,828',\n",
       " '23',\n",
       " '2,535',\n",
       " '21',\n",
       " '1,947',\n",
       " '17',\n",
       " '1,427',\n",
       " '20',\n",
       " '1,496',\n",
       " '5',\n",
       " '306',\n",
       " '11',\n",
       " '519',\n",
       " '2',\n",
       " '25']"
      ]
     },
     "execution_count": 403,
     "metadata": {},
     "output_type": "execute_result"
    }
   ],
   "source": [
    "wmatches_points=wcric_soup.find_all('td',class_=\"table-body__cell u-center-text\")\n",
    "match_points_list=[]\n",
    "for i in wmatches_points:\n",
    "    match_points_list.append(i.text)\n",
    "match_points_list"
   ]
  },
  {
   "cell_type": "code",
   "execution_count": 404,
   "metadata": {},
   "outputs": [
    {
     "data": {
      "text/plain": [
       "['18', '20', '24', '23', '21', '17', '20', '5', '11', '2']"
      ]
     },
     "execution_count": 404,
     "metadata": {},
     "output_type": "execute_result"
    }
   ],
   "source": [
    "for i in range(0,len(match_points_list),2):\n",
    "    wmatches_list.append(match_points_list[i])\n",
    "wmatches_list"
   ]
  },
  {
   "cell_type": "code",
   "execution_count": 405,
   "metadata": {},
   "outputs": [
    {
     "data": {
      "text/plain": [
       "['2,955']"
      ]
     },
     "execution_count": 405,
     "metadata": {},
     "output_type": "execute_result"
    }
   ],
   "source": [
    "points_list=[]\n",
    "points1=wcric_soup.find('td',class_=\"rankings-block__banner--points\")\n",
    "points_list.append(points1.text)\n",
    "points_list"
   ]
  },
  {
   "cell_type": "code",
   "execution_count": 406,
   "metadata": {
    "scrolled": true
   },
   "outputs": [
    {
     "data": {
      "text/plain": [
       "['2,955',\n",
       " '2,370',\n",
       " '2,828',\n",
       " '2,535',\n",
       " '1,947',\n",
       " '1,427',\n",
       " '1,496',\n",
       " '306',\n",
       " '519',\n",
       " '25']"
      ]
     },
     "execution_count": 406,
     "metadata": {},
     "output_type": "execute_result"
    }
   ],
   "source": [
    "for i in range(1,len(match_points_list),2):\n",
    "    points_list.append(match_points_list[i])\n",
    "points_list"
   ]
  },
  {
   "cell_type": "code",
   "execution_count": 409,
   "metadata": {},
   "outputs": [
    {
     "data": {
      "text/plain": [
       "['164']"
      ]
     },
     "execution_count": 409,
     "metadata": {},
     "output_type": "execute_result"
    }
   ],
   "source": [
    "wratings_list=[]\n",
    "\n",
    "wrating1=wcric_soup.find('td',class_=\"rankings-block__banner--rating u-text-right\")\n",
    "wratings_list.append(wrating1.text.replace('\\n','').strip())\n",
    "wratings_list"
   ]
  },
  {
   "cell_type": "code",
   "execution_count": 411,
   "metadata": {},
   "outputs": [
    {
     "data": {
      "text/plain": [
       "['164', '119', '118', '110', '93', '84', '75', '61', '47', '13']"
      ]
     },
     "execution_count": 411,
     "metadata": {},
     "output_type": "execute_result"
    }
   ],
   "source": [
    "wratings=wcric_soup.find_all('td',class_=\"table-body__cell u-text-right rating\")\n",
    "for i in wratings:\n",
    "    wratings_list.append(i.text.replace('\\n','').strip())\n",
    "wratings_list"
   ]
  },
  {
   "cell_type": "code",
   "execution_count": 412,
   "metadata": {},
   "outputs": [
    {
     "data": {
      "text/html": [
       "<style  type=\"text/css\" >\n",
       "</style><table id=\"T_4832edd9_efd4_11eb_99ed_8d20dba5c1a9\" ><thead>    <tr>        <th class=\"col_heading level0 col0\" >Rank</th>        <th class=\"col_heading level0 col1\" >Team</th>        <th class=\"col_heading level0 col2\" >Matches</th>        <th class=\"col_heading level0 col3\" >Points</th>        <th class=\"col_heading level0 col4\" >Rating</th>    </tr></thead><tbody>\n",
       "                <tr>\n",
       "                                <td id=\"T_4832edd9_efd4_11eb_99ed_8d20dba5c1a9row0_col0\" class=\"data row0 col0\" >1</td>\n",
       "                        <td id=\"T_4832edd9_efd4_11eb_99ed_8d20dba5c1a9row0_col1\" class=\"data row0 col1\" >Australia</td>\n",
       "                        <td id=\"T_4832edd9_efd4_11eb_99ed_8d20dba5c1a9row0_col2\" class=\"data row0 col2\" >18</td>\n",
       "                        <td id=\"T_4832edd9_efd4_11eb_99ed_8d20dba5c1a9row0_col3\" class=\"data row0 col3\" >2,955</td>\n",
       "                        <td id=\"T_4832edd9_efd4_11eb_99ed_8d20dba5c1a9row0_col4\" class=\"data row0 col4\" >164</td>\n",
       "            </tr>\n",
       "            <tr>\n",
       "                                <td id=\"T_4832edd9_efd4_11eb_99ed_8d20dba5c1a9row1_col0\" class=\"data row1 col0\" >2</td>\n",
       "                        <td id=\"T_4832edd9_efd4_11eb_99ed_8d20dba5c1a9row1_col1\" class=\"data row1 col1\" >England</td>\n",
       "                        <td id=\"T_4832edd9_efd4_11eb_99ed_8d20dba5c1a9row1_col2\" class=\"data row1 col2\" >20</td>\n",
       "                        <td id=\"T_4832edd9_efd4_11eb_99ed_8d20dba5c1a9row1_col3\" class=\"data row1 col3\" >2,370</td>\n",
       "                        <td id=\"T_4832edd9_efd4_11eb_99ed_8d20dba5c1a9row1_col4\" class=\"data row1 col4\" >119</td>\n",
       "            </tr>\n",
       "            <tr>\n",
       "                                <td id=\"T_4832edd9_efd4_11eb_99ed_8d20dba5c1a9row2_col0\" class=\"data row2 col0\" >3</td>\n",
       "                        <td id=\"T_4832edd9_efd4_11eb_99ed_8d20dba5c1a9row2_col1\" class=\"data row2 col1\" >South Africa</td>\n",
       "                        <td id=\"T_4832edd9_efd4_11eb_99ed_8d20dba5c1a9row2_col2\" class=\"data row2 col2\" >24</td>\n",
       "                        <td id=\"T_4832edd9_efd4_11eb_99ed_8d20dba5c1a9row2_col3\" class=\"data row2 col3\" >2,828</td>\n",
       "                        <td id=\"T_4832edd9_efd4_11eb_99ed_8d20dba5c1a9row2_col4\" class=\"data row2 col4\" >118</td>\n",
       "            </tr>\n",
       "            <tr>\n",
       "                                <td id=\"T_4832edd9_efd4_11eb_99ed_8d20dba5c1a9row3_col0\" class=\"data row3 col0\" >4</td>\n",
       "                        <td id=\"T_4832edd9_efd4_11eb_99ed_8d20dba5c1a9row3_col1\" class=\"data row3 col1\" >India</td>\n",
       "                        <td id=\"T_4832edd9_efd4_11eb_99ed_8d20dba5c1a9row3_col2\" class=\"data row3 col2\" >23</td>\n",
       "                        <td id=\"T_4832edd9_efd4_11eb_99ed_8d20dba5c1a9row3_col3\" class=\"data row3 col3\" >2,535</td>\n",
       "                        <td id=\"T_4832edd9_efd4_11eb_99ed_8d20dba5c1a9row3_col4\" class=\"data row3 col4\" >110</td>\n",
       "            </tr>\n",
       "            <tr>\n",
       "                                <td id=\"T_4832edd9_efd4_11eb_99ed_8d20dba5c1a9row4_col0\" class=\"data row4 col0\" >5</td>\n",
       "                        <td id=\"T_4832edd9_efd4_11eb_99ed_8d20dba5c1a9row4_col1\" class=\"data row4 col1\" >New Zealand</td>\n",
       "                        <td id=\"T_4832edd9_efd4_11eb_99ed_8d20dba5c1a9row4_col2\" class=\"data row4 col2\" >21</td>\n",
       "                        <td id=\"T_4832edd9_efd4_11eb_99ed_8d20dba5c1a9row4_col3\" class=\"data row4 col3\" >1,947</td>\n",
       "                        <td id=\"T_4832edd9_efd4_11eb_99ed_8d20dba5c1a9row4_col4\" class=\"data row4 col4\" >93</td>\n",
       "            </tr>\n",
       "            <tr>\n",
       "                                <td id=\"T_4832edd9_efd4_11eb_99ed_8d20dba5c1a9row5_col0\" class=\"data row5 col0\" >6</td>\n",
       "                        <td id=\"T_4832edd9_efd4_11eb_99ed_8d20dba5c1a9row5_col1\" class=\"data row5 col1\" >West Indies</td>\n",
       "                        <td id=\"T_4832edd9_efd4_11eb_99ed_8d20dba5c1a9row5_col2\" class=\"data row5 col2\" >17</td>\n",
       "                        <td id=\"T_4832edd9_efd4_11eb_99ed_8d20dba5c1a9row5_col3\" class=\"data row5 col3\" >1,427</td>\n",
       "                        <td id=\"T_4832edd9_efd4_11eb_99ed_8d20dba5c1a9row5_col4\" class=\"data row5 col4\" >84</td>\n",
       "            </tr>\n",
       "            <tr>\n",
       "                                <td id=\"T_4832edd9_efd4_11eb_99ed_8d20dba5c1a9row6_col0\" class=\"data row6 col0\" >7</td>\n",
       "                        <td id=\"T_4832edd9_efd4_11eb_99ed_8d20dba5c1a9row6_col1\" class=\"data row6 col1\" >Pakistan</td>\n",
       "                        <td id=\"T_4832edd9_efd4_11eb_99ed_8d20dba5c1a9row6_col2\" class=\"data row6 col2\" >20</td>\n",
       "                        <td id=\"T_4832edd9_efd4_11eb_99ed_8d20dba5c1a9row6_col3\" class=\"data row6 col3\" >1,496</td>\n",
       "                        <td id=\"T_4832edd9_efd4_11eb_99ed_8d20dba5c1a9row6_col4\" class=\"data row6 col4\" >75</td>\n",
       "            </tr>\n",
       "            <tr>\n",
       "                                <td id=\"T_4832edd9_efd4_11eb_99ed_8d20dba5c1a9row7_col0\" class=\"data row7 col0\" >8</td>\n",
       "                        <td id=\"T_4832edd9_efd4_11eb_99ed_8d20dba5c1a9row7_col1\" class=\"data row7 col1\" >Bangladesh</td>\n",
       "                        <td id=\"T_4832edd9_efd4_11eb_99ed_8d20dba5c1a9row7_col2\" class=\"data row7 col2\" >5</td>\n",
       "                        <td id=\"T_4832edd9_efd4_11eb_99ed_8d20dba5c1a9row7_col3\" class=\"data row7 col3\" >306</td>\n",
       "                        <td id=\"T_4832edd9_efd4_11eb_99ed_8d20dba5c1a9row7_col4\" class=\"data row7 col4\" >61</td>\n",
       "            </tr>\n",
       "            <tr>\n",
       "                                <td id=\"T_4832edd9_efd4_11eb_99ed_8d20dba5c1a9row8_col0\" class=\"data row8 col0\" >9</td>\n",
       "                        <td id=\"T_4832edd9_efd4_11eb_99ed_8d20dba5c1a9row8_col1\" class=\"data row8 col1\" >Sri Lanka</td>\n",
       "                        <td id=\"T_4832edd9_efd4_11eb_99ed_8d20dba5c1a9row8_col2\" class=\"data row8 col2\" >11</td>\n",
       "                        <td id=\"T_4832edd9_efd4_11eb_99ed_8d20dba5c1a9row8_col3\" class=\"data row8 col3\" >519</td>\n",
       "                        <td id=\"T_4832edd9_efd4_11eb_99ed_8d20dba5c1a9row8_col4\" class=\"data row8 col4\" >47</td>\n",
       "            </tr>\n",
       "            <tr>\n",
       "                                <td id=\"T_4832edd9_efd4_11eb_99ed_8d20dba5c1a9row9_col0\" class=\"data row9 col0\" >10</td>\n",
       "                        <td id=\"T_4832edd9_efd4_11eb_99ed_8d20dba5c1a9row9_col1\" class=\"data row9 col1\" >Ireland</td>\n",
       "                        <td id=\"T_4832edd9_efd4_11eb_99ed_8d20dba5c1a9row9_col2\" class=\"data row9 col2\" >2</td>\n",
       "                        <td id=\"T_4832edd9_efd4_11eb_99ed_8d20dba5c1a9row9_col3\" class=\"data row9 col3\" >25</td>\n",
       "                        <td id=\"T_4832edd9_efd4_11eb_99ed_8d20dba5c1a9row9_col4\" class=\"data row9 col4\" >13</td>\n",
       "            </tr>\n",
       "    </tbody></table>"
      ],
      "text/plain": [
       "<pandas.io.formats.style.Styler at 0x18e1c22bf40>"
      ]
     },
     "execution_count": 412,
     "metadata": {},
     "output_type": "execute_result"
    }
   ],
   "source": [
    "top_10_Wodi_teams=pd.DataFrame()\n",
    "top_10_Wodi_teams['Rank']=np.arange(1,11)\n",
    "top_10_Wodi_teams['Team']=wteams_list[:10]\n",
    "top_10_Wodi_teams['Matches']=wmatches_list\n",
    "top_10_Wodi_teams['Points']=points_list\n",
    "top_10_Wodi_teams['Rating']=wratings_list\n",
    "\n",
    "top_10_Wodi_teams=top_10_Wodi_teams.style.hide_index()\n",
    "top_10_Wodi_teams"
   ]
  },
  {
   "cell_type": "markdown",
   "metadata": {},
   "source": [
    "## 6. Write a python program to scrape cricket rankings from ‘www.icc-cricket.com’. You have toscrape:\n",
    "\n",
    "**ii) Top 10 women’s ODI players along with the records of their team and rating.**\n"
   ]
  },
  {
   "cell_type": "code",
   "execution_count": 450,
   "metadata": {},
   "outputs": [],
   "source": [
    "wplayer_page=requests.get('https://www.icc-cricket.com/rankings/womens/player-rankings/odi/batting')\n",
    "wplayer_soup=BeautifulSoup(wplayer_page.content)"
   ]
  },
  {
   "cell_type": "code",
   "execution_count": 424,
   "metadata": {},
   "outputs": [
    {
     "data": {
      "text/plain": [
       "['Mithali Raj']"
      ]
     },
     "execution_count": 424,
     "metadata": {},
     "output_type": "execute_result"
    }
   ],
   "source": [
    "wname_list=[]\n",
    "wname1=wplayer_soup.find('div',class_=\"rankings-block__banner--name-large\")\n",
    "wname_list.append(wname1.text)\n",
    "wname_list"
   ]
  },
  {
   "cell_type": "code",
   "execution_count": 425,
   "metadata": {},
   "outputs": [
    {
     "data": {
      "text/plain": [
       "['Mithali Raj',\n",
       " 'Lizelle Lee',\n",
       " 'Alyssa Healy',\n",
       " 'Tammy Beaumont',\n",
       " 'Stafanie Taylor',\n",
       " 'Meg Lanning',\n",
       " 'Amy Satterthwaite',\n",
       " 'Natalie Sciver',\n",
       " 'Smriti Mandhana',\n",
       " 'Laura Wolvaardt',\n",
       " 'Ellyse Perry',\n",
       " 'Chamari Athapaththu',\n",
       " 'Rachael Haynes',\n",
       " 'Heather Knight',\n",
       " 'Mignon du Preez',\n",
       " 'Beth Mooney',\n",
       " 'Harmanpreet Kaur',\n",
       " 'Suzie Bates',\n",
       " 'Sophie Devine',\n",
       " 'Poonam Raut',\n",
       " 'Marizanne Kapp',\n",
       " 'Deepti Sharma',\n",
       " 'Amy Jones',\n",
       " 'Nahida Khan',\n",
       " 'Deandra Dottin',\n",
       " 'Dane van Niekerk',\n",
       " 'Hayley Matthews',\n",
       " 'Bismah Maroof',\n",
       " 'Nicole Bolton',\n",
       " 'Javeria Khan',\n",
       " 'Fargana Hoque',\n",
       " 'Ashleigh Gardner',\n",
       " 'Rumana Ahmed',\n",
       " 'Chloe-Lesleigh Tryon',\n",
       " 'Katie Perkins',\n",
       " 'Umaima Sohail',\n",
       " 'Sune Luus',\n",
       " 'Nida Dar',\n",
       " 'Amelia Kerr',\n",
       " 'Jess Jonassen',\n",
       " 'Danielle Wyatt',\n",
       " 'Kyshona Knight',\n",
       " 'Aliya Riaz',\n",
       " 'Katherine Brunt',\n",
       " 'Lauren Winfield',\n",
       " 'Trisha Chetty',\n",
       " 'Katey Martin',\n",
       " 'Harshitha Madavi',\n",
       " 'Brooke Halliday',\n",
       " 'Shikha Pandey',\n",
       " 'Fran Wilson',\n",
       " 'Maddie Green',\n",
       " 'Dilani Manodara',\n",
       " 'Nigar Sultana',\n",
       " 'Jhulan Goswami',\n",
       " 'Lara Goodall',\n",
       " 'Jemimah Rodriques',\n",
       " 'Chedean Nation',\n",
       " 'Shemaine Campbelle',\n",
       " 'Priya Punia',\n",
       " 'Rachel Priest',\n",
       " 'Sidra Ameen',\n",
       " 'Lauren Down',\n",
       " 'Kycia Knight',\n",
       " 'Nilakshi Silva',\n",
       " 'Nicola Carey',\n",
       " 'Hayley Jensen',\n",
       " 'Muneeba Ali',\n",
       " 'Salma Khatun',\n",
       " 'Georgia Wareham',\n",
       " 'Taniya Bhatia',\n",
       " 'Shafali Verma',\n",
       " 'Anne Bosch',\n",
       " 'Andrie Steyn',\n",
       " 'Kate Cross',\n",
       " 'Poonam Yadav',\n",
       " 'Sophia Dunkley',\n",
       " 'Sheneta Grimmond',\n",
       " 'Avanthika Mendis',\n",
       " 'Sharmin Supta',\n",
       " 'Britney Cooper',\n",
       " 'Leigh Kasperek',\n",
       " 'Anya Shrubsole',\n",
       " 'Anushka Sanjeewani',\n",
       " 'Rajeshwari Gayakwad',\n",
       " 'Inoka Ranaweera',\n",
       " 'Lea Tahuhu',\n",
       " 'Natasha McLean',\n",
       " 'Ayesha Zafar',\n",
       " 'Megan Schutt',\n",
       " 'Oshadi Ranasinghe',\n",
       " 'Nashra Sandhu',\n",
       " 'Shamilia Connell',\n",
       " 'Stacy-Ann King',\n",
       " 'Sanjida Islam',\n",
       " 'Chinelle Henry',\n",
       " 'Jess Kerr',\n",
       " 'Hannah Rowe',\n",
       " 'Sushma Verma',\n",
       " 'Shabnim Ismail']"
      ]
     },
     "execution_count": 425,
     "metadata": {},
     "output_type": "execute_result"
    }
   ],
   "source": [
    "wnames=wplayer_soup.find_all('td',class_=\"table-body__cell rankings-table__name name\")\n",
    "for i in wnames:\n",
    "    wname_list.append(i.text.replace('\\n',''))\n",
    "wname_list"
   ]
  },
  {
   "cell_type": "code",
   "execution_count": 451,
   "metadata": {},
   "outputs": [
    {
     "data": {
      "text/plain": [
       "['IND']"
      ]
     },
     "execution_count": 451,
     "metadata": {},
     "output_type": "execute_result"
    }
   ],
   "source": [
    "wnation_list=[]\n",
    "wnation1=wplayer_soup.find('div',class_=\"rankings-block__banner--nationality\")\n",
    "wnation_list.append(wnation1.text.replace('\\n','').strip())\n",
    "wnation_list"
   ]
  },
  {
   "cell_type": "code",
   "execution_count": 456,
   "metadata": {},
   "outputs": [
    {
     "data": {
      "text/plain": [
       "['IND',\n",
       " 'SA',\n",
       " 'AUS',\n",
       " 'ENG',\n",
       " 'WI',\n",
       " 'AUS',\n",
       " 'NZ',\n",
       " 'ENG',\n",
       " 'IND',\n",
       " 'SA',\n",
       " 'AUS',\n",
       " 'SL',\n",
       " 'AUS',\n",
       " 'ENG',\n",
       " 'SA',\n",
       " 'AUS',\n",
       " 'IND',\n",
       " 'NZ',\n",
       " 'NZ',\n",
       " 'IND',\n",
       " 'SA',\n",
       " 'IND',\n",
       " 'ENG',\n",
       " 'PAK',\n",
       " 'WI',\n",
       " 'SA',\n",
       " 'WI',\n",
       " 'PAK',\n",
       " 'AUS',\n",
       " 'PAK',\n",
       " 'BAN',\n",
       " 'AUS',\n",
       " 'BAN',\n",
       " 'SA',\n",
       " 'NZ',\n",
       " 'PAK',\n",
       " 'SA',\n",
       " 'PAK',\n",
       " 'NZ',\n",
       " 'AUS',\n",
       " 'ENG',\n",
       " 'WI',\n",
       " 'PAK',\n",
       " 'ENG',\n",
       " 'ENG',\n",
       " 'SA',\n",
       " 'NZ',\n",
       " 'SL',\n",
       " 'NZ',\n",
       " 'IND',\n",
       " 'ENG',\n",
       " 'NZ',\n",
       " 'SL',\n",
       " 'BAN',\n",
       " 'IND',\n",
       " 'SA',\n",
       " 'IND',\n",
       " 'WI',\n",
       " 'WI',\n",
       " 'IND',\n",
       " 'NZ',\n",
       " 'PAK',\n",
       " 'NZ',\n",
       " 'WI',\n",
       " 'SL',\n",
       " 'AUS',\n",
       " 'NZ',\n",
       " 'PAK',\n",
       " 'BAN',\n",
       " 'AUS',\n",
       " 'IND',\n",
       " 'IND',\n",
       " 'SA',\n",
       " 'SA',\n",
       " 'ENG',\n",
       " 'IND',\n",
       " 'ENG',\n",
       " 'WI',\n",
       " 'SL',\n",
       " 'BAN',\n",
       " 'WI',\n",
       " 'NZ',\n",
       " 'ENG',\n",
       " 'SL',\n",
       " 'IND',\n",
       " 'SL',\n",
       " 'NZ',\n",
       " 'WI',\n",
       " 'PAK',\n",
       " 'AUS',\n",
       " 'SL',\n",
       " 'PAK',\n",
       " 'WI',\n",
       " 'WI',\n",
       " 'BAN',\n",
       " 'WI',\n",
       " 'NZ',\n",
       " 'NZ',\n",
       " 'IND',\n",
       " 'SA']"
      ]
     },
     "execution_count": 456,
     "metadata": {},
     "output_type": "execute_result"
    }
   ],
   "source": [
    "wnations=wplayer_soup.find_all('span',class_=\"table-body__logo-text\")\n",
    "for i in wnations:\n",
    "    wnation_list.append(i.text)\n",
    "wnation_list"
   ]
  },
  {
   "cell_type": "code",
   "execution_count": 457,
   "metadata": {},
   "outputs": [
    {
     "data": {
      "text/plain": [
       "['762']"
      ]
     },
     "execution_count": 457,
     "metadata": {},
     "output_type": "execute_result"
    }
   ],
   "source": [
    "rating_1=wplayer_soup.find('div',class_=\"rankings-block__banner--rating\")\n",
    "wplayer_ratings_list=[]\n",
    "wplayer_ratings_list.append(rating_1.text)\n",
    "wplayer_ratings_list"
   ]
  },
  {
   "cell_type": "code",
   "execution_count": 458,
   "metadata": {},
   "outputs": [
    {
     "data": {
      "text/plain": [
       "['762',\n",
       " '758',\n",
       " '756',\n",
       " '754',\n",
       " '736',\n",
       " '723',\n",
       " '715',\n",
       " '706',\n",
       " '701',\n",
       " '683',\n",
       " '679',\n",
       " '667',\n",
       " '657',\n",
       " '644',\n",
       " '620',\n",
       " '600',\n",
       " '594',\n",
       " '577',\n",
       " '573',\n",
       " '570',\n",
       " '560',\n",
       " '550',\n",
       " '539',\n",
       " '506',\n",
       " '499',\n",
       " '498',\n",
       " '490',\n",
       " '470',\n",
       " '456',\n",
       " '453',\n",
       " '445',\n",
       " '440',\n",
       " '437',\n",
       " '437',\n",
       " '413',\n",
       " '403',\n",
       " '398',\n",
       " '397',\n",
       " '396',\n",
       " '380',\n",
       " '380',\n",
       " '379',\n",
       " '375',\n",
       " '371',\n",
       " '367',\n",
       " '359',\n",
       " '357',\n",
       " '353',\n",
       " '350',\n",
       " '328',\n",
       " '321',\n",
       " '320',\n",
       " '319',\n",
       " '317',\n",
       " '311',\n",
       " '305',\n",
       " '302',\n",
       " '297',\n",
       " '288',\n",
       " '287',\n",
       " '285',\n",
       " '268',\n",
       " '264',\n",
       " '264',\n",
       " '261',\n",
       " '259',\n",
       " '256',\n",
       " '252',\n",
       " '244',\n",
       " '239',\n",
       " '239',\n",
       " '235',\n",
       " '234',\n",
       " '234',\n",
       " '234',\n",
       " '232',\n",
       " '230',\n",
       " '228',\n",
       " '226',\n",
       " '221',\n",
       " '220',\n",
       " '219',\n",
       " '219',\n",
       " '211',\n",
       " '207',\n",
       " '205',\n",
       " '204',\n",
       " '202',\n",
       " '197',\n",
       " '195',\n",
       " '195',\n",
       " '188',\n",
       " '186',\n",
       " '182',\n",
       " '181',\n",
       " '180',\n",
       " '179',\n",
       " '179',\n",
       " '179',\n",
       " '178']"
      ]
     },
     "execution_count": 458,
     "metadata": {},
     "output_type": "execute_result"
    }
   ],
   "source": [
    "rating_all=wplayer_soup('td',class_=\"table-body__cell rating\")\n",
    "for i in rating_all:\n",
    "    wplayer_ratings_list.append(i.text)\n",
    "wplayer_ratings_list"
   ]
  },
  {
   "cell_type": "code",
   "execution_count": 459,
   "metadata": {},
   "outputs": [
    {
     "data": {
      "text/html": [
       "<style  type=\"text/css\" >\n",
       "</style><table id=\"T_b7406c1a_efda_11eb_ad1f_8d20dba5c1a9\" ><thead>    <tr>        <th class=\"col_heading level0 col0\" >Rank</th>        <th class=\"col_heading level0 col1\" >Name</th>        <th class=\"col_heading level0 col2\" >Nationality</th>        <th class=\"col_heading level0 col3\" >Ratings</th>    </tr></thead><tbody>\n",
       "                <tr>\n",
       "                                <td id=\"T_b7406c1a_efda_11eb_ad1f_8d20dba5c1a9row0_col0\" class=\"data row0 col0\" >1</td>\n",
       "                        <td id=\"T_b7406c1a_efda_11eb_ad1f_8d20dba5c1a9row0_col1\" class=\"data row0 col1\" >Mithali Raj</td>\n",
       "                        <td id=\"T_b7406c1a_efda_11eb_ad1f_8d20dba5c1a9row0_col2\" class=\"data row0 col2\" >IND</td>\n",
       "                        <td id=\"T_b7406c1a_efda_11eb_ad1f_8d20dba5c1a9row0_col3\" class=\"data row0 col3\" >762</td>\n",
       "            </tr>\n",
       "            <tr>\n",
       "                                <td id=\"T_b7406c1a_efda_11eb_ad1f_8d20dba5c1a9row1_col0\" class=\"data row1 col0\" >2</td>\n",
       "                        <td id=\"T_b7406c1a_efda_11eb_ad1f_8d20dba5c1a9row1_col1\" class=\"data row1 col1\" >Lizelle Lee</td>\n",
       "                        <td id=\"T_b7406c1a_efda_11eb_ad1f_8d20dba5c1a9row1_col2\" class=\"data row1 col2\" >SA</td>\n",
       "                        <td id=\"T_b7406c1a_efda_11eb_ad1f_8d20dba5c1a9row1_col3\" class=\"data row1 col3\" >758</td>\n",
       "            </tr>\n",
       "            <tr>\n",
       "                                <td id=\"T_b7406c1a_efda_11eb_ad1f_8d20dba5c1a9row2_col0\" class=\"data row2 col0\" >3</td>\n",
       "                        <td id=\"T_b7406c1a_efda_11eb_ad1f_8d20dba5c1a9row2_col1\" class=\"data row2 col1\" >Alyssa Healy</td>\n",
       "                        <td id=\"T_b7406c1a_efda_11eb_ad1f_8d20dba5c1a9row2_col2\" class=\"data row2 col2\" >AUS</td>\n",
       "                        <td id=\"T_b7406c1a_efda_11eb_ad1f_8d20dba5c1a9row2_col3\" class=\"data row2 col3\" >756</td>\n",
       "            </tr>\n",
       "            <tr>\n",
       "                                <td id=\"T_b7406c1a_efda_11eb_ad1f_8d20dba5c1a9row3_col0\" class=\"data row3 col0\" >4</td>\n",
       "                        <td id=\"T_b7406c1a_efda_11eb_ad1f_8d20dba5c1a9row3_col1\" class=\"data row3 col1\" >Tammy Beaumont</td>\n",
       "                        <td id=\"T_b7406c1a_efda_11eb_ad1f_8d20dba5c1a9row3_col2\" class=\"data row3 col2\" >ENG</td>\n",
       "                        <td id=\"T_b7406c1a_efda_11eb_ad1f_8d20dba5c1a9row3_col3\" class=\"data row3 col3\" >754</td>\n",
       "            </tr>\n",
       "            <tr>\n",
       "                                <td id=\"T_b7406c1a_efda_11eb_ad1f_8d20dba5c1a9row4_col0\" class=\"data row4 col0\" >5</td>\n",
       "                        <td id=\"T_b7406c1a_efda_11eb_ad1f_8d20dba5c1a9row4_col1\" class=\"data row4 col1\" >Stafanie Taylor</td>\n",
       "                        <td id=\"T_b7406c1a_efda_11eb_ad1f_8d20dba5c1a9row4_col2\" class=\"data row4 col2\" >WI</td>\n",
       "                        <td id=\"T_b7406c1a_efda_11eb_ad1f_8d20dba5c1a9row4_col3\" class=\"data row4 col3\" >736</td>\n",
       "            </tr>\n",
       "            <tr>\n",
       "                                <td id=\"T_b7406c1a_efda_11eb_ad1f_8d20dba5c1a9row5_col0\" class=\"data row5 col0\" >6</td>\n",
       "                        <td id=\"T_b7406c1a_efda_11eb_ad1f_8d20dba5c1a9row5_col1\" class=\"data row5 col1\" >Meg Lanning</td>\n",
       "                        <td id=\"T_b7406c1a_efda_11eb_ad1f_8d20dba5c1a9row5_col2\" class=\"data row5 col2\" >AUS</td>\n",
       "                        <td id=\"T_b7406c1a_efda_11eb_ad1f_8d20dba5c1a9row5_col3\" class=\"data row5 col3\" >723</td>\n",
       "            </tr>\n",
       "            <tr>\n",
       "                                <td id=\"T_b7406c1a_efda_11eb_ad1f_8d20dba5c1a9row6_col0\" class=\"data row6 col0\" >7</td>\n",
       "                        <td id=\"T_b7406c1a_efda_11eb_ad1f_8d20dba5c1a9row6_col1\" class=\"data row6 col1\" >Amy Satterthwaite</td>\n",
       "                        <td id=\"T_b7406c1a_efda_11eb_ad1f_8d20dba5c1a9row6_col2\" class=\"data row6 col2\" >NZ</td>\n",
       "                        <td id=\"T_b7406c1a_efda_11eb_ad1f_8d20dba5c1a9row6_col3\" class=\"data row6 col3\" >715</td>\n",
       "            </tr>\n",
       "            <tr>\n",
       "                                <td id=\"T_b7406c1a_efda_11eb_ad1f_8d20dba5c1a9row7_col0\" class=\"data row7 col0\" >8</td>\n",
       "                        <td id=\"T_b7406c1a_efda_11eb_ad1f_8d20dba5c1a9row7_col1\" class=\"data row7 col1\" >Natalie Sciver</td>\n",
       "                        <td id=\"T_b7406c1a_efda_11eb_ad1f_8d20dba5c1a9row7_col2\" class=\"data row7 col2\" >ENG</td>\n",
       "                        <td id=\"T_b7406c1a_efda_11eb_ad1f_8d20dba5c1a9row7_col3\" class=\"data row7 col3\" >706</td>\n",
       "            </tr>\n",
       "            <tr>\n",
       "                                <td id=\"T_b7406c1a_efda_11eb_ad1f_8d20dba5c1a9row8_col0\" class=\"data row8 col0\" >9</td>\n",
       "                        <td id=\"T_b7406c1a_efda_11eb_ad1f_8d20dba5c1a9row8_col1\" class=\"data row8 col1\" >Smriti Mandhana</td>\n",
       "                        <td id=\"T_b7406c1a_efda_11eb_ad1f_8d20dba5c1a9row8_col2\" class=\"data row8 col2\" >IND</td>\n",
       "                        <td id=\"T_b7406c1a_efda_11eb_ad1f_8d20dba5c1a9row8_col3\" class=\"data row8 col3\" >701</td>\n",
       "            </tr>\n",
       "            <tr>\n",
       "                                <td id=\"T_b7406c1a_efda_11eb_ad1f_8d20dba5c1a9row9_col0\" class=\"data row9 col0\" >10</td>\n",
       "                        <td id=\"T_b7406c1a_efda_11eb_ad1f_8d20dba5c1a9row9_col1\" class=\"data row9 col1\" >Laura Wolvaardt</td>\n",
       "                        <td id=\"T_b7406c1a_efda_11eb_ad1f_8d20dba5c1a9row9_col2\" class=\"data row9 col2\" >SA</td>\n",
       "                        <td id=\"T_b7406c1a_efda_11eb_ad1f_8d20dba5c1a9row9_col3\" class=\"data row9 col3\" >683</td>\n",
       "            </tr>\n",
       "    </tbody></table>"
      ],
      "text/plain": [
       "<pandas.io.formats.style.Styler at 0x18e16ee2e20>"
      ]
     },
     "execution_count": 459,
     "metadata": {},
     "output_type": "execute_result"
    }
   ],
   "source": [
    "top_10_wodi_players=pd.DataFrame()\n",
    "top_10_wodi_players['Rank']=np.arange(1,11)\n",
    "top_10_wodi_players['Name']=wname_list[:10]\n",
    "top_10_wodi_players['Nationality']=wnation_list[:10]\n",
    "top_10_wodi_players['Ratings']=wplayer_ratings_list[:10]\n",
    "\n",
    "top_10_wodi_players=top_10_wodi_players.style.hide_index()\n",
    "top_10_wodi_players"
   ]
  },
  {
   "cell_type": "code",
   "execution_count": null,
   "metadata": {},
   "outputs": [],
   "source": []
  },
  {
   "cell_type": "markdown",
   "metadata": {},
   "source": [
    "## Q7. Write a python program to scrape details of all the mobile phones under Rs. 20,000 listed on Amazon.in. The scraped data should include Product Name, Price, Image URL and Average Rating."
   ]
  },
  {
   "cell_type": "code",
   "execution_count": 241,
   "metadata": {},
   "outputs": [
    {
     "data": {
      "text/plain": [
       "<Response [200]>"
      ]
     },
     "execution_count": 241,
     "metadata": {},
     "output_type": "execute_result"
    }
   ],
   "source": [
    "mobile_page=requests.get('https://www.amazon.in/best-mobile-under-20000/s?k=best+mobile+under+20000')\n",
    "mobile_page"
   ]
  },
  {
   "cell_type": "code",
   "execution_count": 242,
   "metadata": {},
   "outputs": [],
   "source": [
    "mobile_soup=BeautifulSoup(mobile_page.content)"
   ]
  },
  {
   "cell_type": "code",
   "execution_count": 259,
   "metadata": {
    "scrolled": true
   },
   "outputs": [
    {
     "data": {
      "text/plain": [
       "['Redmi 9A (Nature Green, 2GB RAM, 32GB Storage) | 2GHz Octa-core Helio G25 Processor | 5000 mAh Battery  ',\n",
       " 'Samsung Galaxy M12 (Blue,4GB RAM, 64GB Storage) 6000 mAh with 8nm Processor | True 48 MP Quad Camera | 90Hz Refresh Rate  ',\n",
       " 'Tecno Spark 7T(Jewel Blue, 4GB RAM, 64GB Storage) 6000 mAh Battery| 48 MP AI Dual Rear Camera, 6.52 Handy Size  ',\n",
       " 'Samsung Galaxy M11 (Black, 4GB RAM, 64GB Storage) with No Cost EMI/Additional Exchange Offers  ',\n",
       " 'Redmi 9 (Sky Blue, 4GB RAM, 64GB Storage) | 2.3GHz Mediatek Helio G35 Octa core Processor  ',\n",
       " 'Oppo A31 (Fantasy White, 6GB RAM, 128GB Storage) with No Cost EMI/Additional Exchange Offers  ',\n",
       " 'Samsung Galaxy M31 (Ocean Blue, 8GB RAM, 128GB Storage) 6 Months Free Screen Replacement for Prime  ',\n",
       " 'realme C11 (2021) (Cool Blue, 2GB RAM, 32GB Storage) with No Cost EMI/Additional Exchange Offers  ',\n",
       " 'Oppo A31 (Mystery Black, 6GB RAM, 128GB Storage) with No Cost EMI/Additional Exchange Offers  ',\n",
       " 'Redmi Note 10 (Shadow Black, 4GB RAM, 64GB Storage) - Amoled Dot Display | 48MP Sony Sensor IMX582 | Snapdragon 678 Processor  ',\n",
       " 'Samsung Galaxy M51 (Electric Blue, 6GB RAM, 128GB Storage) 6 Months Free Screen Replacement for Prime  ',\n",
       " 'Redmi 9A (Nature Green, 3GB Ram, 32GB Storage) | 2GHz Octa-core Helio G25 Processor  ',\n",
       " 'Redmi 9 (Carbon Black, 4GB RAM, 64GB Storage) | 2.3GHz Mediatek Helio G35 Octa core Processor  ',\n",
       " 'Redmi 9 (Sporty Orange, 4GB RAM, 64GB Storage) | 2.3GHz Mediatek Helio G35 Octa core Processor  ',\n",
       " 'realme C11 (2021) (Cool Grey, 2GB RAM, 32GB Storage) with No Cost EMI/Additional Exchange Offers  ',\n",
       " 'realme narzo 30 (Racing Blue, 4GB RAM, 64GB Storage) with No Cost EMI/Additional Exchange Offers  ']"
      ]
     },
     "execution_count": 259,
     "metadata": {},
     "output_type": "execute_result"
    }
   ],
   "source": [
    "mobile_list=[]\n",
    "mobile_name=mobile_soup.find_all('h2',class_=\"a-size-mini a-spacing-none a-color-base s-line-clamp-2\")\n",
    "\n",
    "for i in mobile_name:\n",
    "    mobile_list.append(i.text)\n",
    "mobile_list"
   ]
  },
  {
   "cell_type": "code",
   "execution_count": 260,
   "metadata": {},
   "outputs": [
    {
     "data": {
      "text/plain": [
       "16"
      ]
     },
     "execution_count": 260,
     "metadata": {},
     "output_type": "execute_result"
    }
   ],
   "source": [
    "len(mobile_list)"
   ]
  },
  {
   "cell_type": "code",
   "execution_count": 261,
   "metadata": {},
   "outputs": [
    {
     "data": {
      "text/plain": [
       "['6,999',\n",
       " '10,999',\n",
       " '8,999',\n",
       " '9,999',\n",
       " '8,999',\n",
       " '12,490',\n",
       " '6,999',\n",
       " '12,490',\n",
       " '12,999',\n",
       " '19,999',\n",
       " '7,799',\n",
       " '8,999',\n",
       " '8,999',\n",
       " '6,999',\n",
       " '12,499']"
      ]
     },
     "execution_count": 261,
     "metadata": {},
     "output_type": "execute_result"
    }
   ],
   "source": [
    "price_list=[]\n",
    "\n",
    "mobile_price=mobile_soup.find_all('span',class_=\"a-price-whole\")\n",
    "\n",
    "for i in mobile_price:\n",
    "    price_list.append(i.text)\n",
    "price_list"
   ]
  },
  {
   "cell_type": "code",
   "execution_count": 262,
   "metadata": {},
   "outputs": [
    {
     "data": {
      "text/plain": [
       "15"
      ]
     },
     "execution_count": 262,
     "metadata": {},
     "output_type": "execute_result"
    }
   ],
   "source": [
    "len(price_list)"
   ]
  },
  {
   "cell_type": "markdown",
   "metadata": {},
   "source": [
    "## Q8. Write a python program to extract information about the local weather from the National Weather Service website of USA, https://www.weather.gov/ for the city, San Francisco. You need to extract data about 7 day extended forecast display for the city. The data should include period, short description, temperature and description.**"
   ]
  },
  {
   "cell_type": "code",
   "execution_count": 310,
   "metadata": {},
   "outputs": [],
   "source": [
    "forcast_page=requests.get('https://forecast.weather.gov/MapClick.php?textField1=37.77&textField2=-122.42')\n",
    "forcast_soup=BeautifulSoup(forcast_page.content)"
   ]
  },
  {
   "cell_type": "code",
   "execution_count": 312,
   "metadata": {},
   "outputs": [
    {
     "data": {
      "text/plain": [
       "['Today',\n",
       " 'Tonight',\n",
       " 'Thursday',\n",
       " 'ThursdayNight',\n",
       " 'Friday',\n",
       " 'FridayNight',\n",
       " 'Saturday',\n",
       " 'SaturdayNight',\n",
       " 'Sunday']"
      ]
     },
     "execution_count": 312,
     "metadata": {},
     "output_type": "execute_result"
    }
   ],
   "source": [
    "day_list=[]\n",
    "period=forcast_soup.find_all('p',class_=\"period-name\")\n",
    "for i in period:\n",
    "    day_list.append(i.text)\n",
    "day_list"
   ]
  },
  {
   "cell_type": "code",
   "execution_count": 324,
   "metadata": {
    "scrolled": true
   },
   "outputs": [
    {
     "data": {
      "text/plain": [
       "[<ul class=\"list-unstyled\" id=\"seven-day-forecast-list\"><li class=\"forecast-tombstone\">\n",
       " <div class=\"tombstone-container\">\n",
       " <p class=\"period-name\">Today<br/><br/></p>\n",
       " <p><img alt=\"Today: Mostly cloudy, then gradually becoming sunny, with a high near 71. Breezy, with a west wind 10 to 15 mph increasing to 20 to 25 mph in the afternoon. Winds could gust as high as 33 mph. \" class=\"forecast-icon\" src=\"DualImage.php?i=bkn&amp;j=wind_sct\" title=\"Today: Mostly cloudy, then gradually becoming sunny, with a high near 71. Breezy, with a west wind 10 to 15 mph increasing to 20 to 25 mph in the afternoon. Winds could gust as high as 33 mph. \"/></p><p class=\"short-desc\">Partly Sunny<br/>then Mostly<br/>Sunny and<br/>Breezy</p><p class=\"temp temp-high\">High: 71 °F</p></div></li><li class=\"forecast-tombstone\">\n",
       " <div class=\"tombstone-container\">\n",
       " <p class=\"period-name\">Tonight<br/><br/></p>\n",
       " <p><img alt=\"Tonight: Mostly cloudy, with a low around 57. Breezy, with a west wind 13 to 23 mph, with gusts as high as 29 mph. \" class=\"forecast-icon\" src=\"DualImage.php?i=nwind_bkn&amp;j=nbkn\" title=\"Tonight: Mostly cloudy, with a low around 57. Breezy, with a west wind 13 to 23 mph, with gusts as high as 29 mph. \"/></p><p class=\"short-desc\">Mostly Cloudy<br/>and Breezy<br/>then Mostly<br/>Cloudy</p><p class=\"temp temp-low\">Low: 57 °F</p></div></li><li class=\"forecast-tombstone\">\n",
       " <div class=\"tombstone-container\">\n",
       " <p class=\"period-name\">Thursday<br/><br/></p>\n",
       " <p><img alt=\"Thursday: Mostly cloudy, then gradually becoming sunny, with a high near 70. Breezy, with a west southwest wind 11 to 16 mph increasing to 20 to 25 mph in the afternoon. Winds could gust as high as 33 mph. \" class=\"forecast-icon\" src=\"DualImage.php?i=bkn&amp;j=wind_sct\" title=\"Thursday: Mostly cloudy, then gradually becoming sunny, with a high near 70. Breezy, with a west southwest wind 11 to 16 mph increasing to 20 to 25 mph in the afternoon. Winds could gust as high as 33 mph. \"/></p><p class=\"short-desc\">Partly Sunny<br/>then Mostly<br/>Sunny and<br/>Breezy</p><p class=\"temp temp-high\">High: 70 °F</p></div></li><li class=\"forecast-tombstone\">\n",
       " <div class=\"tombstone-container\">\n",
       " <p class=\"period-name\">Thursday<br/>Night</p>\n",
       " <p><img alt=\"Thursday Night: Partly cloudy, with a low around 56. Breezy, with a west southwest wind 14 to 24 mph, with gusts as high as 31 mph. \" class=\"forecast-icon\" src=\"DualImage.php?i=nwind_sct&amp;j=nbkn\" title=\"Thursday Night: Partly cloudy, with a low around 56. Breezy, with a west southwest wind 14 to 24 mph, with gusts as high as 31 mph. \"/></p><p class=\"short-desc\">Partly Cloudy<br/>and Breezy<br/>then Mostly<br/>Cloudy</p><p class=\"temp temp-low\">Low: 56 °F</p></div></li><li class=\"forecast-tombstone\">\n",
       " <div class=\"tombstone-container\">\n",
       " <p class=\"period-name\">Friday<br/><br/></p>\n",
       " <p><img alt=\"Friday: Mostly sunny, with a high near 69. Breezy, with a west southwest wind 13 to 23 mph, with gusts as high as 30 mph. \" class=\"forecast-icon\" src=\"DualImage.php?i=sct&amp;j=wind_few\" title=\"Friday: Mostly sunny, with a high near 69. Breezy, with a west southwest wind 13 to 23 mph, with gusts as high as 30 mph. \"/></p><p class=\"short-desc\">Mostly Sunny<br/>then Sunny<br/>and Breezy</p><p class=\"temp temp-high\">High: 69 °F</p></div></li><li class=\"forecast-tombstone\">\n",
       " <div class=\"tombstone-container\">\n",
       " <p class=\"period-name\">Friday<br/>Night</p>\n",
       " <p><img alt=\"Friday Night: Mostly cloudy, with a low around 56.\" class=\"forecast-icon\" src=\"newimages/medium/nbkn.png\" title=\"Friday Night: Mostly cloudy, with a low around 56.\"/></p><p class=\"short-desc\">Mostly Cloudy</p><p class=\"temp temp-low\">Low: 56 °F</p></div></li><li class=\"forecast-tombstone\">\n",
       " <div class=\"tombstone-container\">\n",
       " <p class=\"period-name\">Saturday<br/><br/></p>\n",
       " <p><img alt=\"Saturday: Partly sunny, with a high near 67.\" class=\"forecast-icon\" src=\"newimages/medium/bkn.png\" title=\"Saturday: Partly sunny, with a high near 67.\"/></p><p class=\"short-desc\">Partly Sunny</p><p class=\"temp temp-high\">High: 67 °F</p></div></li><li class=\"forecast-tombstone\">\n",
       " <div class=\"tombstone-container\">\n",
       " <p class=\"period-name\">Saturday<br/>Night</p>\n",
       " <p><img alt=\"Saturday Night: Mostly cloudy, with a low around 56.\" class=\"forecast-icon\" src=\"newimages/medium/nbkn.png\" title=\"Saturday Night: Mostly cloudy, with a low around 56.\"/></p><p class=\"short-desc\">Mostly Cloudy</p><p class=\"temp temp-low\">Low: 56 °F</p></div></li><li class=\"forecast-tombstone\">\n",
       " <div class=\"tombstone-container\">\n",
       " <p class=\"period-name\">Sunday<br/><br/></p>\n",
       " <p><img alt=\"Sunday: Mostly sunny, with a high near 68.\" class=\"forecast-icon\" src=\"newimages/medium/sct.png\" title=\"Sunday: Mostly sunny, with a high near 68.\"/></p><p class=\"short-desc\">Mostly Sunny</p><p class=\"temp temp-high\">High: 68 °F</p></div></li></ul>]"
      ]
     },
     "execution_count": 324,
     "metadata": {},
     "output_type": "execute_result"
    }
   ],
   "source": [
    "tempall=[]\n",
    "temp=forcast_soup.find_all('ul',id=\"seven-day-forecast-list\")\n",
    "temp"
   ]
  },
  {
   "cell_type": "code",
   "execution_count": 325,
   "metadata": {},
   "outputs": [
    {
     "data": {
      "text/plain": [
       "['Today',\n",
       " '',\n",
       " 'Partly Sunnythen MostlySunny andBreezy',\n",
       " 'High: 71 °F',\n",
       " 'Tonight',\n",
       " '',\n",
       " 'Mostly Cloudyand Breezythen MostlyCloudy',\n",
       " 'Low: 57 °F',\n",
       " 'Thursday',\n",
       " '',\n",
       " 'Partly Sunnythen MostlySunny andBreezy',\n",
       " 'High: 70 °F',\n",
       " 'ThursdayNight',\n",
       " '',\n",
       " 'Partly Cloudyand Breezythen MostlyCloudy',\n",
       " 'Low: 56 °F',\n",
       " 'Friday',\n",
       " '',\n",
       " 'Mostly Sunnythen Sunnyand Breezy',\n",
       " 'High: 69 °F',\n",
       " 'FridayNight',\n",
       " '',\n",
       " 'Mostly Cloudy',\n",
       " 'Low: 56 °F',\n",
       " 'Saturday',\n",
       " '',\n",
       " 'Partly Sunny',\n",
       " 'High: 67 °F',\n",
       " 'SaturdayNight',\n",
       " '',\n",
       " 'Mostly Cloudy',\n",
       " 'Low: 56 °F',\n",
       " 'Sunday',\n",
       " '',\n",
       " 'Mostly Sunny',\n",
       " 'High: 68 °F']"
      ]
     },
     "execution_count": 325,
     "metadata": {},
     "output_type": "execute_result"
    }
   ],
   "source": [
    "for i in temp:\n",
    "    for j in i.find_all('p'):\n",
    "        tempall.append(j.text)\n",
    "tempall"
   ]
  },
  {
   "cell_type": "code",
   "execution_count": 327,
   "metadata": {},
   "outputs": [
    {
     "data": {
      "text/plain": [
       "['High: 71 °F',\n",
       " 'Low: 57 °F',\n",
       " 'High: 70 °F',\n",
       " 'Low: 56 °F',\n",
       " 'High: 69 °F',\n",
       " 'Low: 56 °F',\n",
       " 'High: 67 °F',\n",
       " 'Low: 56 °F',\n",
       " 'High: 68 °F']"
      ]
     },
     "execution_count": 327,
     "metadata": {},
     "output_type": "execute_result"
    }
   ],
   "source": [
    "temp_list=[]\n",
    "\n",
    "for i in range(3,len(tempall),4):\n",
    "    temp_list.append(tempall[i])\n",
    "temp_list"
   ]
  },
  {
   "cell_type": "code",
   "execution_count": 330,
   "metadata": {},
   "outputs": [
    {
     "data": {
      "text/plain": [
       "['Partly Sunnythen MostlySunny andBreezy',\n",
       " 'Mostly Cloudyand Breezythen MostlyCloudy',\n",
       " 'Partly Sunnythen MostlySunny andBreezy',\n",
       " 'Partly Cloudyand Breezythen MostlyCloudy',\n",
       " 'Mostly Sunnythen Sunnyand Breezy',\n",
       " 'Mostly Cloudy',\n",
       " 'Partly Sunny',\n",
       " 'Mostly Cloudy',\n",
       " 'Mostly Sunny']"
      ]
     },
     "execution_count": 330,
     "metadata": {},
     "output_type": "execute_result"
    }
   ],
   "source": [
    "short_des=[]\n",
    "\n",
    "for i in range(2,len(tempall),4):\n",
    "    short_des.append(tempall[i])\n",
    "short_des"
   ]
  },
  {
   "cell_type": "code",
   "execution_count": 334,
   "metadata": {},
   "outputs": [
    {
     "data": {
      "text/plain": [
       "9"
      ]
     },
     "execution_count": 334,
     "metadata": {},
     "output_type": "execute_result"
    }
   ],
   "source": [
    "len(short_des)"
   ]
  },
  {
   "cell_type": "code",
   "execution_count": 331,
   "metadata": {},
   "outputs": [
    {
     "data": {
      "text/plain": [
       "['Mostly cloudy, then gradually becoming sunny, with a high near 71. Breezy, with a west wind 10 to 15 mph increasing to 20 to 25 mph in the afternoon. Winds could gust as high as 33 mph. ',\n",
       " 'Mostly cloudy, with a low around 57. Breezy, with a west wind 13 to 23 mph, with gusts as high as 29 mph. ',\n",
       " 'Mostly cloudy, then gradually becoming sunny, with a high near 70. Breezy, with a west southwest wind 11 to 16 mph increasing to 20 to 25 mph in the afternoon. Winds could gust as high as 33 mph. ',\n",
       " 'Partly cloudy, with a low around 56. Breezy, with a west southwest wind 14 to 24 mph, with gusts as high as 31 mph. ',\n",
       " 'Mostly sunny, with a high near 69. Breezy, with a west southwest wind 13 to 23 mph, with gusts as high as 30 mph. ',\n",
       " 'Mostly cloudy, with a low around 56.',\n",
       " 'Partly sunny, with a high near 67.',\n",
       " 'Mostly cloudy, with a low around 56.',\n",
       " 'Mostly sunny, with a high near 68.',\n",
       " 'Partly cloudy, with a low around 55.',\n",
       " 'Mostly sunny, with a high near 66.',\n",
       " 'Partly cloudy, with a low around 55.',\n",
       " 'Mostly sunny, with a high near 66.']"
      ]
     },
     "execution_count": 331,
     "metadata": {},
     "output_type": "execute_result"
    }
   ],
   "source": [
    "description=forcast_soup('div',class_=\"col-sm-10 forecast-text\")\n",
    "description_list=[]\n",
    "\n",
    "for i in description:\n",
    "    description_list.append(i.text)\n",
    "description_list"
   ]
  },
  {
   "cell_type": "code",
   "execution_count": 333,
   "metadata": {},
   "outputs": [
    {
     "data": {
      "text/plain": [
       "13"
      ]
     },
     "execution_count": 333,
     "metadata": {},
     "output_type": "execute_result"
    }
   ],
   "source": [
    "len(description_list)"
   ]
  },
  {
   "cell_type": "code",
   "execution_count": 337,
   "metadata": {},
   "outputs": [
    {
     "data": {
      "text/html": [
       "<style  type=\"text/css\" >\n",
       "</style><table id=\"T_890a242c_efc0_11eb_92ba_8d20dba5c1a9\" ><thead>    <tr>        <th class=\"col_heading level0 col0\" >Period</th>        <th class=\"col_heading level0 col1\" >Short_Description</th>        <th class=\"col_heading level0 col2\" >Temperature</th>        <th class=\"col_heading level0 col3\" >Description</th>    </tr></thead><tbody>\n",
       "                <tr>\n",
       "                                <td id=\"T_890a242c_efc0_11eb_92ba_8d20dba5c1a9row0_col0\" class=\"data row0 col0\" >Today</td>\n",
       "                        <td id=\"T_890a242c_efc0_11eb_92ba_8d20dba5c1a9row0_col1\" class=\"data row0 col1\" >Partly Sunnythen MostlySunny andBreezy</td>\n",
       "                        <td id=\"T_890a242c_efc0_11eb_92ba_8d20dba5c1a9row0_col2\" class=\"data row0 col2\" >High: 71 °F</td>\n",
       "                        <td id=\"T_890a242c_efc0_11eb_92ba_8d20dba5c1a9row0_col3\" class=\"data row0 col3\" >Mostly cloudy, then gradually becoming sunny, with a high near 71. Breezy, with a west wind 10 to 15 mph increasing to 20 to 25 mph in the afternoon. Winds could gust as high as 33 mph. </td>\n",
       "            </tr>\n",
       "            <tr>\n",
       "                                <td id=\"T_890a242c_efc0_11eb_92ba_8d20dba5c1a9row1_col0\" class=\"data row1 col0\" >Tonight</td>\n",
       "                        <td id=\"T_890a242c_efc0_11eb_92ba_8d20dba5c1a9row1_col1\" class=\"data row1 col1\" >Mostly Cloudyand Breezythen MostlyCloudy</td>\n",
       "                        <td id=\"T_890a242c_efc0_11eb_92ba_8d20dba5c1a9row1_col2\" class=\"data row1 col2\" >Low: 57 °F</td>\n",
       "                        <td id=\"T_890a242c_efc0_11eb_92ba_8d20dba5c1a9row1_col3\" class=\"data row1 col3\" >Mostly cloudy, with a low around 57. Breezy, with a west wind 13 to 23 mph, with gusts as high as 29 mph. </td>\n",
       "            </tr>\n",
       "            <tr>\n",
       "                                <td id=\"T_890a242c_efc0_11eb_92ba_8d20dba5c1a9row2_col0\" class=\"data row2 col0\" >Thursday</td>\n",
       "                        <td id=\"T_890a242c_efc0_11eb_92ba_8d20dba5c1a9row2_col1\" class=\"data row2 col1\" >Partly Sunnythen MostlySunny andBreezy</td>\n",
       "                        <td id=\"T_890a242c_efc0_11eb_92ba_8d20dba5c1a9row2_col2\" class=\"data row2 col2\" >High: 70 °F</td>\n",
       "                        <td id=\"T_890a242c_efc0_11eb_92ba_8d20dba5c1a9row2_col3\" class=\"data row2 col3\" >Mostly cloudy, then gradually becoming sunny, with a high near 70. Breezy, with a west southwest wind 11 to 16 mph increasing to 20 to 25 mph in the afternoon. Winds could gust as high as 33 mph. </td>\n",
       "            </tr>\n",
       "            <tr>\n",
       "                                <td id=\"T_890a242c_efc0_11eb_92ba_8d20dba5c1a9row3_col0\" class=\"data row3 col0\" >ThursdayNight</td>\n",
       "                        <td id=\"T_890a242c_efc0_11eb_92ba_8d20dba5c1a9row3_col1\" class=\"data row3 col1\" >Partly Cloudyand Breezythen MostlyCloudy</td>\n",
       "                        <td id=\"T_890a242c_efc0_11eb_92ba_8d20dba5c1a9row3_col2\" class=\"data row3 col2\" >Low: 56 °F</td>\n",
       "                        <td id=\"T_890a242c_efc0_11eb_92ba_8d20dba5c1a9row3_col3\" class=\"data row3 col3\" >Partly cloudy, with a low around 56. Breezy, with a west southwest wind 14 to 24 mph, with gusts as high as 31 mph. </td>\n",
       "            </tr>\n",
       "            <tr>\n",
       "                                <td id=\"T_890a242c_efc0_11eb_92ba_8d20dba5c1a9row4_col0\" class=\"data row4 col0\" >Friday</td>\n",
       "                        <td id=\"T_890a242c_efc0_11eb_92ba_8d20dba5c1a9row4_col1\" class=\"data row4 col1\" >Mostly Sunnythen Sunnyand Breezy</td>\n",
       "                        <td id=\"T_890a242c_efc0_11eb_92ba_8d20dba5c1a9row4_col2\" class=\"data row4 col2\" >High: 69 °F</td>\n",
       "                        <td id=\"T_890a242c_efc0_11eb_92ba_8d20dba5c1a9row4_col3\" class=\"data row4 col3\" >Mostly sunny, with a high near 69. Breezy, with a west southwest wind 13 to 23 mph, with gusts as high as 30 mph. </td>\n",
       "            </tr>\n",
       "            <tr>\n",
       "                                <td id=\"T_890a242c_efc0_11eb_92ba_8d20dba5c1a9row5_col0\" class=\"data row5 col0\" >FridayNight</td>\n",
       "                        <td id=\"T_890a242c_efc0_11eb_92ba_8d20dba5c1a9row5_col1\" class=\"data row5 col1\" >Mostly Cloudy</td>\n",
       "                        <td id=\"T_890a242c_efc0_11eb_92ba_8d20dba5c1a9row5_col2\" class=\"data row5 col2\" >Low: 56 °F</td>\n",
       "                        <td id=\"T_890a242c_efc0_11eb_92ba_8d20dba5c1a9row5_col3\" class=\"data row5 col3\" >Mostly cloudy, with a low around 56.</td>\n",
       "            </tr>\n",
       "            <tr>\n",
       "                                <td id=\"T_890a242c_efc0_11eb_92ba_8d20dba5c1a9row6_col0\" class=\"data row6 col0\" >Saturday</td>\n",
       "                        <td id=\"T_890a242c_efc0_11eb_92ba_8d20dba5c1a9row6_col1\" class=\"data row6 col1\" >Partly Sunny</td>\n",
       "                        <td id=\"T_890a242c_efc0_11eb_92ba_8d20dba5c1a9row6_col2\" class=\"data row6 col2\" >High: 67 °F</td>\n",
       "                        <td id=\"T_890a242c_efc0_11eb_92ba_8d20dba5c1a9row6_col3\" class=\"data row6 col3\" >Partly sunny, with a high near 67.</td>\n",
       "            </tr>\n",
       "            <tr>\n",
       "                                <td id=\"T_890a242c_efc0_11eb_92ba_8d20dba5c1a9row7_col0\" class=\"data row7 col0\" >SaturdayNight</td>\n",
       "                        <td id=\"T_890a242c_efc0_11eb_92ba_8d20dba5c1a9row7_col1\" class=\"data row7 col1\" >Mostly Cloudy</td>\n",
       "                        <td id=\"T_890a242c_efc0_11eb_92ba_8d20dba5c1a9row7_col2\" class=\"data row7 col2\" >Low: 56 °F</td>\n",
       "                        <td id=\"T_890a242c_efc0_11eb_92ba_8d20dba5c1a9row7_col3\" class=\"data row7 col3\" >Mostly cloudy, with a low around 56.</td>\n",
       "            </tr>\n",
       "            <tr>\n",
       "                                <td id=\"T_890a242c_efc0_11eb_92ba_8d20dba5c1a9row8_col0\" class=\"data row8 col0\" >Sunday</td>\n",
       "                        <td id=\"T_890a242c_efc0_11eb_92ba_8d20dba5c1a9row8_col1\" class=\"data row8 col1\" >Mostly Sunny</td>\n",
       "                        <td id=\"T_890a242c_efc0_11eb_92ba_8d20dba5c1a9row8_col2\" class=\"data row8 col2\" >High: 68 °F</td>\n",
       "                        <td id=\"T_890a242c_efc0_11eb_92ba_8d20dba5c1a9row8_col3\" class=\"data row8 col3\" >Mostly sunny, with a high near 68.</td>\n",
       "            </tr>\n",
       "    </tbody></table>"
      ],
      "text/plain": [
       "<pandas.io.formats.style.Styler at 0x18e17486d00>"
      ]
     },
     "execution_count": 337,
     "metadata": {},
     "output_type": "execute_result"
    }
   ],
   "source": [
    "San_Francisco_Forcast=pd.DataFrame()\n",
    "\n",
    "San_Francisco_Forcast['Period']=day_list\n",
    "San_Francisco_Forcast['Short_Description']=short_des\n",
    "San_Francisco_Forcast['Temperature']=temp_list\n",
    "San_Francisco_Forcast['Description']=description_list[:9]\n",
    "\n",
    "San_Francisco_Forcast=San_Francisco_Forcast.style.hide_index()\n",
    "San_Francisco_Forcast"
   ]
  },
  {
   "cell_type": "markdown",
   "metadata": {},
   "source": [
    "## Q9. Write a python program to scrape fresher job listings from ‘https://internshala.com/’. It should include job title, company name, CTC, and apply date.\n"
   ]
  },
  {
   "cell_type": "code",
   "execution_count": 355,
   "metadata": {},
   "outputs": [
    {
     "data": {
      "text/plain": [
       "<Response [200]>"
      ]
     },
     "execution_count": 355,
     "metadata": {},
     "output_type": "execute_result"
    }
   ],
   "source": [
    "job_page=requests.get('https://internshala.com/fresher-jobs')\n",
    "job_page"
   ]
  },
  {
   "cell_type": "code",
   "execution_count": 356,
   "metadata": {},
   "outputs": [],
   "source": [
    "job_soup=BeautifulSoup(job_page.content)"
   ]
  },
  {
   "cell_type": "code",
   "execution_count": 358,
   "metadata": {},
   "outputs": [
    {
     "data": {
      "text/plain": [
       "['Sales Manager/Omni Sport Leader - Retail ',\n",
       " 'Human Resources (HR) Associate/Counselor ',\n",
       " 'Junior iOS App Developer ',\n",
       " 'Software Testing Engineer ',\n",
       " 'Embedded Systems Associate ',\n",
       " 'Full Stack Developer ',\n",
       " 'Nutrition & Dietetics Specialist ',\n",
       " 'Human Resources (HR) Executive ',\n",
       " 'Junior Software Developer ',\n",
       " 'Business Development Manager ',\n",
       " 'Patent Research Associate ',\n",
       " 'Data Analyst ',\n",
       " 'Software Tester ',\n",
       " 'Business Development Executive ',\n",
       " 'MERN Stack Developer ',\n",
       " 'Conversion Rate Optimization Analyst ',\n",
       " 'Client Service Executive ',\n",
       " 'Sales Development Representative ',\n",
       " 'Corporate Sales Associate ',\n",
       " 'International Business Development Executive ',\n",
       " 'Product Marketer ',\n",
       " 'Customer Support Associates ',\n",
       " 'Content & Customer Care Executive ',\n",
       " 'Django Developer ',\n",
       " 'Reactjs Developer ',\n",
       " 'Web Development Trainee ',\n",
       " 'Business Development Executive ',\n",
       " 'Cybersecurity Compliance Officer ',\n",
       " 'MERN Stack Developer ',\n",
       " 'Senior Copywriter ',\n",
       " 'Corporate Sales Associate ',\n",
       " 'Digital Marketing Associate ',\n",
       " 'Social Media Marketing Executive ',\n",
       " 'Business Development Executive ',\n",
       " 'Operations Manager ',\n",
       " 'Lead Counselor ',\n",
       " 'Angular.js Developer ',\n",
       " 'Digital Marketing Specialist ',\n",
       " 'Franchise Manager - Sales (Assistant Manager ) ',\n",
       " 'Graphic Designer ']"
      ]
     },
     "execution_count": 358,
     "metadata": {},
     "output_type": "execute_result"
    }
   ],
   "source": [
    "job_title=job_soup.find_all('div',class_=\"heading_4_5 profile\")\n",
    "job_list=[]\n",
    "\n",
    "for i in job_title:\n",
    "    job_list.append(i.text.replace('\\n',''))\n",
    "job_list"
   ]
  },
  {
   "cell_type": "code",
   "execution_count": 360,
   "metadata": {},
   "outputs": [
    {
     "data": {
      "text/plain": [
       "['Decathlon Sport India Private Limited',\n",
       " 'New Way Professionals Private Limited',\n",
       " 'Rang De',\n",
       " 'SafeSquid Labs',\n",
       " 'Signals & Systems India Private Limited',\n",
       " 'Wisestep',\n",
       " 'Nucros Science & Taste',\n",
       " 'Nikulsan Technologies Private Limited',\n",
       " 'Habitate Technologies Private Limited',\n",
       " 'School Of Excellence',\n",
       " 'Crimson Insights Technologies LLP',\n",
       " 'Anudeep Nekkanti',\n",
       " 'Startxlabs Technologies Private Limited',\n",
       " 'Padhhigh',\n",
       " 'Snippt',\n",
       " 'DataVinci Private Limited',\n",
       " 'Red Tree Design Studio Private Limited',\n",
       " 'HelloAR',\n",
       " 'Best Roadways Limited',\n",
       " 'Advids',\n",
       " 'Habitate Technologies Private Limited',\n",
       " 'Recruit CRM',\n",
       " 'Revo International LLP',\n",
       " 'Startxlabs Technologies Private Limited',\n",
       " 'Startxlabs Technologies Private Limited',\n",
       " 'Softsensor.ai',\n",
       " 'Verzeo',\n",
       " 'S3 Infosoft',\n",
       " 'Binary Numbers',\n",
       " 'Ranksoldier International Private Limited',\n",
       " 'MiM-Essay',\n",
       " 'BubbleNut Wash',\n",
       " 'Erikka India',\n",
       " 'Cosmic Micro Systems Private Limited',\n",
       " 'Kumi Labs',\n",
       " 'HOSS - House Of Soft Skills',\n",
       " 'Systaldyn Consultancy Private Limited',\n",
       " 'Sahadya Consultants',\n",
       " 'Regrob',\n",
       " 'Cynfas']"
      ]
     },
     "execution_count": 360,
     "metadata": {},
     "output_type": "execute_result"
    }
   ],
   "source": [
    "company=job_soup.find_all('div',class_=\"heading_6 company_name\")\n",
    "\n",
    "company_list=[]\n",
    "\n",
    "for i in company:\n",
    "    company_list.append(i.text.replace('\\n','').strip())\n",
    "company_list"
   ]
  },
  {
   "cell_type": "code",
   "execution_count": 366,
   "metadata": {},
   "outputs": [
    {
     "data": {
      "text/plain": [
       "['Starts\\xa0Immediately',\n",
       " '3.3 - 4.5 LPA',\n",
       " \"21 Aug' 21\",\n",
       " 'Starts\\xa0Immediately',\n",
       " '3 - 4 LPA',\n",
       " \"27 Aug' 21\",\n",
       " 'Starts\\xa0Immediately',\n",
       " '3 - 4.7 LPA',\n",
       " \"27 Aug' 21\",\n",
       " 'Starts\\xa0Immediately',\n",
       " '3 LPA',\n",
       " \"27 Aug' 21\",\n",
       " 'Starts\\xa0Immediately',\n",
       " '3 - 4 LPA',\n",
       " \"27 Aug' 21\",\n",
       " 'Starts\\xa0Immediately',\n",
       " '3.25 - 5 LPA',\n",
       " \"27 Aug' 21\",\n",
       " 'Starts\\xa0Immediately',\n",
       " '3 LPA',\n",
       " \"27 Aug' 21\",\n",
       " 'Starts\\xa0Immediately',\n",
       " '3 LPA',\n",
       " \"27 Aug' 21\",\n",
       " 'Starts\\xa0Immediately',\n",
       " '3.6 - 4.8 LPA',\n",
       " \"27 Aug' 21\",\n",
       " 'Starts\\xa0Immediately',\n",
       " '3 - 3.5 LPA',\n",
       " \"27 Aug' 21\",\n",
       " 'Starts\\xa0Immediately',\n",
       " '3 - 4 LPA',\n",
       " \"27 Aug' 21\",\n",
       " 'Starts\\xa0Immediately',\n",
       " '6 - 10 LPA',\n",
       " \"27 Aug' 21\",\n",
       " 'Starts\\xa0Immediately',\n",
       " '3 - 3.6 LPA',\n",
       " \"27 Aug' 21\",\n",
       " 'Starts\\xa0Immediately',\n",
       " '4 - 7 LPA',\n",
       " \"26 Aug' 21\",\n",
       " 'Starts\\xa0Immediately',\n",
       " '4 - 5 LPA',\n",
       " \"26 Aug' 21\",\n",
       " 'Starts\\xa0Immediately',\n",
       " '5 LPA',\n",
       " \"26 Aug' 21\",\n",
       " 'Starts\\xa0Immediately',\n",
       " '3 LPA',\n",
       " \"26 Aug' 21\",\n",
       " 'Starts\\xa0Immediately',\n",
       " '3 - 3.2 LPA',\n",
       " \"26 Aug' 21\",\n",
       " 'Starts\\xa0Immediately',\n",
       " '3 LPA',\n",
       " \"26 Aug' 21\",\n",
       " 'Starts\\xa0Immediately',\n",
       " '3 - 4 LPA',\n",
       " \"26 Aug' 21\",\n",
       " 'Starts\\xa0Immediately',\n",
       " '3.2 - 4.2 LPA',\n",
       " \"25 Aug' 21\",\n",
       " 'Starts\\xa0Immediately',\n",
       " '5 - 7 LPA',\n",
       " \"25 Aug' 21\",\n",
       " 'Starts\\xa0Immediately',\n",
       " '3 - 3.05 LPA',\n",
       " \"25 Aug' 21\",\n",
       " 'Starts\\xa0Immediately',\n",
       " '3.5 - 7.5 LPA',\n",
       " \"25 Aug' 21\",\n",
       " 'Starts\\xa0Immediately',\n",
       " '3.5 - 7.5 LPA',\n",
       " \"25 Aug' 21\",\n",
       " 'Starts\\xa0Immediately',\n",
       " '3 - 5 LPA',\n",
       " \"25 Aug' 21\",\n",
       " 'Starts\\xa0Immediately',\n",
       " '3 - 6 LPA',\n",
       " \"25 Aug' 21\",\n",
       " 'Starts\\xa0Immediately',\n",
       " '3 - 3.6 LPA',\n",
       " \"25 Aug' 21\",\n",
       " 'Starts\\xa0Immediately',\n",
       " '3 - 7 LPA',\n",
       " \"23 Aug' 21\",\n",
       " 'Starts\\xa0Immediately',\n",
       " '3 LPA',\n",
       " \"23 Aug' 21\",\n",
       " 'Starts\\xa0Immediately',\n",
       " '4.5 - 6 LPA',\n",
       " \"25 Aug' 21\",\n",
       " 'Starts\\xa0Immediately',\n",
       " '3.6 - 5.4 LPA',\n",
       " \"23 Aug' 21\",\n",
       " 'Starts\\xa0Immediately',\n",
       " '3 - 5 LPA',\n",
       " \"23 Aug' 21\",\n",
       " 'Starts\\xa0Immediately',\n",
       " '3 - 4.8 LPA',\n",
       " \"22 Aug' 21\",\n",
       " 'Starts\\xa0Immediately',\n",
       " '3 - 8 LPA',\n",
       " \"25 Aug' 21\",\n",
       " 'Starts\\xa0Immediately',\n",
       " '3.8 - 4.5 LPA',\n",
       " \"22 Aug' 21\",\n",
       " 'Starts\\xa0Immediately',\n",
       " '3 - 5 LPA',\n",
       " \"22 Aug' 21\",\n",
       " 'Starts\\xa0Immediately',\n",
       " '3 - 3.5 LPA',\n",
       " \"22 Aug' 21\",\n",
       " 'Starts\\xa0Immediately',\n",
       " '3 - 3.1 LPA',\n",
       " \"22 Aug' 21\",\n",
       " 'Starts\\xa0Immediately',\n",
       " '3 LPA',\n",
       " \"22 Aug' 21\"]"
      ]
     },
     "execution_count": 366,
     "metadata": {},
     "output_type": "execute_result"
    }
   ],
   "source": [
    "job_details=job_soup.find_all('div',class_=\"item_body\")\n",
    "job_details_list=[]\n",
    "\n",
    "for i in job_details:\n",
    "    job_details_list.append(i.text.replace('\\n','').strip())\n",
    "job_details_list"
   ]
  },
  {
   "cell_type": "code",
   "execution_count": 370,
   "metadata": {
    "scrolled": true
   },
   "outputs": [
    {
     "data": {
      "text/plain": [
       "['3.3 - 4.5 LPA',\n",
       " '3 - 4 LPA',\n",
       " '3 - 4.7 LPA',\n",
       " '3 LPA',\n",
       " '3 - 4 LPA',\n",
       " '3.25 - 5 LPA',\n",
       " '3 LPA',\n",
       " '3 LPA',\n",
       " '3.6 - 4.8 LPA',\n",
       " '3 - 3.5 LPA',\n",
       " '3 - 4 LPA',\n",
       " '6 - 10 LPA',\n",
       " '3 - 3.6 LPA',\n",
       " '4 - 7 LPA',\n",
       " '4 - 5 LPA',\n",
       " '5 LPA',\n",
       " '3 LPA',\n",
       " '3 - 3.2 LPA',\n",
       " '3 LPA',\n",
       " '3 - 4 LPA',\n",
       " '3.2 - 4.2 LPA',\n",
       " '5 - 7 LPA',\n",
       " '3 - 3.05 LPA',\n",
       " '3.5 - 7.5 LPA',\n",
       " '3.5 - 7.5 LPA',\n",
       " '3 - 5 LPA',\n",
       " '3 - 6 LPA',\n",
       " '3 - 3.6 LPA',\n",
       " '3 - 7 LPA',\n",
       " '3 LPA',\n",
       " '4.5 - 6 LPA',\n",
       " '3.6 - 5.4 LPA',\n",
       " '3 - 5 LPA',\n",
       " '3 - 4.8 LPA',\n",
       " '3 - 8 LPA',\n",
       " '3.8 - 4.5 LPA',\n",
       " '3 - 5 LPA',\n",
       " '3 - 3.5 LPA',\n",
       " '3 - 3.1 LPA',\n",
       " '3 LPA']"
      ]
     },
     "execution_count": 370,
     "metadata": {},
     "output_type": "execute_result"
    }
   ],
   "source": [
    "ctc_list=[]\n",
    "\n",
    "for i in range(1,len(job_details_list),3):\n",
    "    ctc_list.append(job_details_list[i])\n",
    "ctc_list"
   ]
  },
  {
   "cell_type": "code",
   "execution_count": 371,
   "metadata": {},
   "outputs": [
    {
     "data": {
      "text/plain": [
       "[\"21 Aug' 21\",\n",
       " \"27 Aug' 21\",\n",
       " \"27 Aug' 21\",\n",
       " \"27 Aug' 21\",\n",
       " \"27 Aug' 21\",\n",
       " \"27 Aug' 21\",\n",
       " \"27 Aug' 21\",\n",
       " \"27 Aug' 21\",\n",
       " \"27 Aug' 21\",\n",
       " \"27 Aug' 21\",\n",
       " \"27 Aug' 21\",\n",
       " \"27 Aug' 21\",\n",
       " \"27 Aug' 21\",\n",
       " \"26 Aug' 21\",\n",
       " \"26 Aug' 21\",\n",
       " \"26 Aug' 21\",\n",
       " \"26 Aug' 21\",\n",
       " \"26 Aug' 21\",\n",
       " \"26 Aug' 21\",\n",
       " \"26 Aug' 21\",\n",
       " \"25 Aug' 21\",\n",
       " \"25 Aug' 21\",\n",
       " \"25 Aug' 21\",\n",
       " \"25 Aug' 21\",\n",
       " \"25 Aug' 21\",\n",
       " \"25 Aug' 21\",\n",
       " \"25 Aug' 21\",\n",
       " \"25 Aug' 21\",\n",
       " \"23 Aug' 21\",\n",
       " \"23 Aug' 21\",\n",
       " \"25 Aug' 21\",\n",
       " \"23 Aug' 21\",\n",
       " \"23 Aug' 21\",\n",
       " \"22 Aug' 21\",\n",
       " \"25 Aug' 21\",\n",
       " \"22 Aug' 21\",\n",
       " \"22 Aug' 21\",\n",
       " \"22 Aug' 21\",\n",
       " \"22 Aug' 21\",\n",
       " \"22 Aug' 21\"]"
      ]
     },
     "execution_count": 371,
     "metadata": {},
     "output_type": "execute_result"
    }
   ],
   "source": [
    "date_list=[]\n",
    "\n",
    "for i in range(2,len(job_details_list),3):\n",
    "    date_list.append(job_details_list[i])\n",
    "date_list"
   ]
  },
  {
   "cell_type": "code",
   "execution_count": 372,
   "metadata": {},
   "outputs": [
    {
     "data": {
      "text/html": [
       "<div>\n",
       "<style scoped>\n",
       "    .dataframe tbody tr th:only-of-type {\n",
       "        vertical-align: middle;\n",
       "    }\n",
       "\n",
       "    .dataframe tbody tr th {\n",
       "        vertical-align: top;\n",
       "    }\n",
       "\n",
       "    .dataframe thead th {\n",
       "        text-align: right;\n",
       "    }\n",
       "</style>\n",
       "<table border=\"1\" class=\"dataframe\">\n",
       "  <thead>\n",
       "    <tr style=\"text-align: right;\">\n",
       "      <th></th>\n",
       "      <th>Job Title</th>\n",
       "      <th>Company Name</th>\n",
       "      <th>CTC</th>\n",
       "      <th>Apply Date</th>\n",
       "    </tr>\n",
       "  </thead>\n",
       "  <tbody>\n",
       "    <tr>\n",
       "      <th>0</th>\n",
       "      <td>Sales Manager/Omni Sport Leader - Retail</td>\n",
       "      <td>Decathlon Sport India Private Limited</td>\n",
       "      <td>3.3 - 4.5 LPA</td>\n",
       "      <td>21 Aug' 21</td>\n",
       "    </tr>\n",
       "    <tr>\n",
       "      <th>1</th>\n",
       "      <td>Human Resources (HR) Associate/Counselor</td>\n",
       "      <td>New Way Professionals Private Limited</td>\n",
       "      <td>3 - 4 LPA</td>\n",
       "      <td>27 Aug' 21</td>\n",
       "    </tr>\n",
       "    <tr>\n",
       "      <th>2</th>\n",
       "      <td>Junior iOS App Developer</td>\n",
       "      <td>Rang De</td>\n",
       "      <td>3 - 4.7 LPA</td>\n",
       "      <td>27 Aug' 21</td>\n",
       "    </tr>\n",
       "    <tr>\n",
       "      <th>3</th>\n",
       "      <td>Software Testing Engineer</td>\n",
       "      <td>SafeSquid Labs</td>\n",
       "      <td>3 LPA</td>\n",
       "      <td>27 Aug' 21</td>\n",
       "    </tr>\n",
       "    <tr>\n",
       "      <th>4</th>\n",
       "      <td>Embedded Systems Associate</td>\n",
       "      <td>Signals &amp; Systems India Private Limited</td>\n",
       "      <td>3 - 4 LPA</td>\n",
       "      <td>27 Aug' 21</td>\n",
       "    </tr>\n",
       "    <tr>\n",
       "      <th>5</th>\n",
       "      <td>Full Stack Developer</td>\n",
       "      <td>Wisestep</td>\n",
       "      <td>3.25 - 5 LPA</td>\n",
       "      <td>27 Aug' 21</td>\n",
       "    </tr>\n",
       "    <tr>\n",
       "      <th>6</th>\n",
       "      <td>Nutrition &amp; Dietetics Specialist</td>\n",
       "      <td>Nucros Science &amp; Taste</td>\n",
       "      <td>3 LPA</td>\n",
       "      <td>27 Aug' 21</td>\n",
       "    </tr>\n",
       "    <tr>\n",
       "      <th>7</th>\n",
       "      <td>Human Resources (HR) Executive</td>\n",
       "      <td>Nikulsan Technologies Private Limited</td>\n",
       "      <td>3 LPA</td>\n",
       "      <td>27 Aug' 21</td>\n",
       "    </tr>\n",
       "    <tr>\n",
       "      <th>8</th>\n",
       "      <td>Junior Software Developer</td>\n",
       "      <td>Habitate Technologies Private Limited</td>\n",
       "      <td>3.6 - 4.8 LPA</td>\n",
       "      <td>27 Aug' 21</td>\n",
       "    </tr>\n",
       "    <tr>\n",
       "      <th>9</th>\n",
       "      <td>Business Development Manager</td>\n",
       "      <td>School Of Excellence</td>\n",
       "      <td>3 - 3.5 LPA</td>\n",
       "      <td>27 Aug' 21</td>\n",
       "    </tr>\n",
       "    <tr>\n",
       "      <th>10</th>\n",
       "      <td>Patent Research Associate</td>\n",
       "      <td>Crimson Insights Technologies LLP</td>\n",
       "      <td>3 - 4 LPA</td>\n",
       "      <td>27 Aug' 21</td>\n",
       "    </tr>\n",
       "    <tr>\n",
       "      <th>11</th>\n",
       "      <td>Data Analyst</td>\n",
       "      <td>Anudeep Nekkanti</td>\n",
       "      <td>6 - 10 LPA</td>\n",
       "      <td>27 Aug' 21</td>\n",
       "    </tr>\n",
       "    <tr>\n",
       "      <th>12</th>\n",
       "      <td>Software Tester</td>\n",
       "      <td>Startxlabs Technologies Private Limited</td>\n",
       "      <td>3 - 3.6 LPA</td>\n",
       "      <td>27 Aug' 21</td>\n",
       "    </tr>\n",
       "    <tr>\n",
       "      <th>13</th>\n",
       "      <td>Business Development Executive</td>\n",
       "      <td>Padhhigh</td>\n",
       "      <td>4 - 7 LPA</td>\n",
       "      <td>26 Aug' 21</td>\n",
       "    </tr>\n",
       "    <tr>\n",
       "      <th>14</th>\n",
       "      <td>MERN Stack Developer</td>\n",
       "      <td>Snippt</td>\n",
       "      <td>4 - 5 LPA</td>\n",
       "      <td>26 Aug' 21</td>\n",
       "    </tr>\n",
       "    <tr>\n",
       "      <th>15</th>\n",
       "      <td>Conversion Rate Optimization Analyst</td>\n",
       "      <td>DataVinci Private Limited</td>\n",
       "      <td>5 LPA</td>\n",
       "      <td>26 Aug' 21</td>\n",
       "    </tr>\n",
       "    <tr>\n",
       "      <th>16</th>\n",
       "      <td>Client Service Executive</td>\n",
       "      <td>Red Tree Design Studio Private Limited</td>\n",
       "      <td>3 LPA</td>\n",
       "      <td>26 Aug' 21</td>\n",
       "    </tr>\n",
       "    <tr>\n",
       "      <th>17</th>\n",
       "      <td>Sales Development Representative</td>\n",
       "      <td>HelloAR</td>\n",
       "      <td>3 - 3.2 LPA</td>\n",
       "      <td>26 Aug' 21</td>\n",
       "    </tr>\n",
       "    <tr>\n",
       "      <th>18</th>\n",
       "      <td>Corporate Sales Associate</td>\n",
       "      <td>Best Roadways Limited</td>\n",
       "      <td>3 LPA</td>\n",
       "      <td>26 Aug' 21</td>\n",
       "    </tr>\n",
       "    <tr>\n",
       "      <th>19</th>\n",
       "      <td>International Business Development Executive</td>\n",
       "      <td>Advids</td>\n",
       "      <td>3 - 4 LPA</td>\n",
       "      <td>26 Aug' 21</td>\n",
       "    </tr>\n",
       "    <tr>\n",
       "      <th>20</th>\n",
       "      <td>Product Marketer</td>\n",
       "      <td>Habitate Technologies Private Limited</td>\n",
       "      <td>3.2 - 4.2 LPA</td>\n",
       "      <td>25 Aug' 21</td>\n",
       "    </tr>\n",
       "    <tr>\n",
       "      <th>21</th>\n",
       "      <td>Customer Support Associates</td>\n",
       "      <td>Recruit CRM</td>\n",
       "      <td>5 - 7 LPA</td>\n",
       "      <td>25 Aug' 21</td>\n",
       "    </tr>\n",
       "    <tr>\n",
       "      <th>22</th>\n",
       "      <td>Content &amp; Customer Care Executive</td>\n",
       "      <td>Revo International LLP</td>\n",
       "      <td>3 - 3.05 LPA</td>\n",
       "      <td>25 Aug' 21</td>\n",
       "    </tr>\n",
       "    <tr>\n",
       "      <th>23</th>\n",
       "      <td>Django Developer</td>\n",
       "      <td>Startxlabs Technologies Private Limited</td>\n",
       "      <td>3.5 - 7.5 LPA</td>\n",
       "      <td>25 Aug' 21</td>\n",
       "    </tr>\n",
       "    <tr>\n",
       "      <th>24</th>\n",
       "      <td>Reactjs Developer</td>\n",
       "      <td>Startxlabs Technologies Private Limited</td>\n",
       "      <td>3.5 - 7.5 LPA</td>\n",
       "      <td>25 Aug' 21</td>\n",
       "    </tr>\n",
       "    <tr>\n",
       "      <th>25</th>\n",
       "      <td>Web Development Trainee</td>\n",
       "      <td>Softsensor.ai</td>\n",
       "      <td>3 - 5 LPA</td>\n",
       "      <td>25 Aug' 21</td>\n",
       "    </tr>\n",
       "    <tr>\n",
       "      <th>26</th>\n",
       "      <td>Business Development Executive</td>\n",
       "      <td>Verzeo</td>\n",
       "      <td>3 - 6 LPA</td>\n",
       "      <td>25 Aug' 21</td>\n",
       "    </tr>\n",
       "    <tr>\n",
       "      <th>27</th>\n",
       "      <td>Cybersecurity Compliance Officer</td>\n",
       "      <td>S3 Infosoft</td>\n",
       "      <td>3 - 3.6 LPA</td>\n",
       "      <td>25 Aug' 21</td>\n",
       "    </tr>\n",
       "    <tr>\n",
       "      <th>28</th>\n",
       "      <td>MERN Stack Developer</td>\n",
       "      <td>Binary Numbers</td>\n",
       "      <td>3 - 7 LPA</td>\n",
       "      <td>23 Aug' 21</td>\n",
       "    </tr>\n",
       "    <tr>\n",
       "      <th>29</th>\n",
       "      <td>Senior Copywriter</td>\n",
       "      <td>Ranksoldier International Private Limited</td>\n",
       "      <td>3 LPA</td>\n",
       "      <td>23 Aug' 21</td>\n",
       "    </tr>\n",
       "    <tr>\n",
       "      <th>30</th>\n",
       "      <td>Corporate Sales Associate</td>\n",
       "      <td>MiM-Essay</td>\n",
       "      <td>4.5 - 6 LPA</td>\n",
       "      <td>25 Aug' 21</td>\n",
       "    </tr>\n",
       "    <tr>\n",
       "      <th>31</th>\n",
       "      <td>Digital Marketing Associate</td>\n",
       "      <td>BubbleNut Wash</td>\n",
       "      <td>3.6 - 5.4 LPA</td>\n",
       "      <td>23 Aug' 21</td>\n",
       "    </tr>\n",
       "    <tr>\n",
       "      <th>32</th>\n",
       "      <td>Social Media Marketing Executive</td>\n",
       "      <td>Erikka India</td>\n",
       "      <td>3 - 5 LPA</td>\n",
       "      <td>23 Aug' 21</td>\n",
       "    </tr>\n",
       "    <tr>\n",
       "      <th>33</th>\n",
       "      <td>Business Development Executive</td>\n",
       "      <td>Cosmic Micro Systems Private Limited</td>\n",
       "      <td>3 - 4.8 LPA</td>\n",
       "      <td>22 Aug' 21</td>\n",
       "    </tr>\n",
       "    <tr>\n",
       "      <th>34</th>\n",
       "      <td>Operations Manager</td>\n",
       "      <td>Kumi Labs</td>\n",
       "      <td>3 - 8 LPA</td>\n",
       "      <td>25 Aug' 21</td>\n",
       "    </tr>\n",
       "    <tr>\n",
       "      <th>35</th>\n",
       "      <td>Lead Counselor</td>\n",
       "      <td>HOSS - House Of Soft Skills</td>\n",
       "      <td>3.8 - 4.5 LPA</td>\n",
       "      <td>22 Aug' 21</td>\n",
       "    </tr>\n",
       "    <tr>\n",
       "      <th>36</th>\n",
       "      <td>Angular.js Developer</td>\n",
       "      <td>Systaldyn Consultancy Private Limited</td>\n",
       "      <td>3 - 5 LPA</td>\n",
       "      <td>22 Aug' 21</td>\n",
       "    </tr>\n",
       "    <tr>\n",
       "      <th>37</th>\n",
       "      <td>Digital Marketing Specialist</td>\n",
       "      <td>Sahadya Consultants</td>\n",
       "      <td>3 - 3.5 LPA</td>\n",
       "      <td>22 Aug' 21</td>\n",
       "    </tr>\n",
       "    <tr>\n",
       "      <th>38</th>\n",
       "      <td>Franchise Manager - Sales (Assistant Manager )</td>\n",
       "      <td>Regrob</td>\n",
       "      <td>3 - 3.1 LPA</td>\n",
       "      <td>22 Aug' 21</td>\n",
       "    </tr>\n",
       "    <tr>\n",
       "      <th>39</th>\n",
       "      <td>Graphic Designer</td>\n",
       "      <td>Cynfas</td>\n",
       "      <td>3 LPA</td>\n",
       "      <td>22 Aug' 21</td>\n",
       "    </tr>\n",
       "  </tbody>\n",
       "</table>\n",
       "</div>"
      ],
      "text/plain": [
       "                                          Job Title  \\\n",
       "0         Sales Manager/Omni Sport Leader - Retail    \n",
       "1         Human Resources (HR) Associate/Counselor    \n",
       "2                         Junior iOS App Developer    \n",
       "3                        Software Testing Engineer    \n",
       "4                       Embedded Systems Associate    \n",
       "5                             Full Stack Developer    \n",
       "6                 Nutrition & Dietetics Specialist    \n",
       "7                   Human Resources (HR) Executive    \n",
       "8                        Junior Software Developer    \n",
       "9                     Business Development Manager    \n",
       "10                       Patent Research Associate    \n",
       "11                                    Data Analyst    \n",
       "12                                 Software Tester    \n",
       "13                  Business Development Executive    \n",
       "14                            MERN Stack Developer    \n",
       "15            Conversion Rate Optimization Analyst    \n",
       "16                        Client Service Executive    \n",
       "17                Sales Development Representative    \n",
       "18                       Corporate Sales Associate    \n",
       "19    International Business Development Executive    \n",
       "20                                Product Marketer    \n",
       "21                     Customer Support Associates    \n",
       "22               Content & Customer Care Executive    \n",
       "23                                Django Developer    \n",
       "24                               Reactjs Developer    \n",
       "25                         Web Development Trainee    \n",
       "26                  Business Development Executive    \n",
       "27                Cybersecurity Compliance Officer    \n",
       "28                            MERN Stack Developer    \n",
       "29                               Senior Copywriter    \n",
       "30                       Corporate Sales Associate    \n",
       "31                     Digital Marketing Associate    \n",
       "32                Social Media Marketing Executive    \n",
       "33                  Business Development Executive    \n",
       "34                              Operations Manager    \n",
       "35                                  Lead Counselor    \n",
       "36                            Angular.js Developer    \n",
       "37                    Digital Marketing Specialist    \n",
       "38  Franchise Manager - Sales (Assistant Manager )    \n",
       "39                                Graphic Designer    \n",
       "\n",
       "                                 Company Name            CTC  Apply Date  \n",
       "0       Decathlon Sport India Private Limited  3.3 - 4.5 LPA  21 Aug' 21  \n",
       "1       New Way Professionals Private Limited      3 - 4 LPA  27 Aug' 21  \n",
       "2                                     Rang De    3 - 4.7 LPA  27 Aug' 21  \n",
       "3                              SafeSquid Labs          3 LPA  27 Aug' 21  \n",
       "4     Signals & Systems India Private Limited      3 - 4 LPA  27 Aug' 21  \n",
       "5                                    Wisestep   3.25 - 5 LPA  27 Aug' 21  \n",
       "6                      Nucros Science & Taste          3 LPA  27 Aug' 21  \n",
       "7       Nikulsan Technologies Private Limited          3 LPA  27 Aug' 21  \n",
       "8       Habitate Technologies Private Limited  3.6 - 4.8 LPA  27 Aug' 21  \n",
       "9                        School Of Excellence    3 - 3.5 LPA  27 Aug' 21  \n",
       "10          Crimson Insights Technologies LLP      3 - 4 LPA  27 Aug' 21  \n",
       "11                           Anudeep Nekkanti     6 - 10 LPA  27 Aug' 21  \n",
       "12    Startxlabs Technologies Private Limited    3 - 3.6 LPA  27 Aug' 21  \n",
       "13                                   Padhhigh      4 - 7 LPA  26 Aug' 21  \n",
       "14                                     Snippt      4 - 5 LPA  26 Aug' 21  \n",
       "15                  DataVinci Private Limited          5 LPA  26 Aug' 21  \n",
       "16     Red Tree Design Studio Private Limited          3 LPA  26 Aug' 21  \n",
       "17                                    HelloAR    3 - 3.2 LPA  26 Aug' 21  \n",
       "18                      Best Roadways Limited          3 LPA  26 Aug' 21  \n",
       "19                                     Advids      3 - 4 LPA  26 Aug' 21  \n",
       "20      Habitate Technologies Private Limited  3.2 - 4.2 LPA  25 Aug' 21  \n",
       "21                                Recruit CRM      5 - 7 LPA  25 Aug' 21  \n",
       "22                     Revo International LLP   3 - 3.05 LPA  25 Aug' 21  \n",
       "23    Startxlabs Technologies Private Limited  3.5 - 7.5 LPA  25 Aug' 21  \n",
       "24    Startxlabs Technologies Private Limited  3.5 - 7.5 LPA  25 Aug' 21  \n",
       "25                              Softsensor.ai      3 - 5 LPA  25 Aug' 21  \n",
       "26                                     Verzeo      3 - 6 LPA  25 Aug' 21  \n",
       "27                                S3 Infosoft    3 - 3.6 LPA  25 Aug' 21  \n",
       "28                             Binary Numbers      3 - 7 LPA  23 Aug' 21  \n",
       "29  Ranksoldier International Private Limited          3 LPA  23 Aug' 21  \n",
       "30                                  MiM-Essay    4.5 - 6 LPA  25 Aug' 21  \n",
       "31                             BubbleNut Wash  3.6 - 5.4 LPA  23 Aug' 21  \n",
       "32                               Erikka India      3 - 5 LPA  23 Aug' 21  \n",
       "33       Cosmic Micro Systems Private Limited    3 - 4.8 LPA  22 Aug' 21  \n",
       "34                                  Kumi Labs      3 - 8 LPA  25 Aug' 21  \n",
       "35                HOSS - House Of Soft Skills  3.8 - 4.5 LPA  22 Aug' 21  \n",
       "36      Systaldyn Consultancy Private Limited      3 - 5 LPA  22 Aug' 21  \n",
       "37                        Sahadya Consultants    3 - 3.5 LPA  22 Aug' 21  \n",
       "38                                     Regrob    3 - 3.1 LPA  22 Aug' 21  \n",
       "39                                     Cynfas          3 LPA  22 Aug' 21  "
      ]
     },
     "execution_count": 372,
     "metadata": {},
     "output_type": "execute_result"
    }
   ],
   "source": [
    "Fresher_Jobs=pd.DataFrame()\n",
    "\n",
    "Fresher_Jobs['Job Title']=job_list\n",
    "Fresher_Jobs['Company Name']=company_list\n",
    "Fresher_Jobs['CTC']=ctc_list\n",
    "Fresher_Jobs['Apply Date']=date_list\n",
    "\n",
    "Fresher_Jobs"
   ]
  },
  {
   "cell_type": "markdown",
   "metadata": {},
   "source": [
    "## Q10. Write a python program to scrape house details from https://www.nobroker.in/ for any location. It should include house title, location, area, emi and price**"
   ]
  },
  {
   "cell_type": "code",
   "execution_count": 340,
   "metadata": {},
   "outputs": [
    {
     "data": {
      "text/plain": [
       "<Response [200]>"
      ]
     },
     "execution_count": 340,
     "metadata": {},
     "output_type": "execute_result"
    }
   ],
   "source": [
    "house_page=requests.get('https://www.nobroker.in/property/sale/mumbai/Badlapur?searchParam=W3sibGF0IjoxOS4xNjY3ODU0LCJsb24iOjczLjIzNjc4OTYsInBsYWNlSWQiOiJDaElKdlJ2SG0xenQ1enNSODFBWVlyQTUxWWMiLCJwbGFjZU5hbWUiOiJCYWRsYXB1ciJ9XQ==&radius=2.0')\n",
    "house_page"
   ]
  },
  {
   "cell_type": "code",
   "execution_count": 341,
   "metadata": {},
   "outputs": [],
   "source": [
    "house_soup=BeautifulSoup(house_page.content)"
   ]
  },
  {
   "cell_type": "code",
   "execution_count": 344,
   "metadata": {},
   "outputs": [
    {
     "data": {
      "text/plain": [
       "['1 BHK Flat  For Sale  In Mayur Jagannath Galaxy In Badlapur ',\n",
       " '2 BHK Flat  For Sale  In Kendale Emeralds In Mumbai ',\n",
       " '1 BHK Apartment  For Sale  In Aditya Royale In Dattanagar ',\n",
       " '1 BHK Flat  For Sale  In Sai Vrindavan Anantam In Badlapur ',\n",
       " '1 BHK Flat  For Sale  In Vishwajeet In Badlapur West ',\n",
       " '1 BHK Flat  For Sale  In Umiya In Badlapur ',\n",
       " '1 BHK Flat  For Sale  In Precius Heritage  In Badlapur ',\n",
       " '1 BHK Flat  For Sale  In Siddhi City In Badlapur ',\n",
       " '2 BHK Flat  For Sale  In Umi Residency In Badlapur West ',\n",
       " '1 BHK Flat  For Sale  In Govindgraj Aparment In Badlapur West ']"
      ]
     },
     "execution_count": 344,
     "metadata": {},
     "output_type": "execute_result"
    }
   ],
   "source": [
    "house_list=[]\n",
    "title=house_soup.find_all('h2',class_=\"heading-6 font-semi-bold nb__1AShY\")\n",
    "for i in title:\n",
    "    house_list.append(i.text)\n",
    "house_list"
   ]
  },
  {
   "cell_type": "code",
   "execution_count": 345,
   "metadata": {},
   "outputs": [
    {
     "data": {
      "text/plain": [
       "['near badlapur karjat highway',\n",
       " 'Front of Badlapur D-Mart',\n",
       " 'Aditya Royale\\xa0 Kalyan - Badlapur Rd, Dattanagar, Badlapur, Maharashtra 421505, India',\n",
       " 'Belavali near pawar complex',\n",
       " 'badlapur',\n",
       " 'Badlapur west, Manjarli, Near Gauri hall',\n",
       " 'joveli',\n",
       " 'iddhicity Badlapur & Thane (East, Kharvai, Badlapur',\n",
       " 'Manjarli',\n",
       " 'Badlapur']"
      ]
     },
     "execution_count": 345,
     "metadata": {},
     "output_type": "execute_result"
    }
   ],
   "source": [
    "location_list=[]\n",
    "location=house_soup.find_all('div',class_=\"nb__2CMjv\")\n",
    "\n",
    "for i in location:\n",
    "    location_list.append(i.text)\n",
    "location_list"
   ]
  },
  {
   "cell_type": "code",
   "execution_count": 346,
   "metadata": {},
   "outputs": [
    {
     "data": {
      "text/plain": [
       "['590 sqft',\n",
       " '1,193 sqft',\n",
       " '610 sqft',\n",
       " '610 sqft',\n",
       " '669 sqft',\n",
       " '655 sqft',\n",
       " '610 sqft',\n",
       " '620 sqft',\n",
       " '870 sqft',\n",
       " '500 sqft']"
      ]
     },
     "execution_count": 346,
     "metadata": {},
     "output_type": "execute_result"
    }
   ],
   "source": [
    "area_list=[]\n",
    "\n",
    "area=house_soup.find_all('div',class_=\"nb__3oNyC\")\n",
    "for i in area:\n",
    "    area_list.append(i.text)\n",
    "area_list"
   ]
  },
  {
   "cell_type": "code",
   "execution_count": 348,
   "metadata": {},
   "outputs": [
    {
     "data": {
      "text/plain": [
       "['590 sqft',\n",
       " '₹11,749/Month',\n",
       " '₹20.5 Lacs',\n",
       " '1,193 sqft',\n",
       " '₹28,370/Month',\n",
       " '₹49.5 Lacs',\n",
       " '610 sqft',\n",
       " '₹14,901/Month',\n",
       " '₹26 Lacs',\n",
       " '610 sqft',\n",
       " '₹14,901/Month',\n",
       " '₹26 Lacs',\n",
       " '669 sqft',\n",
       " '₹16,334/Month',\n",
       " '₹28.5 Lacs',\n",
       " '655 sqft',\n",
       " '₹16,048/Month',\n",
       " '₹28 Lacs',\n",
       " '610 sqft',\n",
       " '₹12,609/Month',\n",
       " '₹22 Lacs',\n",
       " '620 sqft',\n",
       " '₹13,468/Month',\n",
       " '₹23.5 Lacs',\n",
       " '870 sqft',\n",
       " '₹20,060/Month',\n",
       " '₹35 Lacs',\n",
       " '500 sqft',\n",
       " '₹12,609/Month',\n",
       " '₹22 Lacs']"
      ]
     },
     "execution_count": 348,
     "metadata": {},
     "output_type": "execute_result"
    }
   ],
   "source": [
    "details_list=[]\n",
    "\n",
    "details=house_soup.find_all('div',class_=\"font-semi-bold heading-6\")\n",
    "for i in details:\n",
    "    details_list.append(i.text)\n",
    "details_list"
   ]
  },
  {
   "cell_type": "code",
   "execution_count": 349,
   "metadata": {},
   "outputs": [
    {
     "data": {
      "text/plain": [
       "['₹20.5 Lacs',\n",
       " '₹49.5 Lacs',\n",
       " '₹26 Lacs',\n",
       " '₹26 Lacs',\n",
       " '₹28.5 Lacs',\n",
       " '₹28 Lacs',\n",
       " '₹22 Lacs',\n",
       " '₹23.5 Lacs',\n",
       " '₹35 Lacs',\n",
       " '₹22 Lacs']"
      ]
     },
     "execution_count": 349,
     "metadata": {},
     "output_type": "execute_result"
    }
   ],
   "source": [
    "price_list=[]\n",
    "for i in range(2,len(details_list),3):\n",
    "    price_list.append(details_list[i])\n",
    "price_list"
   ]
  },
  {
   "cell_type": "code",
   "execution_count": 350,
   "metadata": {},
   "outputs": [
    {
     "data": {
      "text/plain": [
       "['₹11,749/Month',\n",
       " '₹28,370/Month',\n",
       " '₹14,901/Month',\n",
       " '₹14,901/Month',\n",
       " '₹16,334/Month',\n",
       " '₹16,048/Month',\n",
       " '₹12,609/Month',\n",
       " '₹13,468/Month',\n",
       " '₹20,060/Month',\n",
       " '₹12,609/Month']"
      ]
     },
     "execution_count": 350,
     "metadata": {},
     "output_type": "execute_result"
    }
   ],
   "source": [
    "rent_list=[]\n",
    "for i in range(1,len(details_list),3):\n",
    "    rent_list.append(details_list[i])\n",
    "rent_list"
   ]
  },
  {
   "cell_type": "code",
   "execution_count": 354,
   "metadata": {},
   "outputs": [
    {
     "data": {
      "text/html": [
       "<div>\n",
       "<style scoped>\n",
       "    .dataframe tbody tr th:only-of-type {\n",
       "        vertical-align: middle;\n",
       "    }\n",
       "\n",
       "    .dataframe tbody tr th {\n",
       "        vertical-align: top;\n",
       "    }\n",
       "\n",
       "    .dataframe thead th {\n",
       "        text-align: right;\n",
       "    }\n",
       "</style>\n",
       "<table border=\"1\" class=\"dataframe\">\n",
       "  <thead>\n",
       "    <tr style=\"text-align: right;\">\n",
       "      <th></th>\n",
       "      <th>Title</th>\n",
       "      <th>Location</th>\n",
       "      <th>Area</th>\n",
       "      <th>Rent</th>\n",
       "      <th>Price</th>\n",
       "    </tr>\n",
       "  </thead>\n",
       "  <tbody>\n",
       "    <tr>\n",
       "      <th>0</th>\n",
       "      <td>1 BHK Flat  For Sale  In Mayur Jagannath Galax...</td>\n",
       "      <td>near badlapur karjat highway</td>\n",
       "      <td>590 sqft</td>\n",
       "      <td>₹11,749/Month</td>\n",
       "      <td>₹20.5 Lacs</td>\n",
       "    </tr>\n",
       "    <tr>\n",
       "      <th>1</th>\n",
       "      <td>2 BHK Flat  For Sale  In Kendale Emeralds In M...</td>\n",
       "      <td>Front of Badlapur D-Mart</td>\n",
       "      <td>1,193 sqft</td>\n",
       "      <td>₹28,370/Month</td>\n",
       "      <td>₹49.5 Lacs</td>\n",
       "    </tr>\n",
       "    <tr>\n",
       "      <th>2</th>\n",
       "      <td>1 BHK Apartment  For Sale  In Aditya Royale In...</td>\n",
       "      <td>Aditya Royale  Kalyan - Badlapur Rd, Dattanaga...</td>\n",
       "      <td>610 sqft</td>\n",
       "      <td>₹14,901/Month</td>\n",
       "      <td>₹26 Lacs</td>\n",
       "    </tr>\n",
       "    <tr>\n",
       "      <th>3</th>\n",
       "      <td>1 BHK Flat  For Sale  In Sai Vrindavan Anantam...</td>\n",
       "      <td>Belavali near pawar complex</td>\n",
       "      <td>610 sqft</td>\n",
       "      <td>₹14,901/Month</td>\n",
       "      <td>₹26 Lacs</td>\n",
       "    </tr>\n",
       "    <tr>\n",
       "      <th>4</th>\n",
       "      <td>1 BHK Flat  For Sale  In Vishwajeet In Badlapu...</td>\n",
       "      <td>badlapur</td>\n",
       "      <td>669 sqft</td>\n",
       "      <td>₹16,334/Month</td>\n",
       "      <td>₹28.5 Lacs</td>\n",
       "    </tr>\n",
       "    <tr>\n",
       "      <th>5</th>\n",
       "      <td>1 BHK Flat  For Sale  In Umiya In Badlapur</td>\n",
       "      <td>Badlapur west, Manjarli, Near Gauri hall</td>\n",
       "      <td>655 sqft</td>\n",
       "      <td>₹16,048/Month</td>\n",
       "      <td>₹28 Lacs</td>\n",
       "    </tr>\n",
       "    <tr>\n",
       "      <th>6</th>\n",
       "      <td>1 BHK Flat  For Sale  In Precius Heritage  In ...</td>\n",
       "      <td>joveli</td>\n",
       "      <td>610 sqft</td>\n",
       "      <td>₹12,609/Month</td>\n",
       "      <td>₹22 Lacs</td>\n",
       "    </tr>\n",
       "    <tr>\n",
       "      <th>7</th>\n",
       "      <td>1 BHK Flat  For Sale  In Siddhi City In Badlapur</td>\n",
       "      <td>iddhicity Badlapur &amp; Thane (East, Kharvai, Bad...</td>\n",
       "      <td>620 sqft</td>\n",
       "      <td>₹13,468/Month</td>\n",
       "      <td>₹23.5 Lacs</td>\n",
       "    </tr>\n",
       "    <tr>\n",
       "      <th>8</th>\n",
       "      <td>2 BHK Flat  For Sale  In Umi Residency In Badl...</td>\n",
       "      <td>Manjarli</td>\n",
       "      <td>870 sqft</td>\n",
       "      <td>₹20,060/Month</td>\n",
       "      <td>₹35 Lacs</td>\n",
       "    </tr>\n",
       "    <tr>\n",
       "      <th>9</th>\n",
       "      <td>1 BHK Flat  For Sale  In Govindgraj Aparment I...</td>\n",
       "      <td>Badlapur</td>\n",
       "      <td>500 sqft</td>\n",
       "      <td>₹12,609/Month</td>\n",
       "      <td>₹22 Lacs</td>\n",
       "    </tr>\n",
       "  </tbody>\n",
       "</table>\n",
       "</div>"
      ],
      "text/plain": [
       "                                               Title  \\\n",
       "0  1 BHK Flat  For Sale  In Mayur Jagannath Galax...   \n",
       "1  2 BHK Flat  For Sale  In Kendale Emeralds In M...   \n",
       "2  1 BHK Apartment  For Sale  In Aditya Royale In...   \n",
       "3  1 BHK Flat  For Sale  In Sai Vrindavan Anantam...   \n",
       "4  1 BHK Flat  For Sale  In Vishwajeet In Badlapu...   \n",
       "5        1 BHK Flat  For Sale  In Umiya In Badlapur    \n",
       "6  1 BHK Flat  For Sale  In Precius Heritage  In ...   \n",
       "7  1 BHK Flat  For Sale  In Siddhi City In Badlapur    \n",
       "8  2 BHK Flat  For Sale  In Umi Residency In Badl...   \n",
       "9  1 BHK Flat  For Sale  In Govindgraj Aparment I...   \n",
       "\n",
       "                                            Location        Area  \\\n",
       "0                       near badlapur karjat highway    590 sqft   \n",
       "1                           Front of Badlapur D-Mart  1,193 sqft   \n",
       "2  Aditya Royale  Kalyan - Badlapur Rd, Dattanaga...    610 sqft   \n",
       "3                        Belavali near pawar complex    610 sqft   \n",
       "4                                           badlapur    669 sqft   \n",
       "5           Badlapur west, Manjarli, Near Gauri hall    655 sqft   \n",
       "6                                             joveli    610 sqft   \n",
       "7  iddhicity Badlapur & Thane (East, Kharvai, Bad...    620 sqft   \n",
       "8                                           Manjarli    870 sqft   \n",
       "9                                           Badlapur    500 sqft   \n",
       "\n",
       "            Rent       Price  \n",
       "0  ₹11,749/Month  ₹20.5 Lacs  \n",
       "1  ₹28,370/Month  ₹49.5 Lacs  \n",
       "2  ₹14,901/Month    ₹26 Lacs  \n",
       "3  ₹14,901/Month    ₹26 Lacs  \n",
       "4  ₹16,334/Month  ₹28.5 Lacs  \n",
       "5  ₹16,048/Month    ₹28 Lacs  \n",
       "6  ₹12,609/Month    ₹22 Lacs  \n",
       "7  ₹13,468/Month  ₹23.5 Lacs  \n",
       "8  ₹20,060/Month    ₹35 Lacs  \n",
       "9  ₹12,609/Month    ₹22 Lacs  "
      ]
     },
     "execution_count": 354,
     "metadata": {},
     "output_type": "execute_result"
    }
   ],
   "source": [
    "House_Details=pd.DataFrame()\n",
    "\n",
    "House_Details['Title']=house_list\n",
    "House_Details['Location']=location_list\n",
    "House_Details['Area']=area_list\n",
    "House_Details['Rent']=rent_list\n",
    "House_Details['Price']=price_list\n",
    "\n",
    "\n",
    "House_Details"
   ]
  },
  {
   "cell_type": "code",
   "execution_count": null,
   "metadata": {},
   "outputs": [],
   "source": []
  }
 ],
 "metadata": {
  "kernelspec": {
   "display_name": "Python 3",
   "language": "python",
   "name": "python3"
  },
  "language_info": {
   "codemirror_mode": {
    "name": "ipython",
    "version": 3
   },
   "file_extension": ".py",
   "mimetype": "text/x-python",
   "name": "python",
   "nbconvert_exporter": "python",
   "pygments_lexer": "ipython3",
   "version": "3.8.3"
  }
 },
 "nbformat": 4,
 "nbformat_minor": 4
}
